{
 "cells": [
  {
   "cell_type": "markdown",
   "metadata": {},
   "source": [
    "# Gradient Descent\n",
    "\n",
    "<img src=\"https://i2.wp.com/lh6.ggpht.com/-5RFMcz2bzWI/VA9NuUkB_vI/AAAAAAAAAdM/_DqqYO0nbX4/im2_thumb%25255B1%25255D.png\"></img>\n",
    "\n",
    "Gradient descent is the most important algorithm in machine learning (ML). It is used in almost all the ML models and is what differentiate traditional statistics from ML. By optimizing the parameters of the gradient descent we optimize the predictive model.\n",
    " \n",
    "To understand gradient descent, we need to define some important concepts.\n",
    " \n"
   ]
  },
  {
   "cell_type": "markdown",
   "metadata": {},
   "source": [
    "## Loss function\n",
    "\n",
    "The loss function, also known as the cost function, is the measure we will use to calibrate the model. There are many types of loss functions. The selection of the loss function depends on the algorithm we want to run, and the question we want to answer (how we want to model the Y).\n",
    " \n",
    "One of the most commonly used loss function is the Log-loss. The formula of the MSE is:\n",
    " \n",
    "<b> \n",
    "J(w,b) = - 𝞢(ylogŷ + (1-y)log(1-ŷ))/ n\n",
    "\n",
    "</b> \n",
    " \n",
    "This mean that we take difference between the real y and the predicted-y, square each of them, and sum all and divide by the number of rows in the dataset.\n"
   ]
  },
  {
   "cell_type": "code",
   "execution_count": 2,
   "metadata": {},
   "outputs": [],
   "source": [
    "loss_function <- function(y,pred) { \n",
    "    return(-sum((y*log(pred))+((1-y)*log(1-pred)))/length(y) )\n",
    "}"
   ]
  },
  {
   "cell_type": "markdown",
   "metadata": {},
   "source": [
    "\n",
    "## Global Minima\n",
    "The global minima of the loss function is defined as the smallest value of the loss function. In other words, we find the global minima when we reduce the error at the lowest possible value.\n",
    "\n",
    "<img src=\"https://cdn-images-1.medium.com/max/602/0*gWBpMIJ7yRVAaAIA.\"></img>\n",
    "\n",
    "## Learning rate\n",
    " \n",
    "The learning rate can be defined as the number of 'jumps' we make when trying to reduce the global minima while calculating the optimal values for the weights. We have to be careful with this parameter because a high value may miss out the global minima, while a very low value will increase a lot the calculation time. The learning rate parameter in many functions is called as <b> alpha </b>.\n",
    "\n",
    "<table><tr>\n",
    "    <td cols=\"2\"> \n",
    "        <h2> Problems caused by too low or high learning rates </h2> \n",
    "    </td>\n",
    "    </tr><tr>\n",
    "    <td> \n",
    "        <img src=\"https://encrypted-tbn0.gstatic.com/images?q=tbn:ANd9GcSDZHOlr8UTVvLoA3adcxB7FQsVPusBU7lPSsVB-lunzaEPwahAQg\" width=\"400\" height=\"200\"></img> \n",
    "        <br> <h4> High Learning Rate </h4>\n",
    "    </td>\n",
    "    <td> \n",
    "        <img src=\"https://www.oreilly.com/library/view/hands-on-machine-learning/9781491962282/assets/mlst_0403.png\" width=\"400\" height=\"200\"></img> \n",
    "        <br> <h4> Low Learning Rate </h4>\n",
    "    </td>\n",
    "</tr></table>"
   ]
  },
  {
   "cell_type": "markdown",
   "metadata": {},
   "source": [
    "## Gradient Descent\n",
    " \n",
    "The formula for the calculation of the gradient descent is:\n",
    " \n",
    "<img src=\"https://i2.wp.com/2.bp.blogspot.com/-ZxJ87cWjPJ8/TtLtwqv0hCI/AAAAAAAAAV0/9FYqcxJ6dNY/s320/gradient+descent+algorithm+OLS.png?zoom=1.25&resize=320%2C181\"></img>\n",
    " \n",
    "This means that the values of the weights (called theta or ϴ) are calculated using the loss function (Jϴ).\n",
    " \n",
    "The initial theta values are generated randomly and the loss function is calculated using them. The calculation is made as follows:\n",
    " \n",
    " \n",
    "<center>\n",
    "    Y-hat = ϴ<sub>0</sub> + x<sub>1</sub>ϴ<sub>1</sub> + … + x<sub>n</sub>ϴ<sub>n</sub>\n",
    "</center>\n",
    " \n",
    "Then the loss function is calculated. If the model did not converged (the global minima was not reached), we increase/decrease theta by the learning rate, and recalculate the newly predicted Y (Y-hat). This is repeated until the global minima is reached.\n",
    " \n"
   ]
  },
  {
   "cell_type": "code",
   "execution_count": 11,
   "metadata": {},
   "outputs": [],
   "source": [
    "sigma <- function(z) {\n",
    "   yhat <- 1/(1+exp(-z))\n",
    "   return(yhat)\n",
    "}"
   ]
  },
  {
   "cell_type": "code",
   "execution_count": 12,
   "metadata": {},
   "outputs": [],
   "source": [
    "### The gradient descent requires two values: learning rate and number of iterations.\n",
    "\n",
    "gradientDesc <- function(x, y, learn_rate=1e-6, max_iter=1e3) {\n",
    "  #plot(x, y, col = \"blue\", pch = 20)\n",
    "  conv_threshold <- 1e-4\n",
    "  n <- length(y)\n",
    "  m <- runif(1, 0, 1)\n",
    "  c <- runif(1, 0, 1)\n",
    "  yhat <- sigma(m * x + c)\n",
    "  cost <- loss_function(y,yhat)\n",
    "  converged = F\n",
    "  iterations = 0\n",
    "  while(converged == F) {\n",
    "    ## Implement the gradient descent algorithm\n",
    "    m_new <- m - learn_rate * (sum((yhat - y) * x))\n",
    "    c_new <- c - learn_rate * (sum(yhat - y))\n",
    "    m <- m_new\n",
    "    c <- c_new\n",
    "    yhat <- sigma(m * x + c)\n",
    "    cost_new <- loss_function(y,yhat)\n",
    "    if(cost - cost_new <= conv_threshold) {\n",
    "      #abline(c, m) \n",
    "      converged = T\n",
    "      print(paste(\"Optimal intercept:\", c, \"Optimal slope:\", m))\n",
    "      return(data.frame(w=m,b=c,loss=cost_new))\n",
    "    }\n",
    "    iterations = iterations + 1\n",
    "    if(iterations > max_iter) { \n",
    "      #abline(c, m) \n",
    "      converged = T\n",
    "      print(paste(\"Optimal intercept:\", c, \"Optimal slope:\", m))\n",
    "      return(data.frame(w=m,b=c,loss=cost_new))\n",
    "    }\n",
    "  }\n",
    "}\n",
    "\n",
    "\n"
   ]
  },
  {
   "cell_type": "code",
   "execution_count": 6,
   "metadata": {},
   "outputs": [
    {
     "name": "stdout",
     "output_type": "stream",
     "text": [
      "[1] \"Optimal intercept: 12.0403061856611 Optimal slope: -4.02394986162987\"\n"
     ]
    },
    {
     "data": {
      "text/html": [
       "<table>\n",
       "<thead><tr><th scope=col>w</th><th scope=col>b</th><th scope=col>loss</th></tr></thead>\n",
       "<tbody>\n",
       "\t<tr><td>-4.02395 </td><td>12.04031 </td><td>0.2996263</td></tr>\n",
       "</tbody>\n",
       "</table>\n"
      ],
      "text/latex": [
       "\\begin{tabular}{r|lll}\n",
       " w & b & loss\\\\\n",
       "\\hline\n",
       "\t -4.02395  & 12.04031  & 0.2996263\\\\\n",
       "\\end{tabular}\n"
      ],
      "text/markdown": [
       "\n",
       "| w | b | loss |\n",
       "|---|---|---|\n",
       "| -4.02395  | 12.04031  | 0.2996263 |\n",
       "\n"
      ],
      "text/plain": [
       "  w        b        loss     \n",
       "1 -4.02395 12.04031 0.2996263"
      ]
     },
     "metadata": {},
     "output_type": "display_data"
    }
   ],
   "source": [
    "# Run the function \n",
    "gradientDesc(mtcars$wt, mtcars$am, 0.0001, 2500000)\n"
   ]
  },
  {
   "cell_type": "code",
   "execution_count": 5,
   "metadata": {},
   "outputs": [
    {
     "data": {
      "text/html": [
       "<style>\n",
       ".dl-inline {width: auto; margin:0; padding: 0}\n",
       ".dl-inline>dt, .dl-inline>dd {float: none; width: auto; display: inline-block}\n",
       ".dl-inline>dt::after {content: \":\\0020\"; padding-right: .5ex}\n",
       ".dl-inline>dt:not(:first-of-type) {padding-left: .5ex}\n",
       "</style><dl class=dl-inline><dt>(Intercept)</dt><dd>12.0403696589627</dd><dt>mtcars$wt</dt><dd>-4.0239699403279</dd></dl>\n"
      ],
      "text/latex": [
       "\\begin{description*}\n",
       "\\item[(Intercept)] 12.0403696589627\n",
       "\\item[mtcars\\textbackslash{}\\$wt] -4.0239699403279\n",
       "\\end{description*}\n"
      ],
      "text/markdown": [
       "(Intercept)\n",
       ":   12.0403696589627mtcars$wt\n",
       ":   -4.0239699403279\n",
       "\n"
      ],
      "text/plain": [
       "(Intercept)   mtcars$wt \n",
       "   12.04037    -4.02397 "
      ]
     },
     "metadata": {},
     "output_type": "display_data"
    }
   ],
   "source": [
    "mod <- glm(mtcars$am ~ mtcars$wt,family=\"binomial\")\n",
    "mod$coefficients"
   ]
  },
  {
   "cell_type": "code",
   "execution_count": 23,
   "metadata": {},
   "outputs": [],
   "source": [
    "library(dplyr)\n",
    "library(ggplot2)"
   ]
  },
  {
   "cell_type": "code",
   "execution_count": 21,
   "metadata": {},
   "outputs": [
    {
     "name": "stdout",
     "output_type": "stream",
     "text": [
      "[1] \"Optimal intercept: -0.9041862927206 Optimal slope: -5.03825304631068\"\n",
      "[1] \"Optimal intercept: 2.24232208191224 Optimal slope: -0.910143326550316\"\n",
      "[1] \"Optimal intercept: 0.329692893800573 Optimal slope: -0.32600630552521\"\n",
      "[1] \"Optimal intercept: 0.579600451788943 Optimal slope: 0.0202518852064509\"\n",
      "[1] \"Optimal intercept: 0.970606377131745 Optimal slope: -0.0118093115052198\"\n",
      "[1] \"Optimal intercept: 0.748792671099923 Optimal slope: 0.511353609389838\"\n",
      "[1] \"Optimal intercept: -0.999387949700146 Optimal slope: -5.99658013080776\"\n",
      "[1] \"Optimal intercept: 7.79517187353246 Optimal slope: -2.67696744491788\"\n",
      "[1] \"Optimal intercept: 2.50520038310694 Optimal slope: -0.992452083797371\"\n",
      "[1] \"Optimal intercept: 0.380644686280799 Optimal slope: -0.341127795005047\"\n",
      "[1] \"Optimal intercept: 0.242614484375177 Optimal slope: 0.0361982963926475\"\n",
      "[1] \"Optimal intercept: 0.229876908166708 Optimal slope: 0.0875963624808837\"\n",
      "[1] \"Optimal intercept: -1.63490318957038 Optimal slope: -5.73156228023402\"\n",
      "[1] \"Optimal intercept: 11.9878843412847 Optimal slope: -4.00736679194571\"\n",
      "[1] \"Optimal intercept: 7.84420899126589 Optimal slope: -2.69258447969147\"\n",
      "[1] \"Optimal intercept: 2.10850561418146 Optimal slope: -0.868395149871623\"\n",
      "[1] \"Optimal intercept: 0.702472772554691 Optimal slope: -0.437216648762793\"\n",
      "[1] \"Optimal intercept: 0.380073103842579 Optimal slope: 0.0127471453693139\"\n",
      "[1] \"Optimal intercept: -0.741592595221348 Optimal slope: -4.45753549840484\"\n",
      "[1] \"Optimal intercept: 12.0403697286552 Optimal slope: -4.02396996217254\"\n",
      "[1] \"Optimal intercept: 11.988509786308 Optimal slope: -4.00756465019866\"\n",
      "[1] \"Optimal intercept: 7.7798530508114 Optimal slope: -2.67208848605479\"\n",
      "[1] \"Optimal intercept: 2.37107166585858 Optimal slope: -0.950409694098578\"\n",
      "[1] \"Optimal intercept: 1.01251229452148 Optimal slope: -0.530877543279889\"\n",
      "[1] \"Optimal intercept: -0.740651216949857 Optimal slope: -5.78195222145578\"\n",
      "[1] \"Optimal intercept: 12.0403697286552 Optimal slope: -4.02396996217254\"\n",
      "[1] \"Optimal intercept: 12.0403697286364 Optimal slope: -4.02396996216659\"\n",
      "[1] \"Optimal intercept: 11.9880145810602 Optimal slope: -4.00740799304315\"\n",
      "[1] \"Optimal intercept: 7.78600093468509 Optimal slope: -2.67404656746045\"\n",
      "[1] \"Optimal intercept: 0.389324573493766 Optimal slope: 0.14702654669607\"\n",
      "[1] \"Optimal intercept: -0.310007134502713 Optimal slope: -2.32209175962495\"\n",
      "[1] \"Optimal intercept: 12.0403697286552 Optimal slope: -4.02396996217254\"\n",
      "[1] \"Optimal intercept: 12.0403697286364 Optimal slope: -4.02396996216659\"\n",
      "[1] \"Optimal intercept: 12.0403697284481 Optimal slope: -4.02396996210698\"\n",
      "[1] \"Optimal intercept: 11.9879862997152 Optimal slope: -4.0073990462956\"\n",
      "[1] \"Optimal intercept: 7.81273568688569 Optimal slope: -2.68256122667914\"\n"
     ]
    }
   ],
   "source": [
    "## iterating with the learning rate and number of iterations\n",
    "res <- NULL\n",
    "\n",
    "learning_rate <- c(1e-1,1e-2,1e-3,1e-4,1e-5,1e-6)\n",
    "number_iterations <- c(1e2,1e3,1e4,1e5,1e6,1e7)\n",
    "for (iter in number_iterations) {\n",
    "    for (lr in learning_rate) {\n",
    "        gd <- gradientDesc(mtcars$wt, mtcars$am, lr, iter)\n",
    "        res <- rbind(res, data.frame(cbind(number_iterations=iter,learning_rate=lr, gd)))\n",
    "    }\n",
    "}\n"
   ]
  },
  {
   "cell_type": "code",
   "execution_count": 17,
   "metadata": {},
   "outputs": [
    {
     "data": {
      "text/html": [
       "<table>\n",
       "<thead><tr><th scope=col>number_iterations</th><th scope=col>learning_rate</th><th scope=col>w</th><th scope=col>b</th><th scope=col>loss</th></tr></thead>\n",
       "<tbody>\n",
       "\t<tr><td>1e+02      </td><td>1e-06      </td><td> 0.37066584</td><td> 0.3078896 </td><td>1.2228398  </td></tr>\n",
       "\t<tr><td>1e+03      </td><td>1e-06      </td><td> 0.41942498</td><td> 0.4546044 </td><td>1.3705127  </td></tr>\n",
       "\t<tr><td>1e+04      </td><td>1e-06      </td><td> 0.07023608</td><td> 0.7837705 </td><td>0.9336345  </td></tr>\n",
       "\t<tr><td>1e+05      </td><td>1e-06      </td><td>-0.29377255</td><td> 0.2216247 </td><td>0.6017725  </td></tr>\n",
       "\t<tr><td>1e+06      </td><td>1e-06      </td><td>-0.89604943</td><td> 2.1971823 </td><td>0.4687447  </td></tr>\n",
       "\t<tr><td>1e+07      </td><td>1e-06      </td><td> 0.05393369</td><td> 0.7563529 </td><td>0.9026600  </td></tr>\n",
       "\t<tr><td>1e+02      </td><td>1e-05      </td><td> 0.56667729</td><td> 0.8920667 </td><td>1.8703303  </td></tr>\n",
       "\t<tr><td>1e+03      </td><td>1e-05      </td><td> 0.35587281</td><td> 0.2823771 </td><td>1.1880084  </td></tr>\n",
       "\t<tr><td>1e+04      </td><td>1e-05      </td><td>-0.28762210</td><td> 0.2010211 </td><td>0.6034969  </td></tr>\n",
       "\t<tr><td>1e+05      </td><td>1e-05      </td><td>-0.83433711</td><td> 1.9990816 </td><td>0.4794234  </td></tr>\n",
       "\t<tr><td>1e+06      </td><td>1e-05      </td><td>-2.70349828</td><td> 7.8784808 </td><td>0.3173789  </td></tr>\n",
       "\t<tr><td>1e+07      </td><td>1e-05      </td><td>-4.00757177</td><td>11.9885323 </td><td>0.2996284  </td></tr>\n",
       "\t<tr><td>1e+02      </td><td>1e-04      </td><td> 0.20524086</td><td> 0.3042163 </td><td>0.9666837  </td></tr>\n",
       "\t<tr><td>1e+03      </td><td>1e-04      </td><td>-0.26238937</td><td> 0.1152591 </td><td>0.6107466  </td></tr>\n",
       "\t<tr><td>1e+04      </td><td>1e-04      </td><td>-0.90628881</td><td> 2.2299784 </td><td>0.4670279  </td></tr>\n",
       "\t<tr><td>1e+05      </td><td>1e-04      </td><td>-2.70097741</td><td> 7.8705645 </td><td>0.3174576  </td></tr>\n",
       "\t<tr><td>1e+06      </td><td>1e-04      </td><td>-4.00759171</td><td>11.9885953 </td><td>0.2996284  </td></tr>\n",
       "\t<tr><td>1e+07      </td><td>1e-04      </td><td>-4.02396996</td><td>12.0403697 </td><td>0.2996263  </td></tr>\n",
       "\t<tr><td>1e+02      </td><td>1e-03      </td><td>-0.29634724</td><td> 0.2299562 </td><td>0.6010752  </td></tr>\n",
       "\t<tr><td>1e+03      </td><td>1e-03      </td><td>-0.87692547</td><td> 2.1358756 </td><td>0.4719925  </td></tr>\n",
       "\t<tr><td>1e+04      </td><td>1e-03      </td><td>-2.67208223</td><td> 7.7798334 </td><td>0.3183757  </td></tr>\n",
       "\t<tr><td>1e+05      </td><td>1e-03      </td><td>-4.00740923</td><td>11.9880185 </td><td>0.2996284  </td></tr>\n",
       "\t<tr><td>1e+06      </td><td>1e-03      </td><td>-4.02396996</td><td>12.0403697 </td><td>0.2996263  </td></tr>\n",
       "\t<tr><td>1e+07      </td><td>1e-03      </td><td>-4.02396996</td><td>12.0403697 </td><td>0.2996263  </td></tr>\n",
       "\t<tr><td>1e+02      </td><td>1e-02      </td><td>-0.96596481</td><td> 2.4207349 </td><td>0.4573224  </td></tr>\n",
       "\t<tr><td>1e+03      </td><td>1e-02      </td><td>-2.68918143</td><td> 7.8335231 </td><td>0.3178288  </td></tr>\n",
       "\t<tr><td>1e+04      </td><td>1e-02      </td><td>-4.00753104</td><td>11.9884035 </td><td>0.2996284  </td></tr>\n",
       "\t<tr><td>1e+05      </td><td>1e-02      </td><td>-4.02396996</td><td>12.0403697 </td><td>0.2996263  </td></tr>\n",
       "\t<tr><td>1e+06      </td><td>1e-02      </td><td>-4.02396996</td><td>12.0403697 </td><td>0.2996263  </td></tr>\n",
       "\t<tr><td>1e+07      </td><td>1e-02      </td><td>-4.02396996</td><td>12.0403697 </td><td>0.2996263  </td></tr>\n",
       "\t<tr><td>1e+02      </td><td>1e-01      </td><td>-6.01380865</td><td>-0.9585898 </td><td>6.2797672  </td></tr>\n",
       "\t<tr><td>1e+03      </td><td>1e-01      </td><td>-5.74785118</td><td>-0.9267632 </td><td>6.0063420  </td></tr>\n",
       "\t<tr><td>1e+04      </td><td>1e-01      </td><td>-4.89588109</td><td>-0.6210745 </td><td>5.0476950  </td></tr>\n",
       "\t<tr><td>1e+05      </td><td>1e-01      </td><td>-5.55811116</td><td>-1.0598395 </td><td>5.8745606  </td></tr>\n",
       "\t<tr><td>1e+06      </td><td>1e-01      </td><td>-4.39059187</td><td>-1.0362380 </td><td>4.7214513  </td></tr>\n",
       "\t<tr><td>1e+07      </td><td>1e-01      </td><td>-5.83019399</td><td>-1.4660648 </td><td>6.3060836  </td></tr>\n",
       "</tbody>\n",
       "</table>\n"
      ],
      "text/latex": [
       "\\begin{tabular}{r|lllll}\n",
       " number\\_iterations & learning\\_rate & w & b & loss\\\\\n",
       "\\hline\n",
       "\t 1e+02       & 1e-06       &  0.37066584 &  0.3078896  & 1.2228398  \\\\\n",
       "\t 1e+03       & 1e-06       &  0.41942498 &  0.4546044  & 1.3705127  \\\\\n",
       "\t 1e+04       & 1e-06       &  0.07023608 &  0.7837705  & 0.9336345  \\\\\n",
       "\t 1e+05       & 1e-06       & -0.29377255 &  0.2216247  & 0.6017725  \\\\\n",
       "\t 1e+06       & 1e-06       & -0.89604943 &  2.1971823  & 0.4687447  \\\\\n",
       "\t 1e+07       & 1e-06       &  0.05393369 &  0.7563529  & 0.9026600  \\\\\n",
       "\t 1e+02       & 1e-05       &  0.56667729 &  0.8920667  & 1.8703303  \\\\\n",
       "\t 1e+03       & 1e-05       &  0.35587281 &  0.2823771  & 1.1880084  \\\\\n",
       "\t 1e+04       & 1e-05       & -0.28762210 &  0.2010211  & 0.6034969  \\\\\n",
       "\t 1e+05       & 1e-05       & -0.83433711 &  1.9990816  & 0.4794234  \\\\\n",
       "\t 1e+06       & 1e-05       & -2.70349828 &  7.8784808  & 0.3173789  \\\\\n",
       "\t 1e+07       & 1e-05       & -4.00757177 & 11.9885323  & 0.2996284  \\\\\n",
       "\t 1e+02       & 1e-04       &  0.20524086 &  0.3042163  & 0.9666837  \\\\\n",
       "\t 1e+03       & 1e-04       & -0.26238937 &  0.1152591  & 0.6107466  \\\\\n",
       "\t 1e+04       & 1e-04       & -0.90628881 &  2.2299784  & 0.4670279  \\\\\n",
       "\t 1e+05       & 1e-04       & -2.70097741 &  7.8705645  & 0.3174576  \\\\\n",
       "\t 1e+06       & 1e-04       & -4.00759171 & 11.9885953  & 0.2996284  \\\\\n",
       "\t 1e+07       & 1e-04       & -4.02396996 & 12.0403697  & 0.2996263  \\\\\n",
       "\t 1e+02       & 1e-03       & -0.29634724 &  0.2299562  & 0.6010752  \\\\\n",
       "\t 1e+03       & 1e-03       & -0.87692547 &  2.1358756  & 0.4719925  \\\\\n",
       "\t 1e+04       & 1e-03       & -2.67208223 &  7.7798334  & 0.3183757  \\\\\n",
       "\t 1e+05       & 1e-03       & -4.00740923 & 11.9880185  & 0.2996284  \\\\\n",
       "\t 1e+06       & 1e-03       & -4.02396996 & 12.0403697  & 0.2996263  \\\\\n",
       "\t 1e+07       & 1e-03       & -4.02396996 & 12.0403697  & 0.2996263  \\\\\n",
       "\t 1e+02       & 1e-02       & -0.96596481 &  2.4207349  & 0.4573224  \\\\\n",
       "\t 1e+03       & 1e-02       & -2.68918143 &  7.8335231  & 0.3178288  \\\\\n",
       "\t 1e+04       & 1e-02       & -4.00753104 & 11.9884035  & 0.2996284  \\\\\n",
       "\t 1e+05       & 1e-02       & -4.02396996 & 12.0403697  & 0.2996263  \\\\\n",
       "\t 1e+06       & 1e-02       & -4.02396996 & 12.0403697  & 0.2996263  \\\\\n",
       "\t 1e+07       & 1e-02       & -4.02396996 & 12.0403697  & 0.2996263  \\\\\n",
       "\t 1e+02       & 1e-01       & -6.01380865 & -0.9585898  & 6.2797672  \\\\\n",
       "\t 1e+03       & 1e-01       & -5.74785118 & -0.9267632  & 6.0063420  \\\\\n",
       "\t 1e+04       & 1e-01       & -4.89588109 & -0.6210745  & 5.0476950  \\\\\n",
       "\t 1e+05       & 1e-01       & -5.55811116 & -1.0598395  & 5.8745606  \\\\\n",
       "\t 1e+06       & 1e-01       & -4.39059187 & -1.0362380  & 4.7214513  \\\\\n",
       "\t 1e+07       & 1e-01       & -5.83019399 & -1.4660648  & 6.3060836  \\\\\n",
       "\\end{tabular}\n"
      ],
      "text/markdown": [
       "\n",
       "| number_iterations | learning_rate | w | b | loss |\n",
       "|---|---|---|---|---|\n",
       "| 1e+02       | 1e-06       |  0.37066584 |  0.3078896  | 1.2228398   |\n",
       "| 1e+03       | 1e-06       |  0.41942498 |  0.4546044  | 1.3705127   |\n",
       "| 1e+04       | 1e-06       |  0.07023608 |  0.7837705  | 0.9336345   |\n",
       "| 1e+05       | 1e-06       | -0.29377255 |  0.2216247  | 0.6017725   |\n",
       "| 1e+06       | 1e-06       | -0.89604943 |  2.1971823  | 0.4687447   |\n",
       "| 1e+07       | 1e-06       |  0.05393369 |  0.7563529  | 0.9026600   |\n",
       "| 1e+02       | 1e-05       |  0.56667729 |  0.8920667  | 1.8703303   |\n",
       "| 1e+03       | 1e-05       |  0.35587281 |  0.2823771  | 1.1880084   |\n",
       "| 1e+04       | 1e-05       | -0.28762210 |  0.2010211  | 0.6034969   |\n",
       "| 1e+05       | 1e-05       | -0.83433711 |  1.9990816  | 0.4794234   |\n",
       "| 1e+06       | 1e-05       | -2.70349828 |  7.8784808  | 0.3173789   |\n",
       "| 1e+07       | 1e-05       | -4.00757177 | 11.9885323  | 0.2996284   |\n",
       "| 1e+02       | 1e-04       |  0.20524086 |  0.3042163  | 0.9666837   |\n",
       "| 1e+03       | 1e-04       | -0.26238937 |  0.1152591  | 0.6107466   |\n",
       "| 1e+04       | 1e-04       | -0.90628881 |  2.2299784  | 0.4670279   |\n",
       "| 1e+05       | 1e-04       | -2.70097741 |  7.8705645  | 0.3174576   |\n",
       "| 1e+06       | 1e-04       | -4.00759171 | 11.9885953  | 0.2996284   |\n",
       "| 1e+07       | 1e-04       | -4.02396996 | 12.0403697  | 0.2996263   |\n",
       "| 1e+02       | 1e-03       | -0.29634724 |  0.2299562  | 0.6010752   |\n",
       "| 1e+03       | 1e-03       | -0.87692547 |  2.1358756  | 0.4719925   |\n",
       "| 1e+04       | 1e-03       | -2.67208223 |  7.7798334  | 0.3183757   |\n",
       "| 1e+05       | 1e-03       | -4.00740923 | 11.9880185  | 0.2996284   |\n",
       "| 1e+06       | 1e-03       | -4.02396996 | 12.0403697  | 0.2996263   |\n",
       "| 1e+07       | 1e-03       | -4.02396996 | 12.0403697  | 0.2996263   |\n",
       "| 1e+02       | 1e-02       | -0.96596481 |  2.4207349  | 0.4573224   |\n",
       "| 1e+03       | 1e-02       | -2.68918143 |  7.8335231  | 0.3178288   |\n",
       "| 1e+04       | 1e-02       | -4.00753104 | 11.9884035  | 0.2996284   |\n",
       "| 1e+05       | 1e-02       | -4.02396996 | 12.0403697  | 0.2996263   |\n",
       "| 1e+06       | 1e-02       | -4.02396996 | 12.0403697  | 0.2996263   |\n",
       "| 1e+07       | 1e-02       | -4.02396996 | 12.0403697  | 0.2996263   |\n",
       "| 1e+02       | 1e-01       | -6.01380865 | -0.9585898  | 6.2797672   |\n",
       "| 1e+03       | 1e-01       | -5.74785118 | -0.9267632  | 6.0063420   |\n",
       "| 1e+04       | 1e-01       | -4.89588109 | -0.6210745  | 5.0476950   |\n",
       "| 1e+05       | 1e-01       | -5.55811116 | -1.0598395  | 5.8745606   |\n",
       "| 1e+06       | 1e-01       | -4.39059187 | -1.0362380  | 4.7214513   |\n",
       "| 1e+07       | 1e-01       | -5.83019399 | -1.4660648  | 6.3060836   |\n",
       "\n"
      ],
      "text/plain": [
       "   number_iterations learning_rate w           b          loss     \n",
       "1  1e+02             1e-06          0.37066584  0.3078896 1.2228398\n",
       "2  1e+03             1e-06          0.41942498  0.4546044 1.3705127\n",
       "3  1e+04             1e-06          0.07023608  0.7837705 0.9336345\n",
       "4  1e+05             1e-06         -0.29377255  0.2216247 0.6017725\n",
       "5  1e+06             1e-06         -0.89604943  2.1971823 0.4687447\n",
       "6  1e+07             1e-06          0.05393369  0.7563529 0.9026600\n",
       "7  1e+02             1e-05          0.56667729  0.8920667 1.8703303\n",
       "8  1e+03             1e-05          0.35587281  0.2823771 1.1880084\n",
       "9  1e+04             1e-05         -0.28762210  0.2010211 0.6034969\n",
       "10 1e+05             1e-05         -0.83433711  1.9990816 0.4794234\n",
       "11 1e+06             1e-05         -2.70349828  7.8784808 0.3173789\n",
       "12 1e+07             1e-05         -4.00757177 11.9885323 0.2996284\n",
       "13 1e+02             1e-04          0.20524086  0.3042163 0.9666837\n",
       "14 1e+03             1e-04         -0.26238937  0.1152591 0.6107466\n",
       "15 1e+04             1e-04         -0.90628881  2.2299784 0.4670279\n",
       "16 1e+05             1e-04         -2.70097741  7.8705645 0.3174576\n",
       "17 1e+06             1e-04         -4.00759171 11.9885953 0.2996284\n",
       "18 1e+07             1e-04         -4.02396996 12.0403697 0.2996263\n",
       "19 1e+02             1e-03         -0.29634724  0.2299562 0.6010752\n",
       "20 1e+03             1e-03         -0.87692547  2.1358756 0.4719925\n",
       "21 1e+04             1e-03         -2.67208223  7.7798334 0.3183757\n",
       "22 1e+05             1e-03         -4.00740923 11.9880185 0.2996284\n",
       "23 1e+06             1e-03         -4.02396996 12.0403697 0.2996263\n",
       "24 1e+07             1e-03         -4.02396996 12.0403697 0.2996263\n",
       "25 1e+02             1e-02         -0.96596481  2.4207349 0.4573224\n",
       "26 1e+03             1e-02         -2.68918143  7.8335231 0.3178288\n",
       "27 1e+04             1e-02         -4.00753104 11.9884035 0.2996284\n",
       "28 1e+05             1e-02         -4.02396996 12.0403697 0.2996263\n",
       "29 1e+06             1e-02         -4.02396996 12.0403697 0.2996263\n",
       "30 1e+07             1e-02         -4.02396996 12.0403697 0.2996263\n",
       "31 1e+02             1e-01         -6.01380865 -0.9585898 6.2797672\n",
       "32 1e+03             1e-01         -5.74785118 -0.9267632 6.0063420\n",
       "33 1e+04             1e-01         -4.89588109 -0.6210745 5.0476950\n",
       "34 1e+05             1e-01         -5.55811116 -1.0598395 5.8745606\n",
       "35 1e+06             1e-01         -4.39059187 -1.0362380 4.7214513\n",
       "36 1e+07             1e-01         -5.83019399 -1.4660648 6.3060836"
      ]
     },
     "metadata": {},
     "output_type": "display_data"
    }
   ],
   "source": [
    "res <- res %>% arrange(learning_rate,number_iterations)\n",
    "res"
   ]
  },
  {
   "cell_type": "code",
   "execution_count": 20,
   "metadata": {},
   "outputs": [
    {
     "data": {
      "image/png": "[encoded data removed]",
      "text/plain": [
       "plot without title"
      ]
     },
     "metadata": {},
     "output_type": "display_data"
    }
   ],
   "source": [
    "options(repr.plot.width = 17, repr.plot.height = 10)\n",
    "ggplot(data=res) +\n",
    "  geom_line(aes(x=learning_rate, y=loss, color=factor(number_iterations), group=factor(number_iterations))) +\n",
    "  scale_x_reverse()"
   ]
  },
  {
   "cell_type": "code",
   "execution_count": 40,
   "metadata": {},
   "outputs": [
    {
     "data": {
      "image/png": "[encoded data removed]",
      "text/plain": [
       "plot without title"
      ]
     },
     "metadata": {
      "image/png": {
       "height": 600,
       "width": 1020
      }
     },
     "output_type": "display_data"
    }
   ],
   "source": [
    "options(repr.plot.width = 17, repr.plot.height = 10)\n",
    "ggplot(data=res) +\n",
    "  geom_line(aes(x=log10(learning_rate), y=loss, color=factor(number_iterations), group=factor(number_iterations))) +\n",
    "  scale_x_reverse()"
   ]
  },
  {
   "cell_type": "code",
   "execution_count": 42,
   "metadata": {},
   "outputs": [
    {
     "data": {
      "text/html": [
       "<table>\n",
       "<caption>A data.frame: 36 × 5</caption>\n",
       "<thead>\n",
       "\t<tr><th scope=col>number_iterations</th><th scope=col>learning_rate</th><th scope=col>w</th><th scope=col>b</th><th scope=col>loss</th></tr>\n",
       "\t<tr><th scope=col>&lt;dbl&gt;</th><th scope=col>&lt;dbl&gt;</th><th scope=col>&lt;dbl&gt;</th><th scope=col>&lt;dbl&gt;</th><th scope=col>&lt;dbl&gt;</th></tr>\n",
       "</thead>\n",
       "<tbody>\n",
       "\t<tr><td>1e+07</td><td>1e-04</td><td>-4.0239700</td><td>12.0403697</td><td>0.2996263</td></tr>\n",
       "\t<tr><td>1e+06</td><td>1e-03</td><td>-4.0239700</td><td>12.0403697</td><td>0.2996263</td></tr>\n",
       "\t<tr><td>1e+07</td><td>1e-03</td><td>-4.0239700</td><td>12.0403697</td><td>0.2996263</td></tr>\n",
       "\t<tr><td>1e+05</td><td>1e-02</td><td>-4.0239700</td><td>12.0403697</td><td>0.2996263</td></tr>\n",
       "\t<tr><td>1e+06</td><td>1e-02</td><td>-4.0239700</td><td>12.0403697</td><td>0.2996263</td></tr>\n",
       "\t<tr><td>1e+07</td><td>1e-02</td><td>-4.0239700</td><td>12.0403697</td><td>0.2996263</td></tr>\n",
       "\t<tr><td>1e+05</td><td>1e-03</td><td>-4.0075837</td><td>11.9885701</td><td>0.2996284</td></tr>\n",
       "\t<tr><td>1e+07</td><td>1e-05</td><td>-4.0075645</td><td>11.9885094</td><td>0.2996284</td></tr>\n",
       "\t<tr><td>1e+06</td><td>1e-04</td><td>-4.0074418</td><td>11.9881215</td><td>0.2996284</td></tr>\n",
       "\t<tr><td>1e+04</td><td>1e-02</td><td>-4.0073909</td><td>11.9879604</td><td>0.2996284</td></tr>\n",
       "\t<tr><td>1e+06</td><td>1e-05</td><td>-2.7049168</td><td> 7.8829354</td><td>0.3173347</td></tr>\n",
       "\t<tr><td>1e+05</td><td>1e-04</td><td>-2.7042971</td><td> 7.8809894</td><td>0.3173540</td></tr>\n",
       "\t<tr><td>1e+07</td><td>1e-06</td><td>-2.7032639</td><td> 7.8777449</td><td>0.3173862</td></tr>\n",
       "\t<tr><td>1e+03</td><td>1e-02</td><td>-2.6874340</td><td> 7.8280361</td><td>0.3178842</td></tr>\n",
       "\t<tr><td>1e+04</td><td>1e-03</td><td>-2.6843977</td><td> 7.8185020</td><td>0.3179807</td></tr>\n",
       "\t<tr><td>1e+03</td><td>1e-03</td><td>-0.9608489</td><td> 2.4044044</td><td>0.4581348</td></tr>\n",
       "\t<tr><td>1e+06</td><td>1e-06</td><td>-0.9595317</td><td> 2.4001994</td><td>0.4583445</td></tr>\n",
       "\t<tr><td>1e+02</td><td>1e-02</td><td>-0.9560504</td><td> 2.3890876</td><td>0.4588999</td></tr>\n",
       "\t<tr><td>1e+04</td><td>1e-04</td><td>-0.8912426</td><td> 2.1817794</td><td>0.4695559</td></tr>\n",
       "\t<tr><td>1e+05</td><td>1e-05</td><td>-0.8472497</td><td> 2.0405965</td><td>0.4771411</td></tr>\n",
       "\t<tr><td>1e+04</td><td>1e-05</td><td>-0.4898772</td><td> 0.8771034</td><td>0.5507422</td></tr>\n",
       "\t<tr><td>1e+02</td><td>1e-03</td><td>-0.4225182</td><td> 0.6530035</td><td>0.5673682</td></tr>\n",
       "\t<tr><td>1e+03</td><td>1e-04</td><td>-0.3074351</td><td> 0.2676127</td><td>0.5979519</td></tr>\n",
       "\t<tr><td>1e+05</td><td>1e-06</td><td>-0.2628778</td><td> 0.1172974</td><td>0.6105755</td></tr>\n",
       "\t<tr><td>1e+03</td><td>1e-05</td><td>-0.1495998</td><td> 0.1898360</td><td>0.6299302</td></tr>\n",
       "\t<tr><td>1e+04</td><td>1e-06</td><td>-0.1022033</td><td> 0.6408890</td><td>0.7022367</td></tr>\n",
       "\t<tr><td>1e+02</td><td>1e-06</td><td> 0.1433653</td><td> 0.2831705</td><td>0.8796825</td></tr>\n",
       "\t<tr><td>1e+02</td><td>1e-04</td><td> 0.1391807</td><td> 0.3130401</td><td>0.8826693</td></tr>\n",
       "\t<tr><td>1e+02</td><td>1e-05</td><td> 0.5579337</td><td> 0.3458972</td><td>1.5782190</td></tr>\n",
       "\t<tr><td>1e+03</td><td>1e-06</td><td> 0.4880577</td><td> 0.7631915</td><td>1.6465097</td></tr>\n",
       "\t<tr><td>1e+06</td><td>1e-01</td><td>-4.7893039</td><td>-1.2076546</td><td>5.1815971</td></tr>\n",
       "\t<tr><td>1e+03</td><td>1e-01</td><td>-5.5778746</td><td>-0.4846271</td><td>5.6602415</td></tr>\n",
       "\t<tr><td>1e+07</td><td>1e-01</td><td>-5.8110697</td><td>-0.9828679</td><td>6.0910546</td></tr>\n",
       "\t<tr><td>1e+02</td><td>1e-01</td><td>-5.8850465</td><td>-0.8323023</td><td>6.1023454</td></tr>\n",
       "\t<tr><td>1e+05</td><td>1e-01</td><td>-6.0208027</td><td>-0.8398881</td><td>6.2383954</td></tr>\n",
       "\t<tr><td>1e+04</td><td>1e-01</td><td>-6.0418850</td><td>-0.8313073</td><td>6.2555588</td></tr>\n",
       "</tbody>\n",
       "</table>\n"
      ],
      "text/latex": [
       "A data.frame: 36 × 5\n",
       "\\begin{tabular}{lllll}\n",
       " number\\_iterations & learning\\_rate & w & b & loss\\\\\n",
       " <dbl> & <dbl> & <dbl> & <dbl> & <dbl>\\\\\n",
       "\\hline\n",
       "\t 1e+07 & 1e-04 & -4.0239700 & 12.0403697 & 0.2996263\\\\\n",
       "\t 1e+06 & 1e-03 & -4.0239700 & 12.0403697 & 0.2996263\\\\\n",
       "\t 1e+07 & 1e-03 & -4.0239700 & 12.0403697 & 0.2996263\\\\\n",
       "\t 1e+05 & 1e-02 & -4.0239700 & 12.0403697 & 0.2996263\\\\\n",
       "\t 1e+06 & 1e-02 & -4.0239700 & 12.0403697 & 0.2996263\\\\\n",
       "\t 1e+07 & 1e-02 & -4.0239700 & 12.0403697 & 0.2996263\\\\\n",
       "\t 1e+05 & 1e-03 & -4.0075837 & 11.9885701 & 0.2996284\\\\\n",
       "\t 1e+07 & 1e-05 & -4.0075645 & 11.9885094 & 0.2996284\\\\\n",
       "\t 1e+06 & 1e-04 & -4.0074418 & 11.9881215 & 0.2996284\\\\\n",
       "\t 1e+04 & 1e-02 & -4.0073909 & 11.9879604 & 0.2996284\\\\\n",
       "\t 1e+06 & 1e-05 & -2.7049168 &  7.8829354 & 0.3173347\\\\\n",
       "\t 1e+05 & 1e-04 & -2.7042971 &  7.8809894 & 0.3173540\\\\\n",
       "\t 1e+07 & 1e-06 & -2.7032639 &  7.8777449 & 0.3173862\\\\\n",
       "\t 1e+03 & 1e-02 & -2.6874340 &  7.8280361 & 0.3178842\\\\\n",
       "\t 1e+04 & 1e-03 & -2.6843977 &  7.8185020 & 0.3179807\\\\\n",
       "\t 1e+03 & 1e-03 & -0.9608489 &  2.4044044 & 0.4581348\\\\\n",
       "\t 1e+06 & 1e-06 & -0.9595317 &  2.4001994 & 0.4583445\\\\\n",
       "\t 1e+02 & 1e-02 & -0.9560504 &  2.3890876 & 0.4588999\\\\\n",
       "\t 1e+04 & 1e-04 & -0.8912426 &  2.1817794 & 0.4695559\\\\\n",
       "\t 1e+05 & 1e-05 & -0.8472497 &  2.0405965 & 0.4771411\\\\\n",
       "\t 1e+04 & 1e-05 & -0.4898772 &  0.8771034 & 0.5507422\\\\\n",
       "\t 1e+02 & 1e-03 & -0.4225182 &  0.6530035 & 0.5673682\\\\\n",
       "\t 1e+03 & 1e-04 & -0.3074351 &  0.2676127 & 0.5979519\\\\\n",
       "\t 1e+05 & 1e-06 & -0.2628778 &  0.1172974 & 0.6105755\\\\\n",
       "\t 1e+03 & 1e-05 & -0.1495998 &  0.1898360 & 0.6299302\\\\\n",
       "\t 1e+04 & 1e-06 & -0.1022033 &  0.6408890 & 0.7022367\\\\\n",
       "\t 1e+02 & 1e-06 &  0.1433653 &  0.2831705 & 0.8796825\\\\\n",
       "\t 1e+02 & 1e-04 &  0.1391807 &  0.3130401 & 0.8826693\\\\\n",
       "\t 1e+02 & 1e-05 &  0.5579337 &  0.3458972 & 1.5782190\\\\\n",
       "\t 1e+03 & 1e-06 &  0.4880577 &  0.7631915 & 1.6465097\\\\\n",
       "\t 1e+06 & 1e-01 & -4.7893039 & -1.2076546 & 5.1815971\\\\\n",
       "\t 1e+03 & 1e-01 & -5.5778746 & -0.4846271 & 5.6602415\\\\\n",
       "\t 1e+07 & 1e-01 & -5.8110697 & -0.9828679 & 6.0910546\\\\\n",
       "\t 1e+02 & 1e-01 & -5.8850465 & -0.8323023 & 6.1023454\\\\\n",
       "\t 1e+05 & 1e-01 & -6.0208027 & -0.8398881 & 6.2383954\\\\\n",
       "\t 1e+04 & 1e-01 & -6.0418850 & -0.8313073 & 6.2555588\\\\\n",
       "\\end{tabular}\n"
      ],
      "text/markdown": [
       "\n",
       "A data.frame: 36 × 5\n",
       "\n",
       "| number_iterations &lt;dbl&gt; | learning_rate &lt;dbl&gt; | w &lt;dbl&gt; | b &lt;dbl&gt; | loss &lt;dbl&gt; |\n",
       "|---|---|---|---|---|\n",
       "| 1e+07 | 1e-04 | -4.0239700 | 12.0403697 | 0.2996263 |\n",
       "| 1e+06 | 1e-03 | -4.0239700 | 12.0403697 | 0.2996263 |\n",
       "| 1e+07 | 1e-03 | -4.0239700 | 12.0403697 | 0.2996263 |\n",
       "| 1e+05 | 1e-02 | -4.0239700 | 12.0403697 | 0.2996263 |\n",
       "| 1e+06 | 1e-02 | -4.0239700 | 12.0403697 | 0.2996263 |\n",
       "| 1e+07 | 1e-02 | -4.0239700 | 12.0403697 | 0.2996263 |\n",
       "| 1e+05 | 1e-03 | -4.0075837 | 11.9885701 | 0.2996284 |\n",
       "| 1e+07 | 1e-05 | -4.0075645 | 11.9885094 | 0.2996284 |\n",
       "| 1e+06 | 1e-04 | -4.0074418 | 11.9881215 | 0.2996284 |\n",
       "| 1e+04 | 1e-02 | -4.0073909 | 11.9879604 | 0.2996284 |\n",
       "| 1e+06 | 1e-05 | -2.7049168 |  7.8829354 | 0.3173347 |\n",
       "| 1e+05 | 1e-04 | -2.7042971 |  7.8809894 | 0.3173540 |\n",
       "| 1e+07 | 1e-06 | -2.7032639 |  7.8777449 | 0.3173862 |\n",
       "| 1e+03 | 1e-02 | -2.6874340 |  7.8280361 | 0.3178842 |\n",
       "| 1e+04 | 1e-03 | -2.6843977 |  7.8185020 | 0.3179807 |\n",
       "| 1e+03 | 1e-03 | -0.9608489 |  2.4044044 | 0.4581348 |\n",
       "| 1e+06 | 1e-06 | -0.9595317 |  2.4001994 | 0.4583445 |\n",
       "| 1e+02 | 1e-02 | -0.9560504 |  2.3890876 | 0.4588999 |\n",
       "| 1e+04 | 1e-04 | -0.8912426 |  2.1817794 | 0.4695559 |\n",
       "| 1e+05 | 1e-05 | -0.8472497 |  2.0405965 | 0.4771411 |\n",
       "| 1e+04 | 1e-05 | -0.4898772 |  0.8771034 | 0.5507422 |\n",
       "| 1e+02 | 1e-03 | -0.4225182 |  0.6530035 | 0.5673682 |\n",
       "| 1e+03 | 1e-04 | -0.3074351 |  0.2676127 | 0.5979519 |\n",
       "| 1e+05 | 1e-06 | -0.2628778 |  0.1172974 | 0.6105755 |\n",
       "| 1e+03 | 1e-05 | -0.1495998 |  0.1898360 | 0.6299302 |\n",
       "| 1e+04 | 1e-06 | -0.1022033 |  0.6408890 | 0.7022367 |\n",
       "| 1e+02 | 1e-06 |  0.1433653 |  0.2831705 | 0.8796825 |\n",
       "| 1e+02 | 1e-04 |  0.1391807 |  0.3130401 | 0.8826693 |\n",
       "| 1e+02 | 1e-05 |  0.5579337 |  0.3458972 | 1.5782190 |\n",
       "| 1e+03 | 1e-06 |  0.4880577 |  0.7631915 | 1.6465097 |\n",
       "| 1e+06 | 1e-01 | -4.7893039 | -1.2076546 | 5.1815971 |\n",
       "| 1e+03 | 1e-01 | -5.5778746 | -0.4846271 | 5.6602415 |\n",
       "| 1e+07 | 1e-01 | -5.8110697 | -0.9828679 | 6.0910546 |\n",
       "| 1e+02 | 1e-01 | -5.8850465 | -0.8323023 | 6.1023454 |\n",
       "| 1e+05 | 1e-01 | -6.0208027 | -0.8398881 | 6.2383954 |\n",
       "| 1e+04 | 1e-01 | -6.0418850 | -0.8313073 | 6.2555588 |\n",
       "\n"
      ],
      "text/plain": [
       "   number_iterations learning_rate w          b          loss     \n",
       "1  1e+07             1e-04         -4.0239700 12.0403697 0.2996263\n",
       "2  1e+06             1e-03         -4.0239700 12.0403697 0.2996263\n",
       "3  1e+07             1e-03         -4.0239700 12.0403697 0.2996263\n",
       "4  1e+05             1e-02         -4.0239700 12.0403697 0.2996263\n",
       "5  1e+06             1e-02         -4.0239700 12.0403697 0.2996263\n",
       "6  1e+07             1e-02         -4.0239700 12.0403697 0.2996263\n",
       "7  1e+05             1e-03         -4.0075837 11.9885701 0.2996284\n",
       "8  1e+07             1e-05         -4.0075645 11.9885094 0.2996284\n",
       "9  1e+06             1e-04         -4.0074418 11.9881215 0.2996284\n",
       "10 1e+04             1e-02         -4.0073909 11.9879604 0.2996284\n",
       "11 1e+06             1e-05         -2.7049168  7.8829354 0.3173347\n",
       "12 1e+05             1e-04         -2.7042971  7.8809894 0.3173540\n",
       "13 1e+07             1e-06         -2.7032639  7.8777449 0.3173862\n",
       "14 1e+03             1e-02         -2.6874340  7.8280361 0.3178842\n",
       "15 1e+04             1e-03         -2.6843977  7.8185020 0.3179807\n",
       "16 1e+03             1e-03         -0.9608489  2.4044044 0.4581348\n",
       "17 1e+06             1e-06         -0.9595317  2.4001994 0.4583445\n",
       "18 1e+02             1e-02         -0.9560504  2.3890876 0.4588999\n",
       "19 1e+04             1e-04         -0.8912426  2.1817794 0.4695559\n",
       "20 1e+05             1e-05         -0.8472497  2.0405965 0.4771411\n",
       "21 1e+04             1e-05         -0.4898772  0.8771034 0.5507422\n",
       "22 1e+02             1e-03         -0.4225182  0.6530035 0.5673682\n",
       "23 1e+03             1e-04         -0.3074351  0.2676127 0.5979519\n",
       "24 1e+05             1e-06         -0.2628778  0.1172974 0.6105755\n",
       "25 1e+03             1e-05         -0.1495998  0.1898360 0.6299302\n",
       "26 1e+04             1e-06         -0.1022033  0.6408890 0.7022367\n",
       "27 1e+02             1e-06          0.1433653  0.2831705 0.8796825\n",
       "28 1e+02             1e-04          0.1391807  0.3130401 0.8826693\n",
       "29 1e+02             1e-05          0.5579337  0.3458972 1.5782190\n",
       "30 1e+03             1e-06          0.4880577  0.7631915 1.6465097\n",
       "31 1e+06             1e-01         -4.7893039 -1.2076546 5.1815971\n",
       "32 1e+03             1e-01         -5.5778746 -0.4846271 5.6602415\n",
       "33 1e+07             1e-01         -5.8110697 -0.9828679 6.0910546\n",
       "34 1e+02             1e-01         -5.8850465 -0.8323023 6.1023454\n",
       "35 1e+05             1e-01         -6.0208027 -0.8398881 6.2383954\n",
       "36 1e+04             1e-01         -6.0418850 -0.8313073 6.2555588"
      ]
     },
     "metadata": {},
     "output_type": "display_data"
    }
   ],
   "source": [
    "res <- res %>% arrange(loss)\n",
    "res"
   ]
  },
  {
   "cell_type": "code",
   "execution_count": 46,
   "metadata": {},
   "outputs": [
    {
     "name": "stdout",
     "output_type": "stream",
     "text": [
      "[1] \"Optimal intercept: 12.0403697286552 Optimal slope: -4.02396996217254\"\n"
     ]
    },
    {
     "data": {
      "text/html": [
       "<table>\n",
       "<caption>A data.frame: 1 × 3</caption>\n",
       "<thead>\n",
       "\t<tr><th scope=col>w</th><th scope=col>b</th><th scope=col>loss</th></tr>\n",
       "\t<tr><th scope=col>&lt;dbl&gt;</th><th scope=col>&lt;dbl&gt;</th><th scope=col>&lt;dbl&gt;</th></tr>\n",
       "</thead>\n",
       "<tbody>\n",
       "\t<tr><td>-4.02397</td><td>12.04037</td><td>0.2996263</td></tr>\n",
       "</tbody>\n",
       "</table>\n"
      ],
      "text/latex": [
       "A data.frame: 1 × 3\n",
       "\\begin{tabular}{lll}\n",
       " w & b & loss\\\\\n",
       " <dbl> & <dbl> & <dbl>\\\\\n",
       "\\hline\n",
       "\t -4.02397 & 12.04037 & 0.2996263\\\\\n",
       "\\end{tabular}\n"
      ],
      "text/markdown": [
       "\n",
       "A data.frame: 1 × 3\n",
       "\n",
       "| w &lt;dbl&gt; | b &lt;dbl&gt; | loss &lt;dbl&gt; |\n",
       "|---|---|---|\n",
       "| -4.02397 | 12.04037 | 0.2996263 |\n",
       "\n"
      ],
      "text/plain": [
       "  w        b        loss     \n",
       "1 -4.02397 12.04037 0.2996263"
      ]
     },
     "metadata": {},
     "output_type": "display_data"
    }
   ],
   "source": [
    "gradientDesc(mtcars$wt, mtcars$am, learn_rate=1e-02,max_iter=1e+05)"
   ]
  },
  {
   "cell_type": "code",
   "execution_count": 53,
   "metadata": {},
   "outputs": [],
   "source": [
    "predict <- function(x,w,b,cutoff=0.5) {\n",
    "    prob <- sigma((x*w)+b)\n",
    "    yhat <- ifelse(prob>=cutoff,1,0)\n",
    "    return(data.frame(prob=prob, yhat=yhat))\n",
    "}"
   ]
  },
  {
   "cell_type": "code",
   "execution_count": 55,
   "metadata": {},
   "outputs": [
    {
     "data": {
      "text/html": [
       "<table>\n",
       "<caption>A data.frame: 32 × 3</caption>\n",
       "<thead>\n",
       "\t<tr><th scope=col>prob</th><th scope=col>yhat</th><th scope=col>y</th></tr>\n",
       "\t<tr><th scope=col>&lt;dbl&gt;</th><th scope=col>&lt;dbl&gt;</th><th scope=col>&lt;dbl&gt;</th></tr>\n",
       "</thead>\n",
       "<tbody>\n",
       "\t<tr><td>8.172116e-01</td><td>1</td><td>1</td></tr>\n",
       "\t<tr><td>6.157284e-01</td><td>1</td><td>1</td></tr>\n",
       "\t<tr><td>9.373069e-01</td><td>1</td><td>1</td></tr>\n",
       "\t<tr><td>2.897304e-01</td><td>0</td><td>0</td></tr>\n",
       "\t<tr><td>1.415972e-01</td><td>0</td><td>0</td></tr>\n",
       "\t<tr><td>1.320944e-01</td><td>0</td><td>0</td></tr>\n",
       "\t<tr><td>8.905707e-02</td><td>0</td><td>0</td></tr>\n",
       "\t<tr><td>3.108616e-01</td><td>0</td><td>0</td></tr>\n",
       "\t<tr><td>3.463470e-01</td><td>0</td><td>0</td></tr>\n",
       "\t<tr><td>1.415972e-01</td><td>0</td><td>0</td></tr>\n",
       "\t<tr><td>1.415972e-01</td><td>0</td><td>0</td></tr>\n",
       "\t<tr><td>1.290454e-02</td><td>0</td><td>0</td></tr>\n",
       "\t<tr><td>4.884439e-02</td><td>0</td><td>0</td></tr>\n",
       "\t<tr><td>4.030126e-02</td><td>0</td><td>0</td></tr>\n",
       "\t<tr><td>1.132870e-04</td><td>0</td><td>0</td></tr>\n",
       "\t<tr><td>5.625028e-05</td><td>0</td><td>0</td></tr>\n",
       "\t<tr><td>7.729920e-05</td><td>0</td><td>0</td></tr>\n",
       "\t<tr><td>9.603663e-01</td><td>1</td><td>1</td></tr>\n",
       "\t<tr><td>9.960953e-01</td><td>1</td><td>1</td></tr>\n",
       "\t<tr><td>9.905887e-01</td><td>1</td><td>1</td></tr>\n",
       "\t<tr><td>8.929547e-01</td><td>1</td><td>0</td></tr>\n",
       "\t<tr><td>1.067855e-01</td><td>0</td><td>0</td></tr>\n",
       "\t<tr><td>1.440604e-01</td><td>0</td><td>0</td></tr>\n",
       "\t<tr><td>3.193258e-02</td><td>0</td><td>0</td></tr>\n",
       "\t<tr><td>3.131644e-02</td><td>0</td><td>0</td></tr>\n",
       "\t<tr><td>9.859916e-01</td><td>1</td><td>1</td></tr>\n",
       "\t<tr><td>9.686009e-01</td><td>1</td><td>1</td></tr>\n",
       "\t<tr><td>9.974064e-01</td><td>1</td><td>1</td></tr>\n",
       "\t<tr><td>3.283593e-01</td><td>0</td><td>1</td></tr>\n",
       "\t<tr><td>7.097094e-01</td><td>1</td><td>1</td></tr>\n",
       "\t<tr><td>8.905707e-02</td><td>0</td><td>1</td></tr>\n",
       "\t<tr><td>7.013497e-01</td><td>1</td><td>1</td></tr>\n",
       "</tbody>\n",
       "</table>\n"
      ],
      "text/latex": [
       "A data.frame: 32 × 3\n",
       "\\begin{tabular}{lll}\n",
       " prob & yhat & y\\\\\n",
       " <dbl> & <dbl> & <dbl>\\\\\n",
       "\\hline\n",
       "\t 8.172116e-01 & 1 & 1\\\\\n",
       "\t 6.157284e-01 & 1 & 1\\\\\n",
       "\t 9.373069e-01 & 1 & 1\\\\\n",
       "\t 2.897304e-01 & 0 & 0\\\\\n",
       "\t 1.415972e-01 & 0 & 0\\\\\n",
       "\t 1.320944e-01 & 0 & 0\\\\\n",
       "\t 8.905707e-02 & 0 & 0\\\\\n",
       "\t 3.108616e-01 & 0 & 0\\\\\n",
       "\t 3.463470e-01 & 0 & 0\\\\\n",
       "\t 1.415972e-01 & 0 & 0\\\\\n",
       "\t 1.415972e-01 & 0 & 0\\\\\n",
       "\t 1.290454e-02 & 0 & 0\\\\\n",
       "\t 4.884439e-02 & 0 & 0\\\\\n",
       "\t 4.030126e-02 & 0 & 0\\\\\n",
       "\t 1.132870e-04 & 0 & 0\\\\\n",
       "\t 5.625028e-05 & 0 & 0\\\\\n",
       "\t 7.729920e-05 & 0 & 0\\\\\n",
       "\t 9.603663e-01 & 1 & 1\\\\\n",
       "\t 9.960953e-01 & 1 & 1\\\\\n",
       "\t 9.905887e-01 & 1 & 1\\\\\n",
       "\t 8.929547e-01 & 1 & 0\\\\\n",
       "\t 1.067855e-01 & 0 & 0\\\\\n",
       "\t 1.440604e-01 & 0 & 0\\\\\n",
       "\t 3.193258e-02 & 0 & 0\\\\\n",
       "\t 3.131644e-02 & 0 & 0\\\\\n",
       "\t 9.859916e-01 & 1 & 1\\\\\n",
       "\t 9.686009e-01 & 1 & 1\\\\\n",
       "\t 9.974064e-01 & 1 & 1\\\\\n",
       "\t 3.283593e-01 & 0 & 1\\\\\n",
       "\t 7.097094e-01 & 1 & 1\\\\\n",
       "\t 8.905707e-02 & 0 & 1\\\\\n",
       "\t 7.013497e-01 & 1 & 1\\\\\n",
       "\\end{tabular}\n"
      ],
      "text/markdown": [
       "\n",
       "A data.frame: 32 × 3\n",
       "\n",
       "| prob &lt;dbl&gt; | yhat &lt;dbl&gt; | y &lt;dbl&gt; |\n",
       "|---|---|---|\n",
       "| 8.172116e-01 | 1 | 1 |\n",
       "| 6.157284e-01 | 1 | 1 |\n",
       "| 9.373069e-01 | 1 | 1 |\n",
       "| 2.897304e-01 | 0 | 0 |\n",
       "| 1.415972e-01 | 0 | 0 |\n",
       "| 1.320944e-01 | 0 | 0 |\n",
       "| 8.905707e-02 | 0 | 0 |\n",
       "| 3.108616e-01 | 0 | 0 |\n",
       "| 3.463470e-01 | 0 | 0 |\n",
       "| 1.415972e-01 | 0 | 0 |\n",
       "| 1.415972e-01 | 0 | 0 |\n",
       "| 1.290454e-02 | 0 | 0 |\n",
       "| 4.884439e-02 | 0 | 0 |\n",
       "| 4.030126e-02 | 0 | 0 |\n",
       "| 1.132870e-04 | 0 | 0 |\n",
       "| 5.625028e-05 | 0 | 0 |\n",
       "| 7.729920e-05 | 0 | 0 |\n",
       "| 9.603663e-01 | 1 | 1 |\n",
       "| 9.960953e-01 | 1 | 1 |\n",
       "| 9.905887e-01 | 1 | 1 |\n",
       "| 8.929547e-01 | 1 | 0 |\n",
       "| 1.067855e-01 | 0 | 0 |\n",
       "| 1.440604e-01 | 0 | 0 |\n",
       "| 3.193258e-02 | 0 | 0 |\n",
       "| 3.131644e-02 | 0 | 0 |\n",
       "| 9.859916e-01 | 1 | 1 |\n",
       "| 9.686009e-01 | 1 | 1 |\n",
       "| 9.974064e-01 | 1 | 1 |\n",
       "| 3.283593e-01 | 0 | 1 |\n",
       "| 7.097094e-01 | 1 | 1 |\n",
       "| 8.905707e-02 | 0 | 1 |\n",
       "| 7.013497e-01 | 1 | 1 |\n",
       "\n"
      ],
      "text/plain": [
       "   prob         yhat y\n",
       "1  8.172116e-01 1    1\n",
       "2  6.157284e-01 1    1\n",
       "3  9.373069e-01 1    1\n",
       "4  2.897304e-01 0    0\n",
       "5  1.415972e-01 0    0\n",
       "6  1.320944e-01 0    0\n",
       "7  8.905707e-02 0    0\n",
       "8  3.108616e-01 0    0\n",
       "9  3.463470e-01 0    0\n",
       "10 1.415972e-01 0    0\n",
       "11 1.415972e-01 0    0\n",
       "12 1.290454e-02 0    0\n",
       "13 4.884439e-02 0    0\n",
       "14 4.030126e-02 0    0\n",
       "15 1.132870e-04 0    0\n",
       "16 5.625028e-05 0    0\n",
       "17 7.729920e-05 0    0\n",
       "18 9.603663e-01 1    1\n",
       "19 9.960953e-01 1    1\n",
       "20 9.905887e-01 1    1\n",
       "21 8.929547e-01 1    0\n",
       "22 1.067855e-01 0    0\n",
       "23 1.440604e-01 0    0\n",
       "24 3.193258e-02 0    0\n",
       "25 3.131644e-02 0    0\n",
       "26 9.859916e-01 1    1\n",
       "27 9.686009e-01 1    1\n",
       "28 9.974064e-01 1    1\n",
       "29 3.283593e-01 0    1\n",
       "30 7.097094e-01 1    1\n",
       "31 8.905707e-02 0    1\n",
       "32 7.013497e-01 1    1"
      ]
     },
     "metadata": {},
     "output_type": "display_data"
    }
   ],
   "source": [
    "pred <- predict(mtcars$wt, -4.02397, 12.04037)\n",
    "cbind(pred, y=mtcars$am)"
   ]
  },
  {
   "cell_type": "code",
   "execution_count": 56,
   "metadata": {},
   "outputs": [
    {
     "data": {
      "text/plain": [
       "    y\n",
       "yhat  0  1\n",
       "   0 18  2\n",
       "   1  1 11"
      ]
     },
     "metadata": {},
     "output_type": "display_data"
    }
   ],
   "source": [
    "## contingency table\n",
    "table(yhat=pred$yhat, y=mtcars$am )"
   ]
  },
  {
   "cell_type": "markdown",
   "metadata": {},
   "source": [
    "# Multivariate Gradient Descent"
   ]
  },
  {
   "cell_type": "code",
   "execution_count": 246,
   "metadata": {},
   "outputs": [],
   "source": [
    "loss_function <- function(y,pred) {\n",
    "    ll <- ifelse(y==0,(1-y)*log(1-pred),y*log(pred))\n",
    "    return(-sum(ll)/length(y))\n",
    "}"
   ]
  },
  {
   "cell_type": "code",
   "execution_count": 242,
   "metadata": {},
   "outputs": [],
   "source": []
  },
  {
   "cell_type": "code",
   "execution_count": 247,
   "metadata": {},
   "outputs": [
    {
     "data": {
      "text/html": [
       "0.94322041242786"
      ],
      "text/latex": [
       "0.94322041242786"
      ],
      "text/markdown": [
       "0.94322041242786"
      ],
      "text/plain": [
       "[1] 0.9432204"
      ]
     },
     "metadata": {},
     "output_type": "display_data"
    }
   ],
   "source": [
    "loss_function(y,yyhat)"
   ]
  },
  {
   "cell_type": "code",
   "execution_count": 224,
   "metadata": {},
   "outputs": [],
   "source": [
    "sigma <- function(z) {\n",
    "   yhat <- 1/(1+exp(-z))\n",
    "   return(yhat)\n",
    "}"
   ]
  },
  {
   "cell_type": "code",
   "execution_count": 271,
   "metadata": {},
   "outputs": [],
   "source": [
    "gradientDesc <- function(X, y, learn_rate=1e-6, max_iter=1e3, normalize=FALSE) {\n",
    "  conv_threshold <- 1e-4\n",
    "  n <- length(y)\n",
    "  m <- ncol(X)\n",
    "  ## add the intercept\n",
    "  X <- as.matrix(cbind(b=rep(1,n),X))\n",
    "  W <- as.matrix(runif(m+1, 0, 1))\n",
    "  ## normalize X\n",
    "  if (normalize==TRUE) {\n",
    "      X <- X %*% diag(1/colSums(X))\n",
    "  }\n",
    "  ## recover intercept\n",
    "  X[,1] <- 1\n",
    "  yhat <- sigma(X %*% W)\n",
    "  cost <- loss_function(y,yhat)\n",
    "  converged = F\n",
    "  iterations = 0\n",
    "  while(converged == F) {\n",
    "    ## Implement the gradient descent algorithm\n",
    "    W_new <- W - t(learn_rate * (t(yhat-y) %*%  X))\n",
    "    W <- W_new\n",
    "    yhat <- sigma(X %*% W)\n",
    "    cost_new <- loss_function(y,yhat)\n",
    "    if(iterations > max_iter) { \n",
    "      converged = T\n",
    "      print(paste(\"Optimal weights:\", W))\n",
    "      return(list(w=W,loss=cost_new))\n",
    "    }\n",
    "    iterations = iterations + 1\n",
    "  }\n",
    "}\n"
   ]
  },
  {
   "cell_type": "code",
   "execution_count": 261,
   "metadata": {},
   "outputs": [],
   "source": [
    "X <- mtcars[,1:5]\n",
    "y <- mtcars$am"
   ]
  },
  {
   "cell_type": "code",
   "execution_count": 272,
   "metadata": {},
   "outputs": [
    {
     "name": "stdout",
     "output_type": "stream",
     "text": [
      "[1] \"Optimal weights: 0.305721366984813\" \"Optimal weights: 3.64554801504865\" \n",
      "[3] \"Optimal weights: 0.471835929644794\" \"Optimal weights: -4.59861509590423\"\n",
      "[5] \"Optimal weights: 4.67317438496964\"  \"Optimal weights: 0.729524201044443\"\n"
     ]
    },
    {
     "data": {
      "text/html": [
       "<dl>\n",
       "\t<dt>$w</dt>\n",
       "\t\t<dd><table>\n",
       "<caption>A matrix: 6 × 1 of type dbl</caption>\n",
       "<tbody>\n",
       "\t<tr><th scope=row>b</th><td> 0.3057214</td></tr>\n",
       "\t<tr><th scope=row>mpg</th><td> 3.6455480</td></tr>\n",
       "\t<tr><th scope=row>cyl</th><td> 0.4718359</td></tr>\n",
       "\t<tr><th scope=row>disp</th><td>-4.5986151</td></tr>\n",
       "\t<tr><th scope=row>hp</th><td> 4.6731744</td></tr>\n",
       "\t<tr><th scope=row>drat</th><td> 0.7295242</td></tr>\n",
       "</tbody>\n",
       "</table>\n",
       "</dd>\n",
       "\t<dt>$loss</dt>\n",
       "\t\t<dd>19.4301349912448</dd>\n",
       "</dl>\n"
      ],
      "text/latex": [
       "\\begin{description}\n",
       "\\item[\\$w] A matrix: 6 × 1 of type dbl\n",
       "\\begin{tabular}{r|l}\n",
       "\tb &  0.3057214\\\\\n",
       "\tmpg &  3.6455480\\\\\n",
       "\tcyl &  0.4718359\\\\\n",
       "\tdisp & -4.5986151\\\\\n",
       "\thp &  4.6731744\\\\\n",
       "\tdrat &  0.7295242\\\\\n",
       "\\end{tabular}\n",
       "\n",
       "\\item[\\$loss] 19.4301349912448\n",
       "\\end{description}\n"
      ],
      "text/markdown": [
       "$w\n",
       ":   \n",
       "A matrix: 6 × 1 of type dbl\n",
       "\n",
       "| b |  0.3057214 |\n",
       "| mpg |  3.6455480 |\n",
       "| cyl |  0.4718359 |\n",
       "| disp | -4.5986151 |\n",
       "| hp |  4.6731744 |\n",
       "| drat |  0.7295242 |\n",
       "\n",
       "\n",
       "$loss\n",
       ":   19.4301349912448\n",
       "\n",
       "\n"
      ],
      "text/plain": [
       "$w\n",
       "           [,1]\n",
       "b     0.3057214\n",
       "mpg   3.6455480\n",
       "cyl   0.4718359\n",
       "disp -4.5986151\n",
       "hp    4.6731744\n",
       "drat  0.7295242\n",
       "\n",
       "$loss\n",
       "[1] 19.43013\n"
      ]
     },
     "metadata": {},
     "output_type": "display_data"
    }
   ],
   "source": [
    "gradientDesc(X,y,learn_rate=1e-3, max_iter=1e3)"
   ]
  },
  {
   "cell_type": "code",
   "execution_count": 282,
   "metadata": {},
   "outputs": [
    {
     "name": "stderr",
     "output_type": "stream",
     "text": [
      "Warning message:\n",
      "\"glm.fit: algorithm did not converge\"\n",
      "Warning message:\n",
      "\"glm.fit: fitted probabilities numerically 0 or 1 occurred\"\n"
     ]
    },
    {
     "data": {
      "text/html": [
       "<style>\n",
       ".dl-inline {width: auto; margin:0; padding: 0}\n",
       ".dl-inline>dt, .dl-inline>dd {float: none; width: auto; display: inline-block}\n",
       ".dl-inline>dt::after {content: \":\\0020\"; padding-right: .5ex}\n",
       ".dl-inline>dt:not(:first-of-type) {padding-left: .5ex}\n",
       "</style><dl class=dl-inline><dt>(Intercept)</dt><dd>-1686.63733184119</dd><dt>mpg</dt><dd>45.9801079749864</dd><dt>cyl</dt><dd>49.8576454389484</dd><dt>disp</dt><dd>-1.78903134938011</dd><dt>hp</dt><dd>4.08342633732622</dd><dt>drat</dt><dd>71.8881819896343</dd></dl>\n"
      ],
      "text/latex": [
       "\\begin{description*}\n",
       "\\item[(Intercept)] -1686.63733184119\n",
       "\\item[mpg] 45.9801079749864\n",
       "\\item[cyl] 49.8576454389484\n",
       "\\item[disp] -1.78903134938011\n",
       "\\item[hp] 4.08342633732622\n",
       "\\item[drat] 71.8881819896343\n",
       "\\end{description*}\n"
      ],
      "text/markdown": [
       "(Intercept)\n",
       ":   -1686.63733184119mpg\n",
       ":   45.9801079749864cyl\n",
       ":   49.8576454389484disp\n",
       ":   -1.78903134938011hp\n",
       ":   4.08342633732622drat\n",
       ":   71.8881819896343\n",
       "\n"
      ],
      "text/plain": [
       " (Intercept)          mpg          cyl         disp           hp         drat \n",
       "-1686.637332    45.980108    49.857645    -1.789031     4.083426    71.888182 "
      ]
     },
     "metadata": {},
     "output_type": "display_data"
    }
   ],
   "source": [
    "mod1 <- glm(mtcars$am ~., data= mtcars[,1:5],family=\"binomial\")\n",
    "mod1$coefficients"
   ]
  },
  {
   "cell_type": "markdown",
   "metadata": {},
   "source": [
    "### THIS CODE TAKES ABOUT AN HOUR TO RUN !!!!"
   ]
  },
  {
   "cell_type": "code",
   "execution_count": 273,
   "metadata": {},
   "outputs": [
    {
     "name": "stdout",
     "output_type": "stream",
     "text": [
      "[1] \"Optimal weights: 8.24373119648076\"  \"Optimal weights: 339.906749557642\" \n",
      "[3] \"Optimal weights: 21.5835382993054\"  \"Optimal weights: -464.546852643148\"\n",
      "[5] \"Optimal weights: 504.648398711927\"  \"Optimal weights: 47.0188038087942\" \n",
      "[1] \"Optimal weights: 1.54625962737339\" \"Optimal weights: 31.7205412298169\"\n",
      "[3] \"Optimal weights: 2.72645951762935\" \"Optimal weights: -43.173135918379\"\n",
      "[5] \"Optimal weights: 58.730812065885\"  \"Optimal weights: 4.92341150153937\"\n",
      "[1] \"Optimal weights: 0.300643372974567\" \"Optimal weights: 3.44114909147264\" \n",
      "[3] \"Optimal weights: 0.509948512692187\" \"Optimal weights: -4.63888924641982\"\n",
      "[5] \"Optimal weights: 5.05662128357978\"  \"Optimal weights: 0.520127976143183\"\n",
      "[1] \"Optimal weights: 0.692514966254395\"  \"Optimal weights: 0.322885767241683\" \n",
      "[3] \"Optimal weights: 0.916842703673002\"  \"Optimal weights: -0.418413619395609\"\n",
      "[5] \"Optimal weights: 0.3862696516642\"    \"Optimal weights: 0.395748493672373\" \n",
      "[1] \"Optimal weights: 0.506744134960181\"  \"Optimal weights: 0.166514738953598\" \n",
      "[3] \"Optimal weights: 0.0349995936842304\" \"Optimal weights: -0.196436899848059\"\n",
      "[5] \"Optimal weights: 0.229695919794024\"  \"Optimal weights: 0.53665667118761\"  \n",
      "[1] \"Optimal weights: 0.385565654309871\"  \"Optimal weights: 0.314871846692259\" \n",
      "[3] \"Optimal weights: 0.863371971682634\"  \"Optimal weights: -0.375024471230521\"\n",
      "[5] \"Optimal weights: 0.606242401015035\"  \"Optimal weights: 0.787382059753369\" \n",
      "[1] \"Optimal weights: -12.3506506626932\" \"Optimal weights: 368.702675793858\" \n",
      "[3] \"Optimal weights: 28.2443621748271\"  \"Optimal weights: -447.37944325825\" \n",
      "[5] \"Optimal weights: 485.334214827203\"  \"Optimal weights: 39.5706962252192\" \n",
      "[1] \"Optimal weights: -0.686258980131413\" \"Optimal weights: 36.8038998432174\"  \n",
      "[3] \"Optimal weights: 2.99173984691234\"   \"Optimal weights: -48.3972437957157\" \n",
      "[5] \"Optimal weights: 52.7635705081073\"   \"Optimal weights: 4.03773710126329\"  \n",
      "[1] \"Optimal weights: 0.496575997377015\" \"Optimal weights: 3.55408763709303\" \n",
      "[3] \"Optimal weights: 0.543422128022839\" \"Optimal weights: -4.71513406389998\"\n",
      "[5] \"Optimal weights: 4.60604733792219\"  \"Optimal weights: 1.28126391577497\" \n",
      "[1] \"Optimal weights: 0.649674120140537\"  \"Optimal weights: 0.196025966731986\" \n",
      "[3] \"Optimal weights: 0.82834574340523\"   \"Optimal weights: -0.480246312320027\"\n",
      "[5] \"Optimal weights: 0.450285258041508\"  \"Optimal weights: 0.797456789288103\" \n",
      "[1] \"Optimal weights: 0.84888689142267\"   \"Optimal weights: 0.428841041580962\" \n",
      "[3] \"Optimal weights: 0.352490230202009\"  \"Optimal weights: -0.201385982075428\"\n",
      "[5] \"Optimal weights: 0.187325481445466\"  \"Optimal weights: 0.091843716089271\" \n",
      "[1] \"Optimal weights: 0.338430103106827\"  \"Optimal weights: 0.558857158931767\" \n",
      "[3] \"Optimal weights: 0.492312241010546\"  \"Optimal weights: -0.194331799428443\"\n",
      "[5] \"Optimal weights: 0.130925918081065\"  \"Optimal weights: 0.858957141604708\" \n",
      "[1] \"Optimal weights: -230.674994853251\" \"Optimal weights: 382.738250511296\" \n",
      "[3] \"Optimal weights: 67.1730853268669\"  \"Optimal weights: -486.370147570824\"\n",
      "[5] \"Optimal weights: 475.623425485144\"  \"Optimal weights: -86.1897778068666\"\n",
      "[1] \"Optimal weights: -22.4537216710403\" \"Optimal weights: 37.8180466558139\" \n",
      "[3] \"Optimal weights: 6.6155375608624\"   \"Optimal weights: -40.8229857386683\"\n",
      "[5] \"Optimal weights: 56.9652042098172\"  \"Optimal weights: -7.97906755218811\"\n",
      "[1] \"Optimal weights: -2.24755294338584\"  \"Optimal weights: 3.86255886005454\"  \n",
      "[3] \"Optimal weights: 1.36298309062573\"   \"Optimal weights: -4.54383557164789\" \n",
      "[5] \"Optimal weights: 4.78646786351033\"   \"Optimal weights: -0.360883916201209\"\n",
      "[1] \"Optimal weights: -0.174215950210505\" \"Optimal weights: 0.3518317631541\"   \n",
      "[3] \"Optimal weights: 0.120609867058068\"  \"Optimal weights: -0.476245338776543\"\n",
      "[5] \"Optimal weights: 0.483446458578721\"  \"Optimal weights: 0.206829653680654\" \n",
      "[1] \"Optimal weights: 0.733923540527056\"  \n",
      "[2] \"Optimal weights: -0.0367968739171067\"\n",
      "[3] \"Optimal weights: 0.400740531474817\"  \n",
      "[4] \"Optimal weights: -0.106817985664711\" \n",
      "[5] \"Optimal weights: 0.122886143586102\"  \n",
      "[6] \"Optimal weights: 0.306812279513768\"  \n",
      "[1] \"Optimal weights: 0.853968929428792\"  \n",
      "[2] \"Optimal weights: -0.0653444754782427\"\n",
      "[3] \"Optimal weights: 0.598985778931064\"  \n",
      "[4] \"Optimal weights: -0.141809058364119\" \n",
      "[5] \"Optimal weights: 0.153003468140834\"  \n",
      "[6] \"Optimal weights: 0.793802137313598\"  \n",
      "[1] \"Optimal weights: -2423.66461245266\" \"Optimal weights: 601.694813744598\" \n",
      "[3] \"Optimal weights: 392.857571241253\"  \"Optimal weights: -497.95678823971\" \n",
      "[5] \"Optimal weights: 494.228331118043\"  \"Optimal weights: -1322.02629661962\"\n",
      "[1] \"Optimal weights: -241.688712024582\" \"Optimal weights: 63.4405493274327\" \n",
      "[3] \"Optimal weights: 39.1013292495219\"  \"Optimal weights: -41.0913071583589\"\n",
      "[5] \"Optimal weights: 56.3351230076592\"  \"Optimal weights: -131.822569229958\"\n",
      "[1] \"Optimal weights: -23.3978967006042\" \"Optimal weights: 6.02285820143633\" \n",
      "[3] \"Optimal weights: 4.68839295572083\"  \"Optimal weights: -5.04872468209868\"\n",
      "[5] \"Optimal weights: 5.01963097552875\"  \"Optimal weights: -13.1576467511237\"\n",
      "[1] \"Optimal weights: -1.30494840981247\"  \"Optimal weights: 0.576890890737731\" \n",
      "[3] \"Optimal weights: -0.106270591429265\" \"Optimal weights: -0.39479488952166\" \n",
      "[5] \"Optimal weights: 0.555247077317976\"  \"Optimal weights: -0.90999427742506\" \n",
      "[1] \"Optimal weights: 0.604453613052415\"  \n",
      "[2] \"Optimal weights: 0.0109714932554207\" \n",
      "[3] \"Optimal weights: 0.153348160326648\"  \n",
      "[4] \"Optimal weights: -0.0964248323013105\"\n",
      "[5] \"Optimal weights: 0.11726135139182\"   \n",
      "[6] \"Optimal weights: 0.148225861813114\"  \n",
      "[1] \"Optimal weights: 0.413888405872391\"  \"Optimal weights: -0.11175105091427\" \n",
      "[3] \"Optimal weights: 0.664984091070222\"  \"Optimal weights: -0.118664267566241\"\n",
      "[5] \"Optimal weights: 0.128640119331859\"  \"Optimal weights: 0.761749573082371\" \n",
      "[1] \"Optimal weights: -22992.6462139304\" \"Optimal weights: 1785.68366779038\" \n",
      "[3] \"Optimal weights: 2380.43722493983\"  \"Optimal weights: -604.27444592517\" \n",
      "[5] \"Optimal weights: 877.442481988677\"  \"Optimal weights: -6205.74641533373\"\n",
      "[1] \"Optimal weights: -2300.26243019001\" \"Optimal weights: 172.465084472605\" \n",
      "[3] \"Optimal weights: 247.538708908304\"  \"Optimal weights: -69.9475590786301\"\n",
      "[5] \"Optimal weights: 80.8809970022695\"  \"Optimal weights: -591.897991325036\"\n",
      "[1] \"Optimal weights: -226.726611884191\" \"Optimal weights: 16.7297748300327\" \n",
      "[3] \"Optimal weights: 27.8117595831087\"  \"Optimal weights: -6.04834726170412\"\n",
      "[5] \"Optimal weights: 8.32923890587838\"  \"Optimal weights: -57.8648985596849\"\n",
      "[1] \"Optimal weights: -20.8974135268699\"  \"Optimal weights: 1.81458149399039\"  \n",
      "[3] \"Optimal weights: 1.14991673242056\"   \"Optimal weights: -0.530796952436463\"\n",
      "[5] \"Optimal weights: 0.791198480487501\"  \"Optimal weights: -6.14682218782906\" \n",
      "[1] \"Optimal weights: -2.50124850934339\"  \n",
      "[2] \"Optimal weights: 0.205827273482042\"  \n",
      "[3] \"Optimal weights: 0.245145368489624\"  \n",
      "[4] \"Optimal weights: -0.0966407991928751\"\n",
      "[5] \"Optimal weights: 0.127315002036937\"  \n",
      "[6] \"Optimal weights: -0.558268766581073\" \n",
      "[1] \"Optimal weights: -0.252325560043827\" \n",
      "[2] \"Optimal weights: 0.0389543019701294\" \n",
      "[3] \"Optimal weights: 0.186655739252602\"  \n",
      "[4] \"Optimal weights: -0.0955647743010904\"\n",
      "[5] \"Optimal weights: 0.117331312506353\"  \n",
      "[6] \"Optimal weights: 0.124602754253577\"  \n",
      "[1] \"Optimal weights: -147422.563081757\" \"Optimal weights: 4042.46988301427\" \n",
      "[3] \"Optimal weights: 8608.0839049576\"   \"Optimal weights: -744.911291879585\"\n",
      "[5] \"Optimal weights: 958.567821654314\"  \"Optimal weights: 5002.30868015253\" \n",
      "[1] \"Optimal weights: -14731.766628186\" \"Optimal weights: 405.433475363599\"\n",
      "[3] \"Optimal weights: 860.589296922262\" \"Optimal weights: -70.985659511802\"\n",
      "[5] \"Optimal weights: 96.9071758736295\" \"Optimal weights: 500.708969377937\"\n",
      "[1] \"Optimal weights: -1460.14885512575\" \"Optimal weights: 39.5089034853028\" \n",
      "[3] \"Optimal weights: 87.3420350580263\"  \"Optimal weights: -6.61725408735635\"\n",
      "[5] \"Optimal weights: 9.80651151923976\"  \"Optimal weights: 52.3325321049965\" \n",
      "[1] \"Optimal weights: -142.115850573742\" \"Optimal weights: 4.38317676349956\" \n",
      "[3] \"Optimal weights: 6.79639688682257\"  \"Optimal weights: -0.30525645717619\"\n",
      "[5] \"Optimal weights: 0.442980728839129\" \"Optimal weights: 3.08178942059219\" \n",
      "[1] \"Optimal weights: -17.1780140976336\"  \n",
      "[2] \"Optimal weights: 0.546885236545602\"  \n",
      "[3] \"Optimal weights: 1.2241214068005\"    \n",
      "[4] \"Optimal weights: -0.114444768100426\" \n",
      "[5] \"Optimal weights: 0.151001808935125\"  \n",
      "[6] \"Optimal weights: 0.00105783596527748\"\n",
      "[1] \"Optimal weights: -2.30080168223598\"  \"Optimal weights: 0.210857922897685\" \n",
      "[3] \"Optimal weights: 0.244146171545756\"  \"Optimal weights: -0.097523787415502\"\n",
      "[5] \"Optimal weights: 0.128669214058221\"  \"Optimal weights: -0.63799245902309\" \n"
     ]
    }
   ],
   "source": [
    "## iterating with the learning rate and number of iterations\n",
    "res <- NULL\n",
    "\n",
    "learning_rate <- c(1e-1,1e-2,1e-3,1e-4,1e-5,1e-6)\n",
    "number_iterations <- c(1e2,1e3,1e4,1e5,1e6,1e7)\n",
    "for (iter in number_iterations) {\n",
    "    for (lr in learning_rate) {\n",
    "        gd <- gradientDesc(X, y, lr, iter)$loss\n",
    "        res <- rbind(res, data.frame(cbind(number_iterations=iter,learning_rate=lr, gd)))\n",
    "    }\n",
    "}\n"
   ]
  },
  {
   "cell_type": "code",
   "execution_count": 275,
   "metadata": {},
   "outputs": [
    {
     "data": {
      "text/html": [
       "<table>\n",
       "<caption>A data.frame: 22 × 3</caption>\n",
       "<thead>\n",
       "\t<tr><th scope=col>number_iterations</th><th scope=col>learning_rate</th><th scope=col>gd</th></tr>\n",
       "\t<tr><th scope=col>&lt;dbl&gt;</th><th scope=col>&lt;dbl&gt;</th><th scope=col>&lt;dbl&gt;</th></tr>\n",
       "</thead>\n",
       "<tbody>\n",
       "\t<tr><td>1e+07</td><td>1e-04</td><td> 0.01388609</td></tr>\n",
       "\t<tr><td>1e+07</td><td>1e-05</td><td> 0.14652221</td></tr>\n",
       "\t<tr><td>1e+06</td><td>1e-05</td><td> 0.22458003</td></tr>\n",
       "\t<tr><td>1e+07</td><td>1e-06</td><td> 0.22598425</td></tr>\n",
       "\t<tr><td>1e+06</td><td>1e-06</td><td> 0.24523091</td></tr>\n",
       "\t<tr><td>1e+05</td><td>1e-05</td><td> 0.25310660</td></tr>\n",
       "\t<tr><td>1e+04</td><td>1e-05</td><td> 0.25972747</td></tr>\n",
       "\t<tr><td>1e+05</td><td>1e-06</td><td> 0.26952240</td></tr>\n",
       "\t<tr><td>1e+04</td><td>1e-06</td><td> 0.29611546</td></tr>\n",
       "\t<tr><td>1e+02</td><td>1e-05</td><td> 0.40497737</td></tr>\n",
       "\t<tr><td>1e+03</td><td>1e-05</td><td> 0.65708730</td></tr>\n",
       "\t<tr><td>1e+06</td><td>1e-04</td><td> 0.71069336</td></tr>\n",
       "\t<tr><td>1e+03</td><td>1e-06</td><td> 0.94391892</td></tr>\n",
       "\t<tr><td>1e+05</td><td>1e-04</td><td> 1.06724568</td></tr>\n",
       "\t<tr><td>1e+02</td><td>1e-04</td><td> 1.61819345</td></tr>\n",
       "\t<tr><td>1e+04</td><td>1e-04</td><td> 2.01238388</td></tr>\n",
       "\t<tr><td>1e+03</td><td>1e-04</td><td> 2.18094560</td></tr>\n",
       "\t<tr><td>1e+02</td><td>1e-06</td><td> 6.86705428</td></tr>\n",
       "\t<tr><td>1e+02</td><td>1e-03</td><td>14.51449035</td></tr>\n",
       "\t<tr><td>1e+04</td><td>1e-03</td><td>15.79274705</td></tr>\n",
       "\t<tr><td>1e+03</td><td>1e-03</td><td>23.42431489</td></tr>\n",
       "\t<tr><td>1e+05</td><td>1e-03</td><td>25.28686857</td></tr>\n",
       "</tbody>\n",
       "</table>\n"
      ],
      "text/latex": [
       "A data.frame: 22 × 3\n",
       "\\begin{tabular}{lll}\n",
       " number\\_iterations & learning\\_rate & gd\\\\\n",
       " <dbl> & <dbl> & <dbl>\\\\\n",
       "\\hline\n",
       "\t 1e+07 & 1e-04 &  0.01388609\\\\\n",
       "\t 1e+07 & 1e-05 &  0.14652221\\\\\n",
       "\t 1e+06 & 1e-05 &  0.22458003\\\\\n",
       "\t 1e+07 & 1e-06 &  0.22598425\\\\\n",
       "\t 1e+06 & 1e-06 &  0.24523091\\\\\n",
       "\t 1e+05 & 1e-05 &  0.25310660\\\\\n",
       "\t 1e+04 & 1e-05 &  0.25972747\\\\\n",
       "\t 1e+05 & 1e-06 &  0.26952240\\\\\n",
       "\t 1e+04 & 1e-06 &  0.29611546\\\\\n",
       "\t 1e+02 & 1e-05 &  0.40497737\\\\\n",
       "\t 1e+03 & 1e-05 &  0.65708730\\\\\n",
       "\t 1e+06 & 1e-04 &  0.71069336\\\\\n",
       "\t 1e+03 & 1e-06 &  0.94391892\\\\\n",
       "\t 1e+05 & 1e-04 &  1.06724568\\\\\n",
       "\t 1e+02 & 1e-04 &  1.61819345\\\\\n",
       "\t 1e+04 & 1e-04 &  2.01238388\\\\\n",
       "\t 1e+03 & 1e-04 &  2.18094560\\\\\n",
       "\t 1e+02 & 1e-06 &  6.86705428\\\\\n",
       "\t 1e+02 & 1e-03 & 14.51449035\\\\\n",
       "\t 1e+04 & 1e-03 & 15.79274705\\\\\n",
       "\t 1e+03 & 1e-03 & 23.42431489\\\\\n",
       "\t 1e+05 & 1e-03 & 25.28686857\\\\\n",
       "\\end{tabular}\n"
      ],
      "text/markdown": [
       "\n",
       "A data.frame: 22 × 3\n",
       "\n",
       "| number_iterations &lt;dbl&gt; | learning_rate &lt;dbl&gt; | gd &lt;dbl&gt; |\n",
       "|---|---|---|\n",
       "| 1e+07 | 1e-04 |  0.01388609 |\n",
       "| 1e+07 | 1e-05 |  0.14652221 |\n",
       "| 1e+06 | 1e-05 |  0.22458003 |\n",
       "| 1e+07 | 1e-06 |  0.22598425 |\n",
       "| 1e+06 | 1e-06 |  0.24523091 |\n",
       "| 1e+05 | 1e-05 |  0.25310660 |\n",
       "| 1e+04 | 1e-05 |  0.25972747 |\n",
       "| 1e+05 | 1e-06 |  0.26952240 |\n",
       "| 1e+04 | 1e-06 |  0.29611546 |\n",
       "| 1e+02 | 1e-05 |  0.40497737 |\n",
       "| 1e+03 | 1e-05 |  0.65708730 |\n",
       "| 1e+06 | 1e-04 |  0.71069336 |\n",
       "| 1e+03 | 1e-06 |  0.94391892 |\n",
       "| 1e+05 | 1e-04 |  1.06724568 |\n",
       "| 1e+02 | 1e-04 |  1.61819345 |\n",
       "| 1e+04 | 1e-04 |  2.01238388 |\n",
       "| 1e+03 | 1e-04 |  2.18094560 |\n",
       "| 1e+02 | 1e-06 |  6.86705428 |\n",
       "| 1e+02 | 1e-03 | 14.51449035 |\n",
       "| 1e+04 | 1e-03 | 15.79274705 |\n",
       "| 1e+03 | 1e-03 | 23.42431489 |\n",
       "| 1e+05 | 1e-03 | 25.28686857 |\n",
       "\n"
      ],
      "text/plain": [
       "   number_iterations learning_rate gd         \n",
       "1  1e+07             1e-04          0.01388609\n",
       "2  1e+07             1e-05          0.14652221\n",
       "3  1e+06             1e-05          0.22458003\n",
       "4  1e+07             1e-06          0.22598425\n",
       "5  1e+06             1e-06          0.24523091\n",
       "6  1e+05             1e-05          0.25310660\n",
       "7  1e+04             1e-05          0.25972747\n",
       "8  1e+05             1e-06          0.26952240\n",
       "9  1e+04             1e-06          0.29611546\n",
       "10 1e+02             1e-05          0.40497737\n",
       "11 1e+03             1e-05          0.65708730\n",
       "12 1e+06             1e-04          0.71069336\n",
       "13 1e+03             1e-06          0.94391892\n",
       "14 1e+05             1e-04          1.06724568\n",
       "15 1e+02             1e-04          1.61819345\n",
       "16 1e+04             1e-04          2.01238388\n",
       "17 1e+03             1e-04          2.18094560\n",
       "18 1e+02             1e-06          6.86705428\n",
       "19 1e+02             1e-03         14.51449035\n",
       "20 1e+04             1e-03         15.79274705\n",
       "21 1e+03             1e-03         23.42431489\n",
       "22 1e+05             1e-03         25.28686857"
      ]
     },
     "metadata": {},
     "output_type": "display_data"
    }
   ],
   "source": [
    "res %>% filter(is.infinite(gd)==F) %>% arrange(gd)"
   ]
  },
  {
   "cell_type": "code",
   "execution_count": 276,
   "metadata": {},
   "outputs": [
    {
     "name": "stdout",
     "output_type": "stream",
     "text": [
      "[1] \"Optimal weights: -142.236360616145\"  \"Optimal weights: 4.38126274833254\"  \n",
      "[3] \"Optimal weights: 6.80230361607153\"   \"Optimal weights: -0.305437002387126\"\n",
      "[5] \"Optimal weights: 0.442915103023034\"  \"Optimal weights: 3.12357439640447\"  \n"
     ]
    },
    {
     "data": {
      "text/html": [
       "<dl>\n",
       "\t<dt>$w</dt>\n",
       "\t\t<dd><table>\n",
       "<caption>A matrix: 6 × 1 of type dbl</caption>\n",
       "<tbody>\n",
       "\t<tr><th scope=row>b</th><td>-142.2363606</td></tr>\n",
       "\t<tr><th scope=row>mpg</th><td>   4.3812627</td></tr>\n",
       "\t<tr><th scope=row>cyl</th><td>   6.8023036</td></tr>\n",
       "\t<tr><th scope=row>disp</th><td>  -0.3054370</td></tr>\n",
       "\t<tr><th scope=row>hp</th><td>   0.4429151</td></tr>\n",
       "\t<tr><th scope=row>drat</th><td>   3.1235744</td></tr>\n",
       "</tbody>\n",
       "</table>\n",
       "</dd>\n",
       "\t<dt>$loss</dt>\n",
       "\t\t<dd>0.0138679968267746</dd>\n",
       "</dl>\n"
      ],
      "text/latex": [
       "\\begin{description}\n",
       "\\item[\\$w] A matrix: 6 × 1 of type dbl\n",
       "\\begin{tabular}{r|l}\n",
       "\tb & -142.2363606\\\\\n",
       "\tmpg &    4.3812627\\\\\n",
       "\tcyl &    6.8023036\\\\\n",
       "\tdisp &   -0.3054370\\\\\n",
       "\thp &    0.4429151\\\\\n",
       "\tdrat &    3.1235744\\\\\n",
       "\\end{tabular}\n",
       "\n",
       "\\item[\\$loss] 0.0138679968267746\n",
       "\\end{description}\n"
      ],
      "text/markdown": [
       "$w\n",
       ":   \n",
       "A matrix: 6 × 1 of type dbl\n",
       "\n",
       "| b | -142.2363606 |\n",
       "| mpg |    4.3812627 |\n",
       "| cyl |    6.8023036 |\n",
       "| disp |   -0.3054370 |\n",
       "| hp |    0.4429151 |\n",
       "| drat |    3.1235744 |\n",
       "\n",
       "\n",
       "$loss\n",
       ":   0.0138679968267746\n",
       "\n",
       "\n"
      ],
      "text/plain": [
       "$w\n",
       "             [,1]\n",
       "b    -142.2363606\n",
       "mpg     4.3812627\n",
       "cyl     6.8023036\n",
       "disp   -0.3054370\n",
       "hp      0.4429151\n",
       "drat    3.1235744\n",
       "\n",
       "$loss\n",
       "[1] 0.013868\n"
      ]
     },
     "metadata": {},
     "output_type": "display_data"
    }
   ],
   "source": [
    "# BEST: iter=1e+07 , lr=1e-04\n",
    "gradientDesc(X,y,learn_rate=1e-04, max_iter=1e+07)"
   ]
  },
  {
   "cell_type": "code",
   "execution_count": 291,
   "metadata": {},
   "outputs": [
    {
     "data": {
      "text/html": [
       "<style>\n",
       ".dl-inline {width: auto; margin:0; padding: 0}\n",
       ".dl-inline>dt, .dl-inline>dd {float: none; width: auto; display: inline-block}\n",
       ".dl-inline>dt::after {content: \":\\0020\"; padding-right: .5ex}\n",
       ".dl-inline>dt:not(:first-of-type) {padding-left: .5ex}\n",
       "</style><dl class=dl-inline><dt>(Intercept)</dt><dd>-1686.63733184119</dd><dt>mpg</dt><dd>45.9801079749864</dd><dt>cyl</dt><dd>49.8576454389484</dd><dt>disp</dt><dd>-1.78903134938011</dd><dt>hp</dt><dd>4.08342633732622</dd><dt>drat</dt><dd>71.8881819896343</dd></dl>\n"
      ],
      "text/latex": [
       "\\begin{description*}\n",
       "\\item[(Intercept)] -1686.63733184119\n",
       "\\item[mpg] 45.9801079749864\n",
       "\\item[cyl] 49.8576454389484\n",
       "\\item[disp] -1.78903134938011\n",
       "\\item[hp] 4.08342633732622\n",
       "\\item[drat] 71.8881819896343\n",
       "\\end{description*}\n"
      ],
      "text/markdown": [
       "(Intercept)\n",
       ":   -1686.63733184119mpg\n",
       ":   45.9801079749864cyl\n",
       ":   49.8576454389484disp\n",
       ":   -1.78903134938011hp\n",
       ":   4.08342633732622drat\n",
       ":   71.8881819896343\n",
       "\n"
      ],
      "text/plain": [
       " (Intercept)          mpg          cyl         disp           hp         drat \n",
       "-1686.637332    45.980108    49.857645    -1.789031     4.083426    71.888182 "
      ]
     },
     "metadata": {},
     "output_type": "display_data"
    }
   ],
   "source": [
    "mod1$coefficients"
   ]
  },
  {
   "cell_type": "code",
   "execution_count": 290,
   "metadata": {},
   "outputs": [
    {
     "data": {
      "text/html": [
       "<table>\n",
       "<caption>A data.frame: 32 × 2</caption>\n",
       "<thead>\n",
       "\t<tr><th scope=col>yhat</th><th scope=col>y</th></tr>\n",
       "\t<tr><th scope=col>&lt;dbl&gt;</th><th scope=col>&lt;dbl&gt;</th></tr>\n",
       "</thead>\n",
       "<tbody>\n",
       "\t<tr><td>0.93193</td><td>1</td></tr>\n",
       "\t<tr><td>0.93193</td><td>1</td></tr>\n",
       "\t<tr><td>0.99391</td><td>1</td></tr>\n",
       "\t<tr><td>0.00000</td><td>0</td></tr>\n",
       "\t<tr><td>0.00000</td><td>0</td></tr>\n",
       "\t<tr><td>0.00000</td><td>0</td></tr>\n",
       "\t<tr><td>0.00000</td><td>0</td></tr>\n",
       "\t<tr><td>0.00000</td><td>0</td></tr>\n",
       "\t<tr><td>0.02149</td><td>0</td></tr>\n",
       "\t<tr><td>0.14547</td><td>0</td></tr>\n",
       "\t<tr><td>0.00037</td><td>0</td></tr>\n",
       "\t<tr><td>0.00002</td><td>0</td></tr>\n",
       "\t<tr><td>0.00096</td><td>0</td></tr>\n",
       "\t<tr><td>0.00000</td><td>0</td></tr>\n",
       "\t<tr><td>0.00000</td><td>0</td></tr>\n",
       "\t<tr><td>0.00000</td><td>0</td></tr>\n",
       "\t<tr><td>0.00000</td><td>0</td></tr>\n",
       "\t<tr><td>1.00000</td><td>1</td></tr>\n",
       "\t<tr><td>1.00000</td><td>1</td></tr>\n",
       "\t<tr><td>1.00000</td><td>1</td></tr>\n",
       "\t<tr><td>0.04774</td><td>0</td></tr>\n",
       "\t<tr><td>0.00000</td><td>0</td></tr>\n",
       "\t<tr><td>0.00000</td><td>0</td></tr>\n",
       "\t<tr><td>0.00000</td><td>0</td></tr>\n",
       "\t<tr><td>0.00000</td><td>0</td></tr>\n",
       "\t<tr><td>1.00000</td><td>1</td></tr>\n",
       "\t<tr><td>1.00000</td><td>1</td></tr>\n",
       "\t<tr><td>1.00000</td><td>1</td></tr>\n",
       "\t<tr><td>0.98673</td><td>1</td></tr>\n",
       "\t<tr><td>1.00000</td><td>1</td></tr>\n",
       "\t<tr><td>1.00000</td><td>1</td></tr>\n",
       "\t<tr><td>0.94733</td><td>1</td></tr>\n",
       "</tbody>\n",
       "</table>\n"
      ],
      "text/latex": [
       "A data.frame: 32 × 2\n",
       "\\begin{tabular}{ll}\n",
       " yhat & y\\\\\n",
       " <dbl> & <dbl>\\\\\n",
       "\\hline\n",
       "\t 0.93193 & 1\\\\\n",
       "\t 0.93193 & 1\\\\\n",
       "\t 0.99391 & 1\\\\\n",
       "\t 0.00000 & 0\\\\\n",
       "\t 0.00000 & 0\\\\\n",
       "\t 0.00000 & 0\\\\\n",
       "\t 0.00000 & 0\\\\\n",
       "\t 0.00000 & 0\\\\\n",
       "\t 0.02149 & 0\\\\\n",
       "\t 0.14547 & 0\\\\\n",
       "\t 0.00037 & 0\\\\\n",
       "\t 0.00002 & 0\\\\\n",
       "\t 0.00096 & 0\\\\\n",
       "\t 0.00000 & 0\\\\\n",
       "\t 0.00000 & 0\\\\\n",
       "\t 0.00000 & 0\\\\\n",
       "\t 0.00000 & 0\\\\\n",
       "\t 1.00000 & 1\\\\\n",
       "\t 1.00000 & 1\\\\\n",
       "\t 1.00000 & 1\\\\\n",
       "\t 0.04774 & 0\\\\\n",
       "\t 0.00000 & 0\\\\\n",
       "\t 0.00000 & 0\\\\\n",
       "\t 0.00000 & 0\\\\\n",
       "\t 0.00000 & 0\\\\\n",
       "\t 1.00000 & 1\\\\\n",
       "\t 1.00000 & 1\\\\\n",
       "\t 1.00000 & 1\\\\\n",
       "\t 0.98673 & 1\\\\\n",
       "\t 1.00000 & 1\\\\\n",
       "\t 1.00000 & 1\\\\\n",
       "\t 0.94733 & 1\\\\\n",
       "\\end{tabular}\n"
      ],
      "text/markdown": [
       "\n",
       "A data.frame: 32 × 2\n",
       "\n",
       "| yhat &lt;dbl&gt; | y &lt;dbl&gt; |\n",
       "|---|---|\n",
       "| 0.93193 | 1 |\n",
       "| 0.93193 | 1 |\n",
       "| 0.99391 | 1 |\n",
       "| 0.00000 | 0 |\n",
       "| 0.00000 | 0 |\n",
       "| 0.00000 | 0 |\n",
       "| 0.00000 | 0 |\n",
       "| 0.00000 | 0 |\n",
       "| 0.02149 | 0 |\n",
       "| 0.14547 | 0 |\n",
       "| 0.00037 | 0 |\n",
       "| 0.00002 | 0 |\n",
       "| 0.00096 | 0 |\n",
       "| 0.00000 | 0 |\n",
       "| 0.00000 | 0 |\n",
       "| 0.00000 | 0 |\n",
       "| 0.00000 | 0 |\n",
       "| 1.00000 | 1 |\n",
       "| 1.00000 | 1 |\n",
       "| 1.00000 | 1 |\n",
       "| 0.04774 | 0 |\n",
       "| 0.00000 | 0 |\n",
       "| 0.00000 | 0 |\n",
       "| 0.00000 | 0 |\n",
       "| 0.00000 | 0 |\n",
       "| 1.00000 | 1 |\n",
       "| 1.00000 | 1 |\n",
       "| 1.00000 | 1 |\n",
       "| 0.98673 | 1 |\n",
       "| 1.00000 | 1 |\n",
       "| 1.00000 | 1 |\n",
       "| 0.94733 | 1 |\n",
       "\n"
      ],
      "text/plain": [
       "   yhat    y\n",
       "1  0.93193 1\n",
       "2  0.93193 1\n",
       "3  0.99391 1\n",
       "4  0.00000 0\n",
       "5  0.00000 0\n",
       "6  0.00000 0\n",
       "7  0.00000 0\n",
       "8  0.00000 0\n",
       "9  0.02149 0\n",
       "10 0.14547 0\n",
       "11 0.00037 0\n",
       "12 0.00002 0\n",
       "13 0.00096 0\n",
       "14 0.00000 0\n",
       "15 0.00000 0\n",
       "16 0.00000 0\n",
       "17 0.00000 0\n",
       "18 1.00000 1\n",
       "19 1.00000 1\n",
       "20 1.00000 1\n",
       "21 0.04774 0\n",
       "22 0.00000 0\n",
       "23 0.00000 0\n",
       "24 0.00000 0\n",
       "25 0.00000 0\n",
       "26 1.00000 1\n",
       "27 1.00000 1\n",
       "28 1.00000 1\n",
       "29 0.98673 1\n",
       "30 1.00000 1\n",
       "31 1.00000 1\n",
       "32 0.94733 1"
      ]
     },
     "metadata": {},
     "output_type": "display_data"
    },
    {
     "data": {
      "text/plain": [
       "   pred\n",
       "y    0  1\n",
       "  0 19  0\n",
       "  1  0 13"
      ]
     },
     "metadata": {},
     "output_type": "display_data"
    }
   ],
   "source": [
    "predgd <- mtcars %>% \n",
    "  mutate(z = -142.2363606 + (mpg*4.3812627) + (cyl*6.8023036) + (disp*-0.3054370) + (hp*0.4429151) + (drat*3.1235744)) %>%\n",
    "  mutate(yhat = sigma(z)) %>%\n",
    "  select(yhat)\n",
    "cbind(round(predgd,5),y)\n",
    "table(y=y, pred=ifelse(predgd>=0.5,1,0))"
   ]
  },
  {
   "cell_type": "code",
   "execution_count": 292,
   "metadata": {},
   "outputs": [
    {
     "data": {
      "text/plain": [
       "   pred\n",
       "y    0  1\n",
       "  0 19  0\n",
       "  1  0 13"
      ]
     },
     "metadata": {},
     "output_type": "display_data"
    }
   ],
   "source": [
    "#rm(predict)\n",
    "pred1 <- predict(mod1,type=\"response\")\n",
    "table(y=y, pred=ifelse(pred1 >= 0.5,1,0))"
   ]
  }
 ],
 "metadata": {
  "kernelspec": {
   "display_name": "R",
   "language": "R",
   "name": "ir"
  },
  "language_info": {
   "codemirror_mode": "r",
   "file_extension": ".r",
   "mimetype": "text/x-r-source",
   "name": "R",
   "pygments_lexer": "r",
   "version": "3.6.1"
  }
 },
 "nbformat": 4,
 "nbformat_minor": 2
}
