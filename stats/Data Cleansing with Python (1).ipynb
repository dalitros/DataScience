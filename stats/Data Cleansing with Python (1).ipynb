{
 "cells": [
  {
   "cell_type": "markdown",
   "metadata": {},
   "source": [
    "# Missing Values Analysis and Imputation\n",
    " \n",
    "For this we will use the Pima indians diabetes dataset"
   ]
  },
  {
   "cell_type": "code",
   "execution_count": 1,
   "metadata": {},
   "outputs": [],
   "source": [
    "import numpy as np\n",
    "import pandas as pd\n",
    "import matplotlib.pyplot as plt\n",
    "%matplotlib inline\n",
    "import seaborn as sns"
   ]
  },
  {
   "cell_type": "code",
   "execution_count": 4,
   "metadata": {},
   "outputs": [
    {
     "data": {
      "text/html": [
       "<div>\n",
       "<style scoped>\n",
       "    .dataframe tbody tr th:only-of-type {\n",
       "        vertical-align: middle;\n",
       "    }\n",
       "\n",
       "    .dataframe tbody tr th {\n",
       "        vertical-align: top;\n",
       "    }\n",
       "\n",
       "    .dataframe thead th {\n",
       "        text-align: right;\n",
       "    }\n",
       "</style>\n",
       "<table border=\"1\" class=\"dataframe\">\n",
       "  <thead>\n",
       "    <tr style=\"text-align: right;\">\n",
       "      <th></th>\n",
       "      <th>species</th>\n",
       "      <th>bw</th>\n",
       "      <th>brw</th>\n",
       "      <th>sws</th>\n",
       "      <th>ps</th>\n",
       "      <th>ts</th>\n",
       "      <th>mls</th>\n",
       "      <th>gt</th>\n",
       "      <th>pi</th>\n",
       "      <th>sei</th>\n",
       "      <th>odi</th>\n",
       "    </tr>\n",
       "  </thead>\n",
       "  <tbody>\n",
       "    <tr>\n",
       "      <th>0</th>\n",
       "      <td>African elephant</td>\n",
       "      <td>6654.000</td>\n",
       "      <td>5712.0</td>\n",
       "      <td>NaN</td>\n",
       "      <td>NaN</td>\n",
       "      <td>3.3</td>\n",
       "      <td>38.6</td>\n",
       "      <td>645.0</td>\n",
       "      <td>3</td>\n",
       "      <td>5</td>\n",
       "      <td>3</td>\n",
       "    </tr>\n",
       "    <tr>\n",
       "      <th>1</th>\n",
       "      <td>African giant pouched rat</td>\n",
       "      <td>1.000</td>\n",
       "      <td>6.6</td>\n",
       "      <td>6.3</td>\n",
       "      <td>2.0</td>\n",
       "      <td>8.3</td>\n",
       "      <td>4.5</td>\n",
       "      <td>42.0</td>\n",
       "      <td>3</td>\n",
       "      <td>1</td>\n",
       "      <td>3</td>\n",
       "    </tr>\n",
       "    <tr>\n",
       "      <th>2</th>\n",
       "      <td>Arctic Fox</td>\n",
       "      <td>3.385</td>\n",
       "      <td>44.5</td>\n",
       "      <td>NaN</td>\n",
       "      <td>NaN</td>\n",
       "      <td>12.5</td>\n",
       "      <td>14.0</td>\n",
       "      <td>60.0</td>\n",
       "      <td>1</td>\n",
       "      <td>1</td>\n",
       "      <td>1</td>\n",
       "    </tr>\n",
       "    <tr>\n",
       "      <th>3</th>\n",
       "      <td>Arctic ground squirrel</td>\n",
       "      <td>0.920</td>\n",
       "      <td>5.7</td>\n",
       "      <td>NaN</td>\n",
       "      <td>NaN</td>\n",
       "      <td>16.5</td>\n",
       "      <td>NaN</td>\n",
       "      <td>25.0</td>\n",
       "      <td>5</td>\n",
       "      <td>2</td>\n",
       "      <td>3</td>\n",
       "    </tr>\n",
       "    <tr>\n",
       "      <th>4</th>\n",
       "      <td>Asian elephant</td>\n",
       "      <td>2547.000</td>\n",
       "      <td>4603.0</td>\n",
       "      <td>2.1</td>\n",
       "      <td>1.8</td>\n",
       "      <td>3.9</td>\n",
       "      <td>69.0</td>\n",
       "      <td>624.0</td>\n",
       "      <td>3</td>\n",
       "      <td>5</td>\n",
       "      <td>4</td>\n",
       "    </tr>\n",
       "  </tbody>\n",
       "</table>\n",
       "</div>"
      ],
      "text/plain": [
       "                     species        bw     brw  sws   ps    ts   mls     gt  \\\n",
       "0           African elephant  6654.000  5712.0  NaN  NaN   3.3  38.6  645.0   \n",
       "1  African giant pouched rat     1.000     6.6  6.3  2.0   8.3   4.5   42.0   \n",
       "2                 Arctic Fox     3.385    44.5  NaN  NaN  12.5  14.0   60.0   \n",
       "3     Arctic ground squirrel     0.920     5.7  NaN  NaN  16.5   NaN   25.0   \n",
       "4             Asian elephant  2547.000  4603.0  2.1  1.8   3.9  69.0  624.0   \n",
       "\n",
       "   pi  sei  odi  \n",
       "0   3    5    3  \n",
       "1   3    1    3  \n",
       "2   1    1    1  \n",
       "3   5    2    3  \n",
       "4   3    5    4  "
      ]
     },
     "execution_count": 4,
     "metadata": {},
     "output_type": "execute_result"
    }
   ],
   "source": [
    "animals = pd.read_csv(\"C:/Users/dalit/DataScience/data/mammalsleep.csv\")\n",
    "animals = animals.iloc[:,1:12]\n",
    "animals.head()"
   ]
  },
  {
   "cell_type": "markdown",
   "metadata": {},
   "source": [
    "<u>Mammal Sleep Dataset</u>\n",
    "\n",
    "<table>\n",
    "    <tr><th>species</th><td>Species of animal</td></tr>\n",
    "    <tr><th>bw</th><td> Body weight (kg)</td></tr>\n",
    "    <tr><th>brw</th><td> Brain weight (g)</td></tr>\n",
    "    <tr><th>sws</th><td> Slow wave (\"nondreaming\") sleep (hrs/day)</td></tr>\n",
    "    <tr><th>ps</th><td> Paradoxical (\"dreaming\") sleep (hrs/day)</td></tr>\n",
    "    <tr><th>ts</th><td> Total sleep (hrs/day) (sum of slow wave and paradoxical sleep)</td></tr>\n",
    "    <tr><th>mls</th><td> Maximum life span (years)</td></tr>\n",
    "    <tr><th>gt</th><td> Gestation time (days)</td></tr>\n",
    "    <tr><th>pi</th><td> Predation index (1-5), 1 = least likely to be preyed upon</td></tr>\n",
    "    <tr><th>sei</th><td> Sleep exposure index (1-5), 1 = least exposed (e.g. animal sleeps in a well-protected den), 5 = most exposed</td></tr>\n",
    "    <tr><th>odi</th><td> Overall danger index (1-5) based on the above two indices and other information, 1 = least danger (from other animals), 5 = most danger (from other animals)</td></tr>\n",
    "</table>\n"
   ]
  },
  {
   "cell_type": "code",
   "execution_count": 5,
   "metadata": {},
   "outputs": [
    {
     "name": "stdout",
     "output_type": "stream",
     "text": [
      "<class 'pandas.core.frame.DataFrame'>\n",
      "RangeIndex: 62 entries, 0 to 61\n",
      "Data columns (total 11 columns):\n",
      " #   Column   Non-Null Count  Dtype  \n",
      "---  ------   --------------  -----  \n",
      " 0   species  62 non-null     object \n",
      " 1   bw       62 non-null     float64\n",
      " 2   brw      62 non-null     float64\n",
      " 3   sws      48 non-null     float64\n",
      " 4   ps       50 non-null     float64\n",
      " 5   ts       58 non-null     float64\n",
      " 6   mls      58 non-null     float64\n",
      " 7   gt       58 non-null     float64\n",
      " 8   pi       62 non-null     int64  \n",
      " 9   sei      62 non-null     int64  \n",
      " 10  odi      62 non-null     int64  \n",
      "dtypes: float64(7), int64(3), object(1)\n",
      "memory usage: 5.5+ KB\n"
     ]
    }
   ],
   "source": [
    "animals.info()"
   ]
  },
  {
   "cell_type": "code",
   "execution_count": 6,
   "metadata": {},
   "outputs": [
    {
     "name": "stdout",
     "output_type": "stream",
     "text": [
      "species     0\n",
      "bw          0\n",
      "brw         0\n",
      "sws        14\n",
      "ps         12\n",
      "ts          4\n",
      "mls         4\n",
      "gt          4\n",
      "pi          0\n",
      "sei         0\n",
      "odi         0\n",
      "dtype: int64\n"
     ]
    }
   ],
   "source": [
    "print(animals.isnull().sum())"
   ]
  },
  {
   "cell_type": "code",
   "execution_count": 7,
   "metadata": {
    "scrolled": true
   },
   "outputs": [
    {
     "data": {
      "text/html": [
       "<div>\n",
       "<style scoped>\n",
       "    .dataframe tbody tr th:only-of-type {\n",
       "        vertical-align: middle;\n",
       "    }\n",
       "\n",
       "    .dataframe tbody tr th {\n",
       "        vertical-align: top;\n",
       "    }\n",
       "\n",
       "    .dataframe thead th {\n",
       "        text-align: right;\n",
       "    }\n",
       "</style>\n",
       "<table border=\"1\" class=\"dataframe\">\n",
       "  <thead>\n",
       "    <tr style=\"text-align: right;\">\n",
       "      <th></th>\n",
       "      <th>bw</th>\n",
       "      <th>brw</th>\n",
       "      <th>sws</th>\n",
       "      <th>ps</th>\n",
       "      <th>ts</th>\n",
       "      <th>mls</th>\n",
       "      <th>gt</th>\n",
       "      <th>pi</th>\n",
       "      <th>sei</th>\n",
       "      <th>odi</th>\n",
       "    </tr>\n",
       "  </thead>\n",
       "  <tbody>\n",
       "    <tr>\n",
       "      <th>count</th>\n",
       "      <td>62.000000</td>\n",
       "      <td>62.000000</td>\n",
       "      <td>48.000000</td>\n",
       "      <td>50.000000</td>\n",
       "      <td>58.000000</td>\n",
       "      <td>58.000000</td>\n",
       "      <td>58.000000</td>\n",
       "      <td>62.000000</td>\n",
       "      <td>62.000000</td>\n",
       "      <td>62.000000</td>\n",
       "    </tr>\n",
       "    <tr>\n",
       "      <th>mean</th>\n",
       "      <td>198.789984</td>\n",
       "      <td>283.134194</td>\n",
       "      <td>8.672917</td>\n",
       "      <td>1.972000</td>\n",
       "      <td>10.532759</td>\n",
       "      <td>19.877586</td>\n",
       "      <td>142.353448</td>\n",
       "      <td>2.870968</td>\n",
       "      <td>2.419355</td>\n",
       "      <td>2.612903</td>\n",
       "    </tr>\n",
       "    <tr>\n",
       "      <th>std</th>\n",
       "      <td>899.158011</td>\n",
       "      <td>930.278942</td>\n",
       "      <td>3.666452</td>\n",
       "      <td>1.442651</td>\n",
       "      <td>4.606760</td>\n",
       "      <td>18.206255</td>\n",
       "      <td>146.805039</td>\n",
       "      <td>1.476414</td>\n",
       "      <td>1.604792</td>\n",
       "      <td>1.441252</td>\n",
       "    </tr>\n",
       "    <tr>\n",
       "      <th>min</th>\n",
       "      <td>0.005000</td>\n",
       "      <td>0.140000</td>\n",
       "      <td>2.100000</td>\n",
       "      <td>0.000000</td>\n",
       "      <td>2.600000</td>\n",
       "      <td>2.000000</td>\n",
       "      <td>12.000000</td>\n",
       "      <td>1.000000</td>\n",
       "      <td>1.000000</td>\n",
       "      <td>1.000000</td>\n",
       "    </tr>\n",
       "    <tr>\n",
       "      <th>25%</th>\n",
       "      <td>0.600000</td>\n",
       "      <td>4.250000</td>\n",
       "      <td>6.250000</td>\n",
       "      <td>0.900000</td>\n",
       "      <td>8.050000</td>\n",
       "      <td>6.625000</td>\n",
       "      <td>35.750000</td>\n",
       "      <td>2.000000</td>\n",
       "      <td>1.000000</td>\n",
       "      <td>1.000000</td>\n",
       "    </tr>\n",
       "    <tr>\n",
       "      <th>50%</th>\n",
       "      <td>3.342500</td>\n",
       "      <td>17.250000</td>\n",
       "      <td>8.350000</td>\n",
       "      <td>1.800000</td>\n",
       "      <td>10.450000</td>\n",
       "      <td>15.100000</td>\n",
       "      <td>79.000000</td>\n",
       "      <td>3.000000</td>\n",
       "      <td>2.000000</td>\n",
       "      <td>2.000000</td>\n",
       "    </tr>\n",
       "    <tr>\n",
       "      <th>75%</th>\n",
       "      <td>48.202500</td>\n",
       "      <td>166.000000</td>\n",
       "      <td>11.000000</td>\n",
       "      <td>2.550000</td>\n",
       "      <td>13.200000</td>\n",
       "      <td>27.750000</td>\n",
       "      <td>207.500000</td>\n",
       "      <td>4.000000</td>\n",
       "      <td>4.000000</td>\n",
       "      <td>4.000000</td>\n",
       "    </tr>\n",
       "    <tr>\n",
       "      <th>max</th>\n",
       "      <td>6654.000000</td>\n",
       "      <td>5712.000000</td>\n",
       "      <td>17.900000</td>\n",
       "      <td>6.600000</td>\n",
       "      <td>19.900000</td>\n",
       "      <td>100.000000</td>\n",
       "      <td>645.000000</td>\n",
       "      <td>5.000000</td>\n",
       "      <td>5.000000</td>\n",
       "      <td>5.000000</td>\n",
       "    </tr>\n",
       "  </tbody>\n",
       "</table>\n",
       "</div>"
      ],
      "text/plain": [
       "                bw          brw        sws         ps         ts         mls  \\\n",
       "count    62.000000    62.000000  48.000000  50.000000  58.000000   58.000000   \n",
       "mean    198.789984   283.134194   8.672917   1.972000  10.532759   19.877586   \n",
       "std     899.158011   930.278942   3.666452   1.442651   4.606760   18.206255   \n",
       "min       0.005000     0.140000   2.100000   0.000000   2.600000    2.000000   \n",
       "25%       0.600000     4.250000   6.250000   0.900000   8.050000    6.625000   \n",
       "50%       3.342500    17.250000   8.350000   1.800000  10.450000   15.100000   \n",
       "75%      48.202500   166.000000  11.000000   2.550000  13.200000   27.750000   \n",
       "max    6654.000000  5712.000000  17.900000   6.600000  19.900000  100.000000   \n",
       "\n",
       "               gt         pi        sei        odi  \n",
       "count   58.000000  62.000000  62.000000  62.000000  \n",
       "mean   142.353448   2.870968   2.419355   2.612903  \n",
       "std    146.805039   1.476414   1.604792   1.441252  \n",
       "min     12.000000   1.000000   1.000000   1.000000  \n",
       "25%     35.750000   2.000000   1.000000   1.000000  \n",
       "50%     79.000000   3.000000   2.000000   2.000000  \n",
       "75%    207.500000   4.000000   4.000000   4.000000  \n",
       "max    645.000000   5.000000   5.000000   5.000000  "
      ]
     },
     "execution_count": 7,
     "metadata": {},
     "output_type": "execute_result"
    }
   ],
   "source": [
    "animals.describe()\n"
   ]
  },
  {
   "cell_type": "markdown",
   "metadata": {},
   "source": [
    "## Checking the Missing Mechanisms\n"
   ]
  },
  {
   "cell_type": "code",
   "execution_count": 20,
   "metadata": {},
   "outputs": [
    {
     "name": "stdout",
     "output_type": "stream",
     "text": [
      "Requirement already satisfied: missingno in c:\\users\\dalit\\anaconda3\\lib\\site-packages (0.4.2)\n",
      "Requirement already satisfied: matplotlib in c:\\users\\dalit\\anaconda3\\lib\\site-packages (from missingno) (3.1.3)\n",
      "Requirement already satisfied: numpy in c:\\users\\dalit\\anaconda3\\lib\\site-packages (from missingno) (1.18.1)\n",
      "Requirement already satisfied: seaborn in c:\\users\\dalit\\anaconda3\\lib\\site-packages (from missingno) (0.10.0)\n",
      "Requirement already satisfied: scipy in c:\\users\\dalit\\anaconda3\\lib\\site-packages (from missingno) (1.4.1)\n",
      "Requirement already satisfied: kiwisolver>=1.0.1 in c:\\users\\dalit\\anaconda3\\lib\\site-packages (from matplotlib->missingno) (1.1.0)\n",
      "Requirement already satisfied: python-dateutil>=2.1 in c:\\users\\dalit\\anaconda3\\lib\\site-packages (from matplotlib->missingno) (2.8.1)\n",
      "Requirement already satisfied: cycler>=0.10 in c:\\users\\dalit\\anaconda3\\lib\\site-packages (from matplotlib->missingno) (0.10.0)\n",
      "Requirement already satisfied: pyparsing!=2.0.4,!=2.1.2,!=2.1.6,>=2.0.1 in c:\\users\\dalit\\anaconda3\\lib\\site-packages (from matplotlib->missingno) (2.4.6)\n",
      "Requirement already satisfied: pandas>=0.22.0 in c:\\users\\dalit\\anaconda3\\lib\\site-packages (from seaborn->missingno) (1.0.1)\n",
      "Requirement already satisfied: setuptools in c:\\users\\dalit\\anaconda3\\lib\\site-packages (from kiwisolver>=1.0.1->matplotlib->missingno) (45.2.0.post20200210)\n",
      "Requirement already satisfied: six>=1.5 in c:\\users\\dalit\\anaconda3\\lib\\site-packages (from python-dateutil>=2.1->matplotlib->missingno) (1.14.0)\n",
      "Requirement already satisfied: pytz>=2017.2 in c:\\users\\dalit\\anaconda3\\lib\\site-packages (from pandas>=0.22.0->seaborn->missingno) (2019.3)\n",
      "Note: you may need to restart the kernel to use updated packages.\n"
     ]
    }
   ],
   "source": [
    "pip install missingno"
   ]
  },
  {
   "cell_type": "code",
   "execution_count": 21,
   "metadata": {},
   "outputs": [],
   "source": [
    "\n",
    "import missingno as msno\n",
    "\n"
   ]
  },
  {
   "cell_type": "code",
   "execution_count": 22,
   "metadata": {},
   "outputs": [
    {
     "data": {
      "text/plain": [
       "<matplotlib.axes._subplots.AxesSubplot at 0x1c431a72908>"
      ]
     },
     "execution_count": 22,
     "metadata": {},
     "output_type": "execute_result"
    },
    {
     "data": {
      "image/png": "[encoded data removed]",
      "text/plain": [
       "<Figure size 1800x720 with 2 Axes>"
      ]
     },
     "metadata": {
      "needs_background": "light"
     },
     "output_type": "display_data"
    }
   ],
   "source": [
    "### plot the missingness (nullity) matrix\n",
    "missingdata_df = animals.columns[animals.isnull().any()].tolist()\n",
    "msno.matrix(animals[missingdata_df])\n"
   ]
  },
  {
   "cell_type": "code",
   "execution_count": 23,
   "metadata": {},
   "outputs": [
    {
     "data": {
      "text/plain": [
       "<matplotlib.axes._subplots.AxesSubplot at 0x1c4320267c8>"
      ]
     },
     "execution_count": 23,
     "metadata": {},
     "output_type": "execute_result"
    },
    {
     "data": {
      "image/png": "[encoded data removed]",
      "text/plain": [
       "<Figure size 360x360 with 2 Axes>"
      ]
     },
     "metadata": {
      "needs_background": "light"
     },
     "output_type": "display_data"
    }
   ],
   "source": [
    "## missingness correlation heatmap\n",
    "\n",
    "msno.heatmap(animals[missingdata_df], figsize=(5,5))"
   ]
  },
  {
   "cell_type": "code",
   "execution_count": 25,
   "metadata": {},
   "outputs": [
    {
     "data": {
      "text/html": [
       "<div>\n",
       "<style scoped>\n",
       "    .dataframe tbody tr th:only-of-type {\n",
       "        vertical-align: middle;\n",
       "    }\n",
       "\n",
       "    .dataframe tbody tr th {\n",
       "        vertical-align: top;\n",
       "    }\n",
       "\n",
       "    .dataframe thead th {\n",
       "        text-align: right;\n",
       "    }\n",
       "</style>\n",
       "<table border=\"1\" class=\"dataframe\">\n",
       "  <thead>\n",
       "    <tr style=\"text-align: right;\">\n",
       "      <th></th>\n",
       "      <th>species</th>\n",
       "      <th>bw</th>\n",
       "      <th>brw</th>\n",
       "      <th>sws</th>\n",
       "      <th>ps</th>\n",
       "      <th>ts</th>\n",
       "      <th>mls</th>\n",
       "      <th>gt</th>\n",
       "      <th>pi</th>\n",
       "      <th>sei</th>\n",
       "      <th>odi</th>\n",
       "      <th>sws_na</th>\n",
       "      <th>ps_na</th>\n",
       "      <th>ts_na</th>\n",
       "      <th>mls_na</th>\n",
       "      <th>gt_na</th>\n",
       "    </tr>\n",
       "  </thead>\n",
       "  <tbody>\n",
       "    <tr>\n",
       "      <th>0</th>\n",
       "      <td>African elephant</td>\n",
       "      <td>6654.000</td>\n",
       "      <td>5712.0</td>\n",
       "      <td>NaN</td>\n",
       "      <td>NaN</td>\n",
       "      <td>3.3</td>\n",
       "      <td>38.6</td>\n",
       "      <td>645.0</td>\n",
       "      <td>3</td>\n",
       "      <td>5</td>\n",
       "      <td>3</td>\n",
       "      <td>1</td>\n",
       "      <td>1</td>\n",
       "      <td>0</td>\n",
       "      <td>0</td>\n",
       "      <td>0</td>\n",
       "    </tr>\n",
       "    <tr>\n",
       "      <th>1</th>\n",
       "      <td>African giant pouched rat</td>\n",
       "      <td>1.000</td>\n",
       "      <td>6.6</td>\n",
       "      <td>6.3</td>\n",
       "      <td>2.0</td>\n",
       "      <td>8.3</td>\n",
       "      <td>4.5</td>\n",
       "      <td>42.0</td>\n",
       "      <td>3</td>\n",
       "      <td>1</td>\n",
       "      <td>3</td>\n",
       "      <td>0</td>\n",
       "      <td>0</td>\n",
       "      <td>0</td>\n",
       "      <td>0</td>\n",
       "      <td>0</td>\n",
       "    </tr>\n",
       "    <tr>\n",
       "      <th>2</th>\n",
       "      <td>Arctic Fox</td>\n",
       "      <td>3.385</td>\n",
       "      <td>44.5</td>\n",
       "      <td>NaN</td>\n",
       "      <td>NaN</td>\n",
       "      <td>12.5</td>\n",
       "      <td>14.0</td>\n",
       "      <td>60.0</td>\n",
       "      <td>1</td>\n",
       "      <td>1</td>\n",
       "      <td>1</td>\n",
       "      <td>1</td>\n",
       "      <td>1</td>\n",
       "      <td>0</td>\n",
       "      <td>0</td>\n",
       "      <td>0</td>\n",
       "    </tr>\n",
       "    <tr>\n",
       "      <th>3</th>\n",
       "      <td>Arctic ground squirrel</td>\n",
       "      <td>0.920</td>\n",
       "      <td>5.7</td>\n",
       "      <td>NaN</td>\n",
       "      <td>NaN</td>\n",
       "      <td>16.5</td>\n",
       "      <td>NaN</td>\n",
       "      <td>25.0</td>\n",
       "      <td>5</td>\n",
       "      <td>2</td>\n",
       "      <td>3</td>\n",
       "      <td>1</td>\n",
       "      <td>1</td>\n",
       "      <td>0</td>\n",
       "      <td>1</td>\n",
       "      <td>0</td>\n",
       "    </tr>\n",
       "    <tr>\n",
       "      <th>4</th>\n",
       "      <td>Asian elephant</td>\n",
       "      <td>2547.000</td>\n",
       "      <td>4603.0</td>\n",
       "      <td>2.1</td>\n",
       "      <td>1.8</td>\n",
       "      <td>3.9</td>\n",
       "      <td>69.0</td>\n",
       "      <td>624.0</td>\n",
       "      <td>3</td>\n",
       "      <td>5</td>\n",
       "      <td>4</td>\n",
       "      <td>0</td>\n",
       "      <td>0</td>\n",
       "      <td>0</td>\n",
       "      <td>0</td>\n",
       "      <td>0</td>\n",
       "    </tr>\n",
       "  </tbody>\n",
       "</table>\n",
       "</div>"
      ],
      "text/plain": [
       "                     species        bw     brw  sws   ps    ts   mls     gt  \\\n",
       "0           African elephant  6654.000  5712.0  NaN  NaN   3.3  38.6  645.0   \n",
       "1  African giant pouched rat     1.000     6.6  6.3  2.0   8.3   4.5   42.0   \n",
       "2                 Arctic Fox     3.385    44.5  NaN  NaN  12.5  14.0   60.0   \n",
       "3     Arctic ground squirrel     0.920     5.7  NaN  NaN  16.5   NaN   25.0   \n",
       "4             Asian elephant  2547.000  4603.0  2.1  1.8   3.9  69.0  624.0   \n",
       "\n",
       "   pi  sei  odi  sws_na  ps_na  ts_na  mls_na  gt_na  \n",
       "0   3    5    3       1      1      0       0      0  \n",
       "1   3    1    3       0      0      0       0      0  \n",
       "2   1    1    1       1      1      0       0      0  \n",
       "3   5    2    3       1      1      0       1      0  \n",
       "4   3    5    4       0      0      0       0      0  "
      ]
     },
     "execution_count": 25,
     "metadata": {},
     "output_type": "execute_result"
    }
   ],
   "source": [
    "# [['sws','ps','ts','mls','gt']]\n",
    "animals2 = animals.copy()\n",
    "\n",
    "animals2['sws_na'] = 0\n",
    "animals2.loc[(animals2['sws'].isnull()),['sws_na']] = 1\n",
    "\n",
    "animals2['ps_na'] = 0\n",
    "animals2.loc[(animals2['ps'].isnull()),['ps_na']] = 1\n",
    "\n",
    "animals2['ts_na'] = 0\n",
    "animals2.loc[(animals2['ts'].isnull()),['ts_na']] = 1\n",
    "\n",
    "animals2['mls_na'] = 0\n",
    "animals2.loc[(animals2['mls'].isnull()),['mls_na']] = 1\n",
    "\n",
    "animals2['gt_na'] = 0\n",
    "animals2.loc[(animals2['gt'].isnull()),['gt_na']] = 1\n",
    "\n",
    "animals2.head()\n"
   ]
  },
  {
   "cell_type": "code",
   "execution_count": 30,
   "metadata": {},
   "outputs": [],
   "source": [
    "from sklearn.linear_model import LogisticRegression\n",
    "\n",
    "X_train = animals2.copy()\n",
    "#X_train.dropna(inplace=True)\n",
    "y_train = X_train.loc[:,('sws_na')]\n",
    "X_train = X_train.loc[:,('bw','brw','pi','sei','odi')]\n",
    "\n",
    "X_test = animals2.loc[(animals2['sws'].isnull()),('bw','brw','pi','sei','odi')]\n"
   ]
  },
  {
   "cell_type": "code",
   "execution_count": 29,
   "metadata": {},
   "outputs": [
    {
     "name": "stderr",
     "output_type": "stream",
     "text": [
      "C:\\Users\\dalit\\anaconda3\\lib\\site-packages\\sklearn\\linear_model\\_logistic.py:940: ConvergenceWarning: lbfgs failed to converge (status=1):\n",
      "STOP: TOTAL NO. of ITERATIONS REACHED LIMIT.\n",
      "\n",
      "Increase the number of iterations (max_iter) or scale the data as shown in:\n",
      "    https://scikit-learn.org/stable/modules/preprocessing.html\n",
      "Please also refer to the documentation for alternative solver options:\n",
      "    https://scikit-learn.org/stable/modules/linear_model.html#logistic-regression\n",
      "  extra_warning_msg=_LOGISTIC_SOLVER_CONVERGENCE_MSG)\n"
     ]
    }
   ],
   "source": [
    "logreg = LogisticRegression()\n",
    "logreg.fit(X_train, y_train)\n",
    "y_pred = logreg.predict(X_test)\n"
   ]
  },
  {
   "cell_type": "code",
   "execution_count": 222,
   "metadata": {},
   "outputs": [
    {
     "name": "stdout",
     "output_type": "stream",
     "text": [
      "                            OLS Regression Results                            \n",
      "==============================================================================\n",
      "Dep. Variable:                 sws_na   R-squared:                       0.141\n",
      "Model:                            OLS   Adj. R-squared:                  0.064\n",
      "Method:                 Least Squares   F-statistic:                     1.832\n",
      "Date:                Tue, 25 Dec 2018   Prob (F-statistic):              0.121\n",
      "Time:                        22:56:27   Log-Likelihood:                -29.213\n",
      "No. Observations:                  62   AIC:                             70.43\n",
      "Df Residuals:                      56   BIC:                             83.19\n",
      "Df Model:                           5                                         \n",
      "Covariance Type:            nonrobust                                         \n",
      "==============================================================================\n",
      "                 coef    std err          t      P>|t|      [0.025      0.975]\n",
      "------------------------------------------------------------------------------\n",
      "const          0.1407      0.118      1.191      0.239      -0.096       0.378\n",
      "bw             0.0002      0.000      1.196      0.237      -0.000       0.001\n",
      "brw           -0.0002      0.000     -0.935      0.354      -0.000       0.000\n",
      "pi             0.0633      0.100      0.633      0.529      -0.137       0.264\n",
      "sei            0.1407      0.062      2.264      0.027       0.016       0.265\n",
      "odi           -0.1658      0.129     -1.283      0.205      -0.425       0.093\n",
      "==============================================================================\n",
      "Omnibus:                       12.519   Durbin-Watson:                   2.034\n",
      "Prob(Omnibus):                  0.002   Jarque-Bera (JB):               14.758\n",
      "Skew:                           1.194   Prob(JB):                     0.000624\n",
      "Kurtosis:                       2.895   Cond. No.                     4.25e+03\n",
      "==============================================================================\n",
      "\n",
      "Warnings:\n",
      "[1] Standard Errors assume that the covariance matrix of the errors is correctly specified.\n",
      "[2] The condition number is large, 4.25e+03. This might indicate that there are\n",
      "strong multicollinearity or other numerical problems.\n"
     ]
    }
   ],
   "source": [
    "import statsmodels.api as sm\n",
    "\n",
    "X2 = sm.add_constant(X_train)\n",
    "est = sm.OLS(y_train, X2)\n",
    "est2 = est.fit()\n",
    "print(est2.summary())\n"
   ]
  },
  {
   "cell_type": "code",
   "execution_count": 276,
   "metadata": {},
   "outputs": [
    {
     "name": "stdout",
     "output_type": "stream",
     "text": [
      "     sws_na\n",
      "sei        \n",
      "1        27\n",
      "2        13\n",
      "3         4\n",
      "4         5\n",
      "5        13\n"
     ]
    }
   ],
   "source": [
    "print(animals2.loc[:,('sei','sws_na')].groupby(['sei']).count())"
   ]
  },
  {
   "cell_type": "code",
   "execution_count": 291,
   "metadata": {},
   "outputs": [
    {
     "name": "stdout",
     "output_type": "stream",
     "text": [
      "sws_na   0  1\n",
      "sei          \n",
      "1       23  4\n",
      "2       10  3\n",
      "3        4  0\n",
      "4        4  1\n",
      "5        7  6\n"
     ]
    },
    {
     "data": {
      "text/plain": [
       "<matplotlib.axes._subplots.AxesSubplot at 0x7f0455bdd2b0>"
      ]
     },
     "execution_count": 291,
     "metadata": {},
     "output_type": "execute_result"
    },
    {
     "data": {
      "image/png": "[encoded data removed]",
      "text/plain": [
       "<Figure size 432x288 with 2 Axes>"
      ]
     },
     "metadata": {},
     "output_type": "display_data"
    }
   ],
   "source": [
    "print(pd.crosstab(animals2['sei'],animals2['sws_na']))\n",
    "#print(pd.crosstab(animals2['sei'],animals2['sws_na'])//62)\n",
    "sns.heatmap(pd.crosstab(animals2['sei'],animals2['sws_na'])/62)\n"
   ]
  },
  {
   "cell_type": "markdown",
   "metadata": {},
   "source": [
    "# Missing Values Imputation\n",
    "\n",
    "### Dropout"
   ]
  },
  {
   "cell_type": "code",
   "execution_count": 81,
   "metadata": {},
   "outputs": [
    {
     "name": "stdout",
     "output_type": "stream",
     "text": [
      "(42, 11)\n"
     ]
    }
   ],
   "source": [
    "#animals2 = animals[['sws','ps','ts','mls','gt']].replace(0, np.NaN)\n",
    "animals2 = animals.copy()\n",
    "# drop rows with missing values\n",
    "animals2.dropna(inplace=True)\n",
    "# summarize the number of rows and columns in the dataset\n",
    "print(animals2.shape)\n"
   ]
  },
  {
   "cell_type": "markdown",
   "metadata": {},
   "source": [
    "From 62 rows initially, we have 41 rows now..."
   ]
  },
  {
   "cell_type": "code",
   "execution_count": 82,
   "metadata": {},
   "outputs": [
    {
     "name": "stdout",
     "output_type": "stream",
     "text": [
      "                bw          brw        sws         ps         ts         mls  \\\n",
      "count    62.000000    62.000000  48.000000  50.000000  58.000000   58.000000   \n",
      "mean    198.789984   283.134194   8.672917   1.972000  10.532759   19.877586   \n",
      "std     899.158011   930.278942   3.666452   1.442651   4.606760   18.206255   \n",
      "min       0.005000     0.140000   2.100000   0.000000   2.600000    2.000000   \n",
      "25%       0.600000     4.250000   6.250000   0.900000   8.050000    6.625000   \n",
      "50%       3.342500    17.250000   8.350000   1.800000  10.450000   15.100000   \n",
      "75%      48.202500   166.000000  11.000000   2.550000  13.200000   27.750000   \n",
      "max    6654.000000  5712.000000  17.900000   6.600000  19.900000  100.000000   \n",
      "\n",
      "               gt         pi        sei        odi  \n",
      "count   58.000000  62.000000  62.000000  62.000000  \n",
      "mean   142.353448   2.870968   2.419355   2.612903  \n",
      "std    146.805039   1.476414   1.604792   1.441252  \n",
      "min     12.000000   1.000000   1.000000   1.000000  \n",
      "25%     35.750000   2.000000   1.000000   1.000000  \n",
      "50%     79.000000   3.000000   2.000000   2.000000  \n",
      "75%    207.500000   4.000000   4.000000   4.000000  \n",
      "max    645.000000   5.000000   5.000000   5.000000  \n",
      "----------------------------------------------------------------------------------\n",
      "                bw          brw        sws         ps         ts         mls  \\\n",
      "count    42.000000    42.000000  42.000000  42.000000  42.000000   42.000000   \n",
      "mean    100.813905   218.683810   8.742857   1.900000  10.642857   19.371429   \n",
      "std     402.082389   732.848427   3.837437   1.388805   4.709417   20.257131   \n",
      "min       0.005000     0.140000   2.100000   0.000000   2.900000    2.000000   \n",
      "25%       0.316250     3.600000   6.150000   0.900000   8.050000    5.250000   \n",
      "50%       2.250000    12.200000   8.500000   1.650000   9.800000   11.200000   \n",
      "75%      10.412500   155.500000  11.000000   2.375000  13.600000   27.000000   \n",
      "max    2547.000000  4603.000000  17.900000   6.600000  19.900000  100.000000   \n",
      "\n",
      "               gt         pi        sei        odi  \n",
      "count   42.000000  42.000000  42.000000  42.000000  \n",
      "mean   129.940476   2.952381   2.357143   2.690476  \n",
      "std    127.839848   1.447494   1.527335   1.387894  \n",
      "min     12.000000   1.000000   1.000000   1.000000  \n",
      "25%     32.000000   2.000000   1.000000   1.250000  \n",
      "50%     90.000000   3.000000   2.000000   2.500000  \n",
      "75%    195.000000   4.000000   3.750000   4.000000  \n",
      "max    624.000000   5.000000   5.000000   5.000000  \n"
     ]
    }
   ],
   "source": [
    "print(animals.describe())\n",
    "print(\"----------------------------------------------------------------------------------\")\n",
    "print(animals2.describe())"
   ]
  },
  {
   "cell_type": "markdown",
   "metadata": {},
   "source": [
    "### Statistical Imputation\n",
    " \n",
    "This imply to substitute missing values by a statistical measure. The most commonly used are the mean and the median."
   ]
  },
  {
   "cell_type": "code",
   "execution_count": 292,
   "metadata": {},
   "outputs": [
    {
     "data": {
      "text/html": [
       "<div>\n",
       "<style>\n",
       "    .dataframe thead tr:only-child th {\n",
       "        text-align: right;\n",
       "    }\n",
       "\n",
       "    .dataframe thead th {\n",
       "        text-align: left;\n",
       "    }\n",
       "\n",
       "    .dataframe tbody tr th {\n",
       "        vertical-align: top;\n",
       "    }\n",
       "</style>\n",
       "<table border=\"1\" class=\"dataframe\">\n",
       "  <thead>\n",
       "    <tr style=\"text-align: right;\">\n",
       "      <th></th>\n",
       "      <th>species</th>\n",
       "      <th>bw</th>\n",
       "      <th>brw</th>\n",
       "      <th>sws</th>\n",
       "      <th>ps</th>\n",
       "      <th>ts</th>\n",
       "      <th>mls</th>\n",
       "      <th>gt</th>\n",
       "      <th>pi</th>\n",
       "      <th>sei</th>\n",
       "      <th>odi</th>\n",
       "      <th>sws_na</th>\n",
       "      <th>ps_na</th>\n",
       "      <th>ts_na</th>\n",
       "      <th>mls_na</th>\n",
       "      <th>gt_na</th>\n",
       "    </tr>\n",
       "  </thead>\n",
       "  <tbody>\n",
       "    <tr>\n",
       "      <th>0</th>\n",
       "      <td>African elephant</td>\n",
       "      <td>6654.000</td>\n",
       "      <td>5712.0</td>\n",
       "      <td>NaN</td>\n",
       "      <td>NaN</td>\n",
       "      <td>3.3</td>\n",
       "      <td>38.6</td>\n",
       "      <td>645.0</td>\n",
       "      <td>3</td>\n",
       "      <td>5</td>\n",
       "      <td>3</td>\n",
       "      <td>1</td>\n",
       "      <td>1</td>\n",
       "      <td>0</td>\n",
       "      <td>0</td>\n",
       "      <td>0</td>\n",
       "    </tr>\n",
       "    <tr>\n",
       "      <th>1</th>\n",
       "      <td>African giant pouched rat</td>\n",
       "      <td>1.000</td>\n",
       "      <td>6.6</td>\n",
       "      <td>6.3</td>\n",
       "      <td>2.0</td>\n",
       "      <td>8.3</td>\n",
       "      <td>4.5</td>\n",
       "      <td>42.0</td>\n",
       "      <td>3</td>\n",
       "      <td>1</td>\n",
       "      <td>3</td>\n",
       "      <td>0</td>\n",
       "      <td>0</td>\n",
       "      <td>0</td>\n",
       "      <td>0</td>\n",
       "      <td>0</td>\n",
       "    </tr>\n",
       "    <tr>\n",
       "      <th>2</th>\n",
       "      <td>Arctic Fox</td>\n",
       "      <td>3.385</td>\n",
       "      <td>44.5</td>\n",
       "      <td>NaN</td>\n",
       "      <td>NaN</td>\n",
       "      <td>12.5</td>\n",
       "      <td>14.0</td>\n",
       "      <td>60.0</td>\n",
       "      <td>1</td>\n",
       "      <td>1</td>\n",
       "      <td>1</td>\n",
       "      <td>1</td>\n",
       "      <td>1</td>\n",
       "      <td>0</td>\n",
       "      <td>0</td>\n",
       "      <td>0</td>\n",
       "    </tr>\n",
       "    <tr>\n",
       "      <th>3</th>\n",
       "      <td>Arctic ground squirrel</td>\n",
       "      <td>0.920</td>\n",
       "      <td>5.7</td>\n",
       "      <td>NaN</td>\n",
       "      <td>NaN</td>\n",
       "      <td>16.5</td>\n",
       "      <td>NaN</td>\n",
       "      <td>25.0</td>\n",
       "      <td>5</td>\n",
       "      <td>2</td>\n",
       "      <td>3</td>\n",
       "      <td>1</td>\n",
       "      <td>1</td>\n",
       "      <td>0</td>\n",
       "      <td>1</td>\n",
       "      <td>0</td>\n",
       "    </tr>\n",
       "    <tr>\n",
       "      <th>4</th>\n",
       "      <td>Asian elephant</td>\n",
       "      <td>2547.000</td>\n",
       "      <td>4603.0</td>\n",
       "      <td>2.1</td>\n",
       "      <td>1.8</td>\n",
       "      <td>3.9</td>\n",
       "      <td>69.0</td>\n",
       "      <td>624.0</td>\n",
       "      <td>3</td>\n",
       "      <td>5</td>\n",
       "      <td>4</td>\n",
       "      <td>0</td>\n",
       "      <td>0</td>\n",
       "      <td>0</td>\n",
       "      <td>0</td>\n",
       "      <td>0</td>\n",
       "    </tr>\n",
       "  </tbody>\n",
       "</table>\n",
       "</div>"
      ],
      "text/plain": [
       "                     species        bw     brw  sws   ps    ts   mls     gt  \\\n",
       "0           African elephant  6654.000  5712.0  NaN  NaN   3.3  38.6  645.0   \n",
       "1  African giant pouched rat     1.000     6.6  6.3  2.0   8.3   4.5   42.0   \n",
       "2                 Arctic Fox     3.385    44.5  NaN  NaN  12.5  14.0   60.0   \n",
       "3     Arctic ground squirrel     0.920     5.7  NaN  NaN  16.5   NaN   25.0   \n",
       "4             Asian elephant  2547.000  4603.0  2.1  1.8   3.9  69.0  624.0   \n",
       "\n",
       "   pi  sei  odi  sws_na  ps_na  ts_na  mls_na  gt_na  \n",
       "0   3    5    3       1      1      0       0      0  \n",
       "1   3    1    3       0      0      0       0      0  \n",
       "2   1    1    1       1      1      0       0      0  \n",
       "3   5    2    3       1      1      0       1      0  \n",
       "4   3    5    4       0      0      0       0      0  "
      ]
     },
     "execution_count": 292,
     "metadata": {},
     "output_type": "execute_result"
    }
   ],
   "source": [
    "##### indicate the missing points with one_zero \n",
    "# [['sws','ps','ts','mls','gt']]\n",
    "animals2 = animals.copy()\n",
    "\n",
    "animals2['sws_na'] = 0\n",
    "animals2.loc[(animals2['sws'].isnull()),['sws_na']] = 1\n",
    "\n",
    "animals2['ps_na'] = 0\n",
    "animals2.loc[(animals2['ps'].isnull()),['ps_na']] = 1\n",
    "\n",
    "animals2['ts_na'] = 0\n",
    "animals2.loc[(animals2['ts'].isnull()),['ts_na']] = 1\n",
    "\n",
    "animals2['mls_na'] = 0\n",
    "animals2.loc[(animals2['mls'].isnull()),['mls_na']] = 1\n",
    "\n",
    "animals2['gt_na'] = 0\n",
    "animals2.loc[(animals2['gt'].isnull()),['gt_na']] = 1\n",
    "\n",
    "animals2.head()\n"
   ]
  },
  {
   "cell_type": "code",
   "execution_count": 295,
   "metadata": {},
   "outputs": [
    {
     "name": "stdout",
     "output_type": "stream",
     "text": [
      "(62, 16)\n"
     ]
    },
    {
     "data": {
      "text/html": [
       "<div>\n",
       "<style>\n",
       "    .dataframe thead tr:only-child th {\n",
       "        text-align: right;\n",
       "    }\n",
       "\n",
       "    .dataframe thead th {\n",
       "        text-align: left;\n",
       "    }\n",
       "\n",
       "    .dataframe tbody tr th {\n",
       "        vertical-align: top;\n",
       "    }\n",
       "</style>\n",
       "<table border=\"1\" class=\"dataframe\">\n",
       "  <thead>\n",
       "    <tr style=\"text-align: right;\">\n",
       "      <th></th>\n",
       "      <th>species</th>\n",
       "      <th>bw</th>\n",
       "      <th>brw</th>\n",
       "      <th>sws</th>\n",
       "      <th>ps</th>\n",
       "      <th>ts</th>\n",
       "      <th>mls</th>\n",
       "      <th>gt</th>\n",
       "      <th>pi</th>\n",
       "      <th>sei</th>\n",
       "      <th>odi</th>\n",
       "      <th>sws_na</th>\n",
       "      <th>ps_na</th>\n",
       "      <th>ts_na</th>\n",
       "      <th>mls_na</th>\n",
       "      <th>gt_na</th>\n",
       "    </tr>\n",
       "  </thead>\n",
       "  <tbody>\n",
       "    <tr>\n",
       "      <th>0</th>\n",
       "      <td>African elephant</td>\n",
       "      <td>6654.000</td>\n",
       "      <td>5712.0</td>\n",
       "      <td>8.672917</td>\n",
       "      <td>1.972</td>\n",
       "      <td>3.3</td>\n",
       "      <td>38.600000</td>\n",
       "      <td>645.0</td>\n",
       "      <td>3</td>\n",
       "      <td>5</td>\n",
       "      <td>3</td>\n",
       "      <td>1</td>\n",
       "      <td>1</td>\n",
       "      <td>0</td>\n",
       "      <td>0</td>\n",
       "      <td>0</td>\n",
       "    </tr>\n",
       "    <tr>\n",
       "      <th>1</th>\n",
       "      <td>African giant pouched rat</td>\n",
       "      <td>1.000</td>\n",
       "      <td>6.6</td>\n",
       "      <td>6.300000</td>\n",
       "      <td>2.000</td>\n",
       "      <td>8.3</td>\n",
       "      <td>4.500000</td>\n",
       "      <td>42.0</td>\n",
       "      <td>3</td>\n",
       "      <td>1</td>\n",
       "      <td>3</td>\n",
       "      <td>0</td>\n",
       "      <td>0</td>\n",
       "      <td>0</td>\n",
       "      <td>0</td>\n",
       "      <td>0</td>\n",
       "    </tr>\n",
       "    <tr>\n",
       "      <th>2</th>\n",
       "      <td>Arctic Fox</td>\n",
       "      <td>3.385</td>\n",
       "      <td>44.5</td>\n",
       "      <td>8.672917</td>\n",
       "      <td>1.972</td>\n",
       "      <td>12.5</td>\n",
       "      <td>14.000000</td>\n",
       "      <td>60.0</td>\n",
       "      <td>1</td>\n",
       "      <td>1</td>\n",
       "      <td>1</td>\n",
       "      <td>1</td>\n",
       "      <td>1</td>\n",
       "      <td>0</td>\n",
       "      <td>0</td>\n",
       "      <td>0</td>\n",
       "    </tr>\n",
       "    <tr>\n",
       "      <th>3</th>\n",
       "      <td>Arctic ground squirrel</td>\n",
       "      <td>0.920</td>\n",
       "      <td>5.7</td>\n",
       "      <td>8.672917</td>\n",
       "      <td>1.972</td>\n",
       "      <td>16.5</td>\n",
       "      <td>19.877586</td>\n",
       "      <td>25.0</td>\n",
       "      <td>5</td>\n",
       "      <td>2</td>\n",
       "      <td>3</td>\n",
       "      <td>1</td>\n",
       "      <td>1</td>\n",
       "      <td>0</td>\n",
       "      <td>1</td>\n",
       "      <td>0</td>\n",
       "    </tr>\n",
       "    <tr>\n",
       "      <th>4</th>\n",
       "      <td>Asian elephant</td>\n",
       "      <td>2547.000</td>\n",
       "      <td>4603.0</td>\n",
       "      <td>2.100000</td>\n",
       "      <td>1.800</td>\n",
       "      <td>3.9</td>\n",
       "      <td>69.000000</td>\n",
       "      <td>624.0</td>\n",
       "      <td>3</td>\n",
       "      <td>5</td>\n",
       "      <td>4</td>\n",
       "      <td>0</td>\n",
       "      <td>0</td>\n",
       "      <td>0</td>\n",
       "      <td>0</td>\n",
       "      <td>0</td>\n",
       "    </tr>\n",
       "  </tbody>\n",
       "</table>\n",
       "</div>"
      ],
      "text/plain": [
       "                     species        bw     brw       sws     ps    ts  \\\n",
       "0           African elephant  6654.000  5712.0  8.672917  1.972   3.3   \n",
       "1  African giant pouched rat     1.000     6.6  6.300000  2.000   8.3   \n",
       "2                 Arctic Fox     3.385    44.5  8.672917  1.972  12.5   \n",
       "3     Arctic ground squirrel     0.920     5.7  8.672917  1.972  16.5   \n",
       "4             Asian elephant  2547.000  4603.0  2.100000  1.800   3.9   \n",
       "\n",
       "         mls     gt  pi  sei  odi  sws_na  ps_na  ts_na  mls_na  gt_na  \n",
       "0  38.600000  645.0   3    5    3       1      1      0       0      0  \n",
       "1   4.500000   42.0   3    1    3       0      0      0       0      0  \n",
       "2  14.000000   60.0   1    1    1       1      1      0       0      0  \n",
       "3  19.877586   25.0   5    2    3       1      1      0       1      0  \n",
       "4  69.000000  624.0   3    5    4       0      0      0       0      0  "
      ]
     },
     "execution_count": 295,
     "metadata": {},
     "output_type": "execute_result"
    }
   ],
   "source": [
    "# impute mean for the following vars: sws, ps, ts, mls, gt\n",
    "sws_mean = animals2['sws'].mean()\n",
    "animals2['sws'] = animals2['sws'].fillna(sws_mean)\n",
    "\n",
    "ps_mean = animals2['ps'].mean()\n",
    "animals2['ps'] = animals2['ps'].fillna(ps_mean)\n",
    "\n",
    "ts_mean = animals2['ts'].mean()\n",
    "animals2['ts'] = animals2['ts'].fillna(ts_mean)\n",
    "\n",
    "mls_mean = animals2['mls'].mean()\n",
    "animals2['mls'] = animals2['mls'].fillna(mls_mean)\n",
    "\n",
    "gt_mean = animals2['gt'].mean()\n",
    "animals2['gt'] = animals2['gt'].fillna(gt_mean)\n",
    "\n",
    "# summarize the number of rows and columns in the dataset\n",
    "print(animals2.shape)\n",
    "animals2.head()"
   ]
  },
  {
   "cell_type": "code",
   "execution_count": 296,
   "metadata": {},
   "outputs": [
    {
     "name": "stdout",
     "output_type": "stream",
     "text": [
      "                bw          brw        sws         ps         ts         mls  \\\n",
      "count    62.000000    62.000000  48.000000  50.000000  58.000000   58.000000   \n",
      "mean    198.789984   283.134194   8.672917   1.972000  10.532759   19.877586   \n",
      "std     899.158011   930.278942   3.666452   1.442651   4.606760   18.206255   \n",
      "min       0.005000     0.140000   2.100000   0.000000   2.600000    2.000000   \n",
      "25%       0.600000     4.250000   6.250000   0.900000   8.050000    6.625000   \n",
      "50%       3.342500    17.250000   8.350000   1.800000  10.450000   15.100000   \n",
      "75%      48.202500   166.000000  11.000000   2.550000  13.200000   27.750000   \n",
      "max    6654.000000  5712.000000  17.900000   6.600000  19.900000  100.000000   \n",
      "\n",
      "               gt         pi        sei        odi  \n",
      "count   58.000000  62.000000  62.000000  62.000000  \n",
      "mean   142.353448   2.870968   2.419355   2.612903  \n",
      "std    146.805039   1.476414   1.604792   1.441252  \n",
      "min     12.000000   1.000000   1.000000   1.000000  \n",
      "25%     35.750000   2.000000   1.000000   1.000000  \n",
      "50%     79.000000   3.000000   2.000000   2.000000  \n",
      "75%    207.500000   4.000000   4.000000   4.000000  \n",
      "max    645.000000   5.000000   5.000000   5.000000  \n",
      "----------------------------------------------------------------------------------\n",
      "                bw          brw        sws         ps         ts         mls  \\\n",
      "count    62.000000    62.000000  62.000000  62.000000  62.000000   62.000000   \n",
      "mean    198.789984   283.134194   8.672917   1.972000  10.532759   19.877586   \n",
      "std     899.158011   930.278942   3.218326   1.292987   4.453158   17.599209   \n",
      "min       0.005000     0.140000   2.100000   0.000000   2.600000    2.000000   \n",
      "25%       0.600000     4.250000   6.800000   1.050000   8.225000    7.000000   \n",
      "50%       3.342500    17.250000   8.672917   1.972000  10.532759   16.650000   \n",
      "75%      48.202500   166.000000  10.550000   2.275000  13.150000   27.000000   \n",
      "max    6654.000000  5712.000000  17.900000   6.600000  19.900000  100.000000   \n",
      "\n",
      "               gt         pi        sei        odi     sws_na      ps_na  \\\n",
      "count   62.000000  62.000000  62.000000  62.000000  62.000000  62.000000   \n",
      "mean   142.353448   2.870968   2.419355   2.612903   0.225806   0.193548   \n",
      "std    141.910154   1.476414   1.604792   1.441252   0.421526   0.398304   \n",
      "min     12.000000   1.000000   1.000000   1.000000   0.000000   0.000000   \n",
      "25%     39.000000   2.000000   1.000000   1.000000   0.000000   0.000000   \n",
      "50%    106.000000   3.000000   2.000000   2.000000   0.000000   0.000000   \n",
      "75%    195.000000   4.000000   4.000000   4.000000   0.000000   0.000000   \n",
      "max    645.000000   5.000000   5.000000   5.000000   1.000000   1.000000   \n",
      "\n",
      "           ts_na     mls_na      gt_na  \n",
      "count  62.000000  62.000000  62.000000  \n",
      "mean    0.064516   0.064516   0.064516  \n",
      "std     0.247676   0.247676   0.247676  \n",
      "min     0.000000   0.000000   0.000000  \n",
      "25%     0.000000   0.000000   0.000000  \n",
      "50%     0.000000   0.000000   0.000000  \n",
      "75%     0.000000   0.000000   0.000000  \n",
      "max     1.000000   1.000000   1.000000  \n"
     ]
    }
   ],
   "source": [
    "print(animals.describe())\n",
    "print(\"----------------------------------------------------------------------------------\")\n",
    "print(animals2.describe())"
   ]
  },
  {
   "cell_type": "code",
   "execution_count": 114,
   "metadata": {},
   "outputs": [
    {
     "data": {
      "text/plain": [
       "<matplotlib.axes._subplots.AxesSubplot at 0x7f045e0fd1d0>"
      ]
     },
     "execution_count": 114,
     "metadata": {},
     "output_type": "execute_result"
    },
    {
     "data": {
      "image/png": "[encoded data removed]",
      "text/plain": [
       "<Figure size 432x288 with 1 Axes>"
      ]
     },
     "metadata": {},
     "output_type": "display_data"
    }
   ],
   "source": [
    "sns.scatterplot(x='sws',y='ps',data=animals2)"
   ]
  },
  {
   "cell_type": "code",
   "execution_count": 119,
   "metadata": {},
   "outputs": [
    {
     "name": "stdout",
     "output_type": "stream",
     "text": [
      "(62, 11)\n"
     ]
    }
   ],
   "source": [
    "animals2 = animals.copy()\n",
    "# impute mean for the following vars: sws, ps, ts, mls, gt\n",
    "sws_median = animals2['sws'].median()\n",
    "animals2['sws'] = animals2['sws'].fillna(sws_median)\n",
    "\n",
    "ps_median = animals2['ps'].median()\n",
    "animals2['ps'] = animals2['ps'].fillna(ps_median)\n",
    "\n",
    "ts_median = animals2['ts'].median()\n",
    "animals2['ts'] = animals2['ts'].fillna(ts_median)\n",
    "\n",
    "mls_median = animals2['mls'].median()\n",
    "animals2['mls'] = animals2['mls'].fillna(mls_median)\n",
    "\n",
    "gt_median = animals2['gt'].median()\n",
    "animals2['gt'] = animals2['gt'].fillna(gt_median)\n",
    "\n",
    "# summarize the number of rows and columns in the dataset\n",
    "print(animals2.shape)"
   ]
  },
  {
   "cell_type": "code",
   "execution_count": 120,
   "metadata": {},
   "outputs": [
    {
     "name": "stdout",
     "output_type": "stream",
     "text": [
      "                bw          brw        sws         ps         ts         mls  \\\n",
      "count    62.000000    62.000000  48.000000  50.000000  58.000000   58.000000   \n",
      "mean    198.789984   283.134194   8.672917   1.972000  10.532759   19.877586   \n",
      "std     899.158011   930.278942   3.666452   1.442651   4.606760   18.206255   \n",
      "min       0.005000     0.140000   2.100000   0.000000   2.600000    2.000000   \n",
      "25%       0.600000     4.250000   6.250000   0.900000   8.050000    6.625000   \n",
      "50%       3.342500    17.250000   8.350000   1.800000  10.450000   15.100000   \n",
      "75%      48.202500   166.000000  11.000000   2.550000  13.200000   27.750000   \n",
      "max    6654.000000  5712.000000  17.900000   6.600000  19.900000  100.000000   \n",
      "\n",
      "               gt         pi        sei        odi  \n",
      "count   58.000000  62.000000  62.000000  62.000000  \n",
      "mean   142.353448   2.870968   2.419355   2.612903  \n",
      "std    146.805039   1.476414   1.604792   1.441252  \n",
      "min     12.000000   1.000000   1.000000   1.000000  \n",
      "25%     35.750000   2.000000   1.000000   1.000000  \n",
      "50%     79.000000   3.000000   2.000000   2.000000  \n",
      "75%    207.500000   4.000000   4.000000   4.000000  \n",
      "max    645.000000   5.000000   5.000000   5.000000  \n",
      "----------------------------------------------------------------------------------\n",
      "                bw          brw        sws         ps         ts         mls  \\\n",
      "count    62.000000    62.000000  62.000000  62.000000  62.000000   62.000000   \n",
      "mean    198.789984   283.134194   8.600000   1.938710  10.527419   19.569355   \n",
      "std     899.158011   930.278942   3.221203   1.294801   4.453205   17.638943   \n",
      "min       0.005000     0.140000   2.100000   0.000000   2.600000    2.000000   \n",
      "25%       0.600000     4.250000   6.800000   1.050000   8.225000    7.000000   \n",
      "50%       3.342500    17.250000   8.350000   1.800000  10.450000   15.100000   \n",
      "75%      48.202500   166.000000  10.550000   2.275000  13.150000   27.000000   \n",
      "max    6654.000000  5712.000000  17.900000   6.600000  19.900000  100.000000   \n",
      "\n",
      "               gt         pi        sei        odi  \n",
      "count   62.000000  62.000000  62.000000  62.000000  \n",
      "mean   138.266129   2.870968   2.419355   2.612903  \n",
      "std    142.775007   1.476414   1.604792   1.441252  \n",
      "min     12.000000   1.000000   1.000000   1.000000  \n",
      "25%     39.000000   2.000000   1.000000   1.000000  \n",
      "50%     79.000000   3.000000   2.000000   2.000000  \n",
      "75%    195.000000   4.000000   4.000000   4.000000  \n",
      "max    645.000000   5.000000   5.000000   5.000000  \n"
     ]
    }
   ],
   "source": [
    "print(animals.describe())\n",
    "print(\"----------------------------------------------------------------------------------\")\n",
    "print(animals2.describe())"
   ]
  },
  {
   "cell_type": "code",
   "execution_count": 298,
   "metadata": {},
   "outputs": [
    {
     "data": {
      "text/plain": [
       "<matplotlib.axes._subplots.AxesSubplot at 0x7f0455b73c88>"
      ]
     },
     "execution_count": 298,
     "metadata": {},
     "output_type": "execute_result"
    },
    {
     "data": {
      "image/png": "[encoded data removed]",
      "text/plain": [
       "<Figure size 432x288 with 1 Axes>"
      ]
     },
     "metadata": {},
     "output_type": "display_data"
    }
   ],
   "source": [
    "sns.scatterplot(x='sws',y='ts',data=animals2, hue=animals2['sws_na'])"
   ]
  },
  {
   "cell_type": "code",
   "execution_count": 300,
   "metadata": {},
   "outputs": [
    {
     "data": {
      "text/plain": [
       "<matplotlib.axes._subplots.AxesSubplot at 0x7f0455affeb8>"
      ]
     },
     "execution_count": 300,
     "metadata": {},
     "output_type": "execute_result"
    },
    {
     "data": {
      "image/png": "[encoded data removed]",
      "text/plain": [
       "<Figure size 432x288 with 1 Axes>"
      ]
     },
     "metadata": {},
     "output_type": "display_data"
    }
   ],
   "source": [
    "sns.scatterplot(x='sws',y='gt',data=animals2, hue=animals2['sws_na'])"
   ]
  },
  {
   "cell_type": "markdown",
   "metadata": {},
   "source": [
    "### Machine Learning imputation: kNN imputation\n"
   ]
  },
  {
   "cell_type": "code",
   "execution_count": 194,
   "metadata": {},
   "outputs": [
    {
     "name": "stdout",
     "output_type": "stream",
     "text": [
      "(42,)\n",
      "(42, 5)\n"
     ]
    }
   ],
   "source": [
    "X_train = animals2.copy()\n",
    "X_train.dropna(inplace=True)\n",
    "y_train = X_train.loc[:,('sws')]\n",
    "X_train = X_train.loc[:,('bw','brw','pi','sei','odi')]\n",
    "print(y_train.shape)\n",
    "print(X_train.shape)\n"
   ]
  },
  {
   "cell_type": "code",
   "execution_count": 166,
   "metadata": {},
   "outputs": [
    {
     "data": {
      "text/plain": [
       "KNeighborsRegressor(algorithm='auto', leaf_size=30, metric='minkowski',\n",
       "          metric_params=None, n_jobs=1, n_neighbors=5, p=2,\n",
       "          weights='uniform')"
      ]
     },
     "execution_count": 166,
     "metadata": {},
     "output_type": "execute_result"
    }
   ],
   "source": [
    "from sklearn.neighbors import KNeighborsRegressor\n",
    "reg = KNeighborsRegressor(n_neighbors=5)  \n",
    "reg.fit(X_train, y_train)  "
   ]
  },
  {
   "cell_type": "code",
   "execution_count": 198,
   "metadata": {},
   "outputs": [],
   "source": [
    "X_test = animals2.loc[(animals2['sws'].isnull()),('bw','brw','pi','sei','odi')]\n",
    "\n",
    "y_pred = reg.predict(X_test)"
   ]
  },
  {
   "cell_type": "code",
   "execution_count": 211,
   "metadata": {},
   "outputs": [
    {
     "data": {
      "text/html": [
       "<div>\n",
       "<style>\n",
       "    .dataframe thead tr:only-child th {\n",
       "        text-align: right;\n",
       "    }\n",
       "\n",
       "    .dataframe thead th {\n",
       "        text-align: left;\n",
       "    }\n",
       "\n",
       "    .dataframe tbody tr th {\n",
       "        vertical-align: top;\n",
       "    }\n",
       "</style>\n",
       "<table border=\"1\" class=\"dataframe\">\n",
       "  <thead>\n",
       "    <tr style=\"text-align: right;\">\n",
       "      <th></th>\n",
       "      <th>bw</th>\n",
       "      <th>y</th>\n",
       "      <th>cl</th>\n",
       "    </tr>\n",
       "  </thead>\n",
       "  <tbody>\n",
       "    <tr>\n",
       "      <th>1</th>\n",
       "      <td>1.000</td>\n",
       "      <td>6.3</td>\n",
       "      <td>0</td>\n",
       "    </tr>\n",
       "    <tr>\n",
       "      <th>4</th>\n",
       "      <td>2547.000</td>\n",
       "      <td>2.1</td>\n",
       "      <td>0</td>\n",
       "    </tr>\n",
       "    <tr>\n",
       "      <th>5</th>\n",
       "      <td>10.550</td>\n",
       "      <td>9.1</td>\n",
       "      <td>0</td>\n",
       "    </tr>\n",
       "    <tr>\n",
       "      <th>6</th>\n",
       "      <td>0.023</td>\n",
       "      <td>15.8</td>\n",
       "      <td>0</td>\n",
       "    </tr>\n",
       "    <tr>\n",
       "      <th>7</th>\n",
       "      <td>160.000</td>\n",
       "      <td>5.2</td>\n",
       "      <td>0</td>\n",
       "    </tr>\n",
       "  </tbody>\n",
       "</table>\n",
       "</div>"
      ],
      "text/plain": [
       "         bw     y  cl\n",
       "1     1.000   6.3   0\n",
       "4  2547.000   2.1   0\n",
       "5    10.550   9.1   0\n",
       "6     0.023  15.8   0\n",
       "7   160.000   5.2   0"
      ]
     },
     "execution_count": 211,
     "metadata": {},
     "output_type": "execute_result"
    }
   ],
   "source": [
    "len(y_pred)\n",
    "y_train1 = pd.DataFrame({'y':y_train, 'bw':X_train['bw']})\n",
    "y_train1['cl'] = 0\n",
    "\n",
    "y_pred1 = pd.DataFrame({'y':y_pred, 'bw':X_test['bw']})\n",
    "y_pred1['cl'] = 1\n",
    "\n",
    "y = pd.concat([y_train1,y_pred1])\n",
    "y.head()\n"
   ]
  },
  {
   "cell_type": "code",
   "execution_count": 210,
   "metadata": {},
   "outputs": [
    {
     "data": {
      "text/plain": [
       "<matplotlib.axes._subplots.AxesSubplot at 0x7f045bd05b38>"
      ]
     },
     "execution_count": 210,
     "metadata": {},
     "output_type": "execute_result"
    },
    {
     "data": {
      "image/png": "[encoded data removed]",
      "text/plain": [
       "<Figure size 432x288 with 1 Axes>"
      ]
     },
     "metadata": {},
     "output_type": "display_data"
    }
   ],
   "source": [
    "sns.scatterplot(x='bw',y='y', data=y,hue='cl')\n"
   ]
  },
  {
   "cell_type": "code",
   "execution_count": 302,
   "metadata": {},
   "outputs": [],
   "source": [
    "### pip install fancyimpute\n",
    "#    import fancyimpute "
   ]
  },
  {
   "cell_type": "code",
   "execution_count": null,
   "metadata": {},
   "outputs": [],
   "source": [
    "#   fancyimpute.kNN(k=x).complete(data matrix)"
   ]
  },
  {
   "cell_type": "code",
   "execution_count": null,
   "metadata": {},
   "outputs": [],
   "source": [
    "#   fancyimpute.MICE().complete(data matrix)"
   ]
  },
  {
   "cell_type": "markdown",
   "metadata": {},
   "source": [
    "# Outlier Detection\n",
    " \n",
    "### Graphical methods"
   ]
  },
  {
   "cell_type": "code",
   "execution_count": 304,
   "metadata": {},
   "outputs": [
    {
     "data": {
      "image/png": "[encoded data removed]",
      "text/plain": [
       "<Figure size 432x288 with 1 Axes>"
      ]
     },
     "metadata": {},
     "output_type": "display_data"
    }
   ],
   "source": [
    "## Using box (Wiskers) plot\n",
    "outl = sns.boxplot(animals['bw'])"
   ]
  },
  {
   "cell_type": "code",
   "execution_count": 339,
   "metadata": {},
   "outputs": [
    {
     "data": {
      "image/png": "[encoded data removed]",
      "text/plain": [
       "<Figure size 432x288 with 1 Axes>"
      ]
     },
     "metadata": {},
     "output_type": "display_data"
    }
   ],
   "source": [
    "outl = sns.boxplot(animals['brw'])"
   ]
  },
  {
   "cell_type": "code",
   "execution_count": 311,
   "metadata": {},
   "outputs": [
    {
     "data": {
      "text/plain": [
       "<matplotlib.axes._subplots.AxesSubplot at 0x7f04559dee48>"
      ]
     },
     "execution_count": 311,
     "metadata": {},
     "output_type": "execute_result"
    },
    {
     "data": {
      "image/png": "[encoded data removed]",
      "text/plain": [
       "<Figure size 432x288 with 1 Axes>"
      ]
     },
     "metadata": {},
     "output_type": "display_data"
    }
   ],
   "source": [
    "###  using scatterplots\n",
    "sns.scatterplot(x=animals.index,y=animals['bw'])"
   ]
  },
  {
   "cell_type": "code",
   "execution_count": 338,
   "metadata": {},
   "outputs": [
    {
     "data": {
      "text/plain": [
       "<matplotlib.axes._subplots.AxesSubplot at 0x7f04558c6dd8>"
      ]
     },
     "execution_count": 338,
     "metadata": {},
     "output_type": "execute_result"
    },
    {
     "data": {
      "image/png": "[encoded data removed]",
      "text/plain": [
       "<Figure size 432x288 with 1 Axes>"
      ]
     },
     "metadata": {},
     "output_type": "display_data"
    }
   ],
   "source": [
    "sns.scatterplot(x=animals.index,y=animals['brw'])"
   ]
  },
  {
   "cell_type": "markdown",
   "metadata": {},
   "source": [
    "## Using Mathematical Functions\n",
    "\n",
    "### Z-Score"
   ]
  },
  {
   "cell_type": "code",
   "execution_count": 312,
   "metadata": {},
   "outputs": [
    {
     "name": "stdout",
     "output_type": "stream",
     "text": [
      "[7.23777846 0.22176817 0.21909403 0.22185786 2.63288473 0.21106041\n",
      " 0.22286361 0.04349251 0.21918934 0.16440601 0.22241287 0.29848279\n",
      " 0.22227272 0.01310717 0.2228053  0.2195257  0.22200923 0.22266515\n",
      " 0.22130846 0.15561557 0.37024155 0.19187616 0.22275485 0.00920532\n",
      " 0.1275848  0.18215509 0.22277615 0.22172332 0.3612717  0.11076634\n",
      " 0.18364633 0.22288379 0.22287818 0.1533731  0.22275261 0.22137574\n",
      " 0.22286361 0.22283558 0.2209833  0.21896509 0.05741823 0.22235121\n",
      " 0.21167709 0.221073   0.00761314 0.22008632 0.21808156 0.22257545\n",
      " 0.21814099 0.21526503 0.22204847 0.21885297 0.20626155 0.1606611\n",
      " 0.22131967 0.22282212 0.22188029 0.22064694 0.22277279 0.21819144\n",
      " 0.21896509 0.21834841]\n"
     ]
    }
   ],
   "source": [
    "from scipy import stats\n",
    "z = np.abs(stats.zscore(animals.bw))\n",
    "print(z)\n",
    "\n"
   ]
  },
  {
   "cell_type": "code",
   "execution_count": 337,
   "metadata": {},
   "outputs": [
    {
     "data": {
      "text/plain": [
       "<matplotlib.axes._subplots.AxesSubplot at 0x7f0455a09588>"
      ]
     },
     "execution_count": 337,
     "metadata": {},
     "output_type": "execute_result"
    },
    {
     "data": {
      "image/png": "[encoded data removed]",
      "text/plain": [
       "<Figure size 432x288 with 1 Axes>"
      ]
     },
     "metadata": {},
     "output_type": "display_data"
    }
   ],
   "source": [
    "## Eliminating those points\n",
    "animals2 = animals.copy()\n",
    "threshold = 2.5\n",
    "animals2 = animals2[(z < threshold)]\n",
    "\n",
    "sns.scatterplot(x=animals2.index,y=animals2['bw'])\n"
   ]
  },
  {
   "cell_type": "code",
   "execution_count": 340,
   "metadata": {},
   "outputs": [
    {
     "data": {
      "text/plain": [
       "<matplotlib.axes._subplots.AxesSubplot at 0x7f04558367f0>"
      ]
     },
     "execution_count": 340,
     "metadata": {},
     "output_type": "execute_result"
    },
    {
     "data": {
      "image/png": "[encoded data removed]",
      "text/plain": [
       "<Figure size 432x288 with 1 Axes>"
      ]
     },
     "metadata": {},
     "output_type": "display_data"
    }
   ],
   "source": [
    "sns.scatterplot(x=animals2.index,y=animals2['brw'])"
   ]
  },
  {
   "cell_type": "code",
   "execution_count": null,
   "metadata": {},
   "outputs": [],
   "source": []
  }
 ],
 "metadata": {
  "kernelspec": {
   "display_name": "Python 3",
   "language": "python",
   "name": "python3"
  },
  "language_info": {
   "codemirror_mode": {
    "name": "ipython",
    "version": 3
   },
   "file_extension": ".py",
   "mimetype": "text/x-python",
   "name": "python",
   "nbconvert_exporter": "python",
   "pygments_lexer": "ipython3",
   "version": "3.7.6"
  }
 },
 "nbformat": 4,
 "nbformat_minor": 2
}
