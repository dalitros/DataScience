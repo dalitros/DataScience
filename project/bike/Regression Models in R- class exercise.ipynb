{
 "cells": [
  {
   "cell_type": "markdown",
   "metadata": {},
   "source": [
    "# Regression Models in R (tips)"
   ]
  },
  {
   "cell_type": "code",
   "execution_count": 43,
   "metadata": {},
   "outputs": [],
   "source": [
    "library(readr)\n",
    "library(mechkar)\n",
    "library(dplyr)\n",
    "library(ggplot2)"
   ]
  },
  {
   "cell_type": "code",
   "execution_count": 50,
   "metadata": {},
   "outputs": [],
   "source": [
    "df_train <- read.csv(\"C:/Users/beina/DataScience/data/Bike Sharing/train.csv\")\n",
    "df_test <- read.csv(\"C:/Users/beina/DataScience/data/Bike Sharing/test.csv\")"
   ]
  },
  {
   "cell_type": "code",
   "execution_count": 52,
   "metadata": {},
   "outputs": [
    {
     "data": {
      "text/html": [
       "<table>\n",
       "<caption>A data.frame: 6 × 12</caption>\n",
       "<thead>\n",
       "\t<tr><th></th><th scope=col>id</th><th scope=col>season</th><th scope=col>mnth</th><th scope=col>holiday</th><th scope=col>weekday</th><th scope=col>workingday</th><th scope=col>weathersit</th><th scope=col>temp</th><th scope=col>atemp</th><th scope=col>hum</th><th scope=col>windspeed</th><th scope=col>cnt</th></tr>\n",
       "\t<tr><th></th><th scope=col>&lt;int&gt;</th><th scope=col>&lt;int&gt;</th><th scope=col>&lt;int&gt;</th><th scope=col>&lt;int&gt;</th><th scope=col>&lt;int&gt;</th><th scope=col>&lt;int&gt;</th><th scope=col>&lt;int&gt;</th><th scope=col>&lt;dbl&gt;</th><th scope=col>&lt;dbl&gt;</th><th scope=col>&lt;dbl&gt;</th><th scope=col>&lt;dbl&gt;</th><th scope=col>&lt;int&gt;</th></tr>\n",
       "</thead>\n",
       "<tbody>\n",
       "\t<tr><th scope=row>1</th><td>1</td><td>1</td><td>1</td><td>0</td><td>6</td><td>0</td><td>2</td><td>0.344167</td><td>0.363625</td><td>0.805833</td><td>0.1604460</td><td> 985</td></tr>\n",
       "\t<tr><th scope=row>2</th><td>2</td><td>1</td><td>1</td><td>0</td><td>0</td><td>0</td><td>2</td><td>0.363478</td><td>0.353739</td><td>0.696087</td><td>0.2485390</td><td> 801</td></tr>\n",
       "\t<tr><th scope=row>3</th><td>3</td><td>1</td><td>1</td><td>0</td><td>1</td><td>1</td><td>1</td><td>0.196364</td><td>0.189405</td><td>0.437273</td><td>0.2483090</td><td>1349</td></tr>\n",
       "\t<tr><th scope=row>4</th><td>4</td><td>1</td><td>1</td><td>0</td><td>2</td><td>1</td><td>1</td><td>0.200000</td><td>0.212122</td><td>0.590435</td><td>0.1602960</td><td>1562</td></tr>\n",
       "\t<tr><th scope=row>5</th><td>5</td><td>1</td><td>1</td><td>0</td><td>3</td><td>1</td><td>1</td><td>0.226957</td><td>0.229270</td><td>0.436957</td><td>0.1869000</td><td>1600</td></tr>\n",
       "\t<tr><th scope=row>6</th><td>6</td><td>1</td><td>1</td><td>0</td><td>4</td><td>1</td><td>1</td><td>0.204348</td><td>0.233209</td><td>0.518261</td><td>0.0895652</td><td>1606</td></tr>\n",
       "</tbody>\n",
       "</table>\n"
      ],
      "text/latex": [
       "A data.frame: 6 × 12\n",
       "\\begin{tabular}{r|llllllllllll}\n",
       "  & id & season & mnth & holiday & weekday & workingday & weathersit & temp & atemp & hum & windspeed & cnt\\\\\n",
       "  & <int> & <int> & <int> & <int> & <int> & <int> & <int> & <dbl> & <dbl> & <dbl> & <dbl> & <int>\\\\\n",
       "\\hline\n",
       "\t1 & 1 & 1 & 1 & 0 & 6 & 0 & 2 & 0.344167 & 0.363625 & 0.805833 & 0.1604460 &  985\\\\\n",
       "\t2 & 2 & 1 & 1 & 0 & 0 & 0 & 2 & 0.363478 & 0.353739 & 0.696087 & 0.2485390 &  801\\\\\n",
       "\t3 & 3 & 1 & 1 & 0 & 1 & 1 & 1 & 0.196364 & 0.189405 & 0.437273 & 0.2483090 & 1349\\\\\n",
       "\t4 & 4 & 1 & 1 & 0 & 2 & 1 & 1 & 0.200000 & 0.212122 & 0.590435 & 0.1602960 & 1562\\\\\n",
       "\t5 & 5 & 1 & 1 & 0 & 3 & 1 & 1 & 0.226957 & 0.229270 & 0.436957 & 0.1869000 & 1600\\\\\n",
       "\t6 & 6 & 1 & 1 & 0 & 4 & 1 & 1 & 0.204348 & 0.233209 & 0.518261 & 0.0895652 & 1606\\\\\n",
       "\\end{tabular}\n"
      ],
      "text/markdown": [
       "\n",
       "A data.frame: 6 × 12\n",
       "\n",
       "| <!--/--> | id &lt;int&gt; | season &lt;int&gt; | mnth &lt;int&gt; | holiday &lt;int&gt; | weekday &lt;int&gt; | workingday &lt;int&gt; | weathersit &lt;int&gt; | temp &lt;dbl&gt; | atemp &lt;dbl&gt; | hum &lt;dbl&gt; | windspeed &lt;dbl&gt; | cnt &lt;int&gt; |\n",
       "|---|---|---|---|---|---|---|---|---|---|---|---|---|\n",
       "| 1 | 1 | 1 | 1 | 0 | 6 | 0 | 2 | 0.344167 | 0.363625 | 0.805833 | 0.1604460 |  985 |\n",
       "| 2 | 2 | 1 | 1 | 0 | 0 | 0 | 2 | 0.363478 | 0.353739 | 0.696087 | 0.2485390 |  801 |\n",
       "| 3 | 3 | 1 | 1 | 0 | 1 | 1 | 1 | 0.196364 | 0.189405 | 0.437273 | 0.2483090 | 1349 |\n",
       "| 4 | 4 | 1 | 1 | 0 | 2 | 1 | 1 | 0.200000 | 0.212122 | 0.590435 | 0.1602960 | 1562 |\n",
       "| 5 | 5 | 1 | 1 | 0 | 3 | 1 | 1 | 0.226957 | 0.229270 | 0.436957 | 0.1869000 | 1600 |\n",
       "| 6 | 6 | 1 | 1 | 0 | 4 | 1 | 1 | 0.204348 | 0.233209 | 0.518261 | 0.0895652 | 1606 |\n",
       "\n"
      ],
      "text/plain": [
       "  id season mnth holiday weekday workingday weathersit temp     atemp   \n",
       "1 1  1      1    0       6       0          2          0.344167 0.363625\n",
       "2 2  1      1    0       0       0          2          0.363478 0.353739\n",
       "3 3  1      1    0       1       1          1          0.196364 0.189405\n",
       "4 4  1      1    0       2       1          1          0.200000 0.212122\n",
       "5 5  1      1    0       3       1          1          0.226957 0.229270\n",
       "6 6  1      1    0       4       1          1          0.204348 0.233209\n",
       "  hum      windspeed cnt \n",
       "1 0.805833 0.1604460  985\n",
       "2 0.696087 0.2485390  801\n",
       "3 0.437273 0.2483090 1349\n",
       "4 0.590435 0.1602960 1562\n",
       "5 0.436957 0.1869000 1600\n",
       "6 0.518261 0.0895652 1606"
      ]
     },
     "metadata": {},
     "output_type": "display_data"
    },
    {
     "data": {
      "text/html": [
       "<style>\n",
       ".list-inline {list-style: none; margin:0; padding: 0}\n",
       ".list-inline>li {display: inline-block}\n",
       ".list-inline>li:not(:last-child)::after {content: \"\\00b7\"; padding: 0 .5ex}\n",
       "</style>\n",
       "<ol class=list-inline><li>365</li><li>12</li></ol>\n"
      ],
      "text/latex": [
       "\\begin{enumerate*}\n",
       "\\item 365\n",
       "\\item 12\n",
       "\\end{enumerate*}\n"
      ],
      "text/markdown": [
       "1. 365\n",
       "2. 12\n",
       "\n",
       "\n"
      ],
      "text/plain": [
       "[1] 365  12"
      ]
     },
     "metadata": {},
     "output_type": "display_data"
    }
   ],
   "source": [
    "head(df_train)\n",
    "dim(df_train)"
   ]
  },
  {
   "cell_type": "markdown",
   "metadata": {},
   "source": [
    "# EDA"
   ]
  },
  {
   "cell_type": "code",
   "execution_count": 53,
   "metadata": {},
   "outputs": [
    {
     "data": {
      "text/plain": [
       "       id          season           mnth           holiday      \n",
       " Min.   :  1   Min.   :1.000   Min.   : 1.000   Min.   :0.0000  \n",
       " 1st Qu.: 92   1st Qu.:2.000   1st Qu.: 4.000   1st Qu.:0.0000  \n",
       " Median :183   Median :3.000   Median : 7.000   Median :0.0000  \n",
       " Mean   :183   Mean   :2.499   Mean   : 6.526   Mean   :0.0274  \n",
       " 3rd Qu.:274   3rd Qu.:3.000   3rd Qu.:10.000   3rd Qu.:0.0000  \n",
       " Max.   :365   Max.   :4.000   Max.   :12.000   Max.   :1.0000  \n",
       "    weekday        workingday       weathersit         temp        \n",
       " Min.   :0.000   Min.   :0.0000   Min.   :1.000   Min.   :0.05913  \n",
       " 1st Qu.:1.000   1st Qu.:0.0000   1st Qu.:1.000   1st Qu.:0.32500  \n",
       " Median :3.000   Median :1.0000   Median :1.000   Median :0.47917  \n",
       " Mean   :3.008   Mean   :0.6849   Mean   :1.422   Mean   :0.48666  \n",
       " 3rd Qu.:5.000   3rd Qu.:1.0000   3rd Qu.:2.000   3rd Qu.:0.65667  \n",
       " Max.   :6.000   Max.   :1.0000   Max.   :3.000   Max.   :0.84917  \n",
       "     atemp              hum           windspeed            cnt      \n",
       " Min.   :0.07907   Min.   :0.0000   Min.   :0.02239   Min.   : 431  \n",
       " 1st Qu.:0.32195   1st Qu.:0.5383   1st Qu.:0.13558   1st Qu.:2132  \n",
       " Median :0.47285   Median :0.6475   Median :0.18690   Median :3740  \n",
       " Mean   :0.46684   Mean   :0.6437   Mean   :0.19140   Mean   :3406  \n",
       " 3rd Qu.:0.61238   3rd Qu.:0.7421   3rd Qu.:0.23508   3rd Qu.:4586  \n",
       " Max.   :0.84090   Max.   :0.9725   Max.   :0.50746   Max.   :6043  "
      ]
     },
     "metadata": {},
     "output_type": "display_data"
    }
   ],
   "source": [
    "summary(df_train)"
   ]
  },
  {
   "cell_type": "code",
   "execution_count": 54,
   "metadata": {},
   "outputs": [],
   "source": [
    "df_train$season <- factor(df_train$season)\n",
    "df_train$mnth <- factor(df_train$mnth)\n",
    "df_train$holiday <- factor(df_train$holiday)\n",
    "df_train$weekday <- factor(df_train$weekday)\n",
    "df_train$workingday <- factor(df_train$weathersit)\n",
    "df_train$weathersit <- factor(df_train$mnth)\n"
   ]
  },
  {
   "cell_type": "code",
   "execution_count": 55,
   "metadata": {},
   "outputs": [
    {
     "data": {
      "text/plain": [
       "       id      season      mnth     holiday weekday workingday   weathersit \n",
       " Min.   :  1   1:90   1      : 31   0:355   0:52    1:226      1      : 31  \n",
       " 1st Qu.: 92   2:92   3      : 31   1: 10   1:52    2:124      3      : 31  \n",
       " Median :183   3:94   5      : 31           2:52    3: 15      5      : 31  \n",
       " Mean   :183   4:89   7      : 31           3:52               7      : 31  \n",
       " 3rd Qu.:274          8      : 31           4:52               8      : 31  \n",
       " Max.   :365          10     : 31           5:52               10     : 31  \n",
       "                      (Other):179           6:53               (Other):179  \n",
       "      temp             atemp              hum           windspeed      \n",
       " Min.   :0.05913   Min.   :0.07907   Min.   :0.0000   Min.   :0.02239  \n",
       " 1st Qu.:0.32500   1st Qu.:0.32195   1st Qu.:0.5383   1st Qu.:0.13558  \n",
       " Median :0.47917   Median :0.47285   Median :0.6475   Median :0.18690  \n",
       " Mean   :0.48666   Mean   :0.46684   Mean   :0.6437   Mean   :0.19140  \n",
       " 3rd Qu.:0.65667   3rd Qu.:0.61238   3rd Qu.:0.7421   3rd Qu.:0.23508  \n",
       " Max.   :0.84917   Max.   :0.84090   Max.   :0.9725   Max.   :0.50746  \n",
       "                                                                       \n",
       "      cnt      \n",
       " Min.   : 431  \n",
       " 1st Qu.:2132  \n",
       " Median :3740  \n",
       " Mean   :3406  \n",
       " 3rd Qu.:4586  \n",
       " Max.   :6043  \n",
       "               "
      ]
     },
     "metadata": {},
     "output_type": "display_data"
    }
   ],
   "source": [
    "summary(df_train)"
   ]
  },
  {
   "cell_type": "markdown",
   "metadata": {},
   "source": [
    "# DATASET PARTITION"
   ]
  },
  {
   "cell_type": "code",
   "execution_count": 56,
   "metadata": {},
   "outputs": [
    {
     "name": "stderr",
     "output_type": "stream",
     "text": [
      "Dataset partitioned into:\n",
      "\n",
      " + Train dataset: train\n",
      "\n",
      " + Test dataset: test\n",
      "\n",
      "Warning message in Table1(data = df, y = \"traintest_ind_\", messages = FALSE):\n",
      "\"The following variables have unique values and will not be included in the analysis: \"\n"
     ]
    },
    {
     "name": "stdout",
     "output_type": "stream",
     "text": [
      "  |======================                                                |  31%"
     ]
    },
    {
     "name": "stderr",
     "output_type": "stream",
     "text": [
      "Warning message in stats::chisq.test(data[[v]], data[[y]]):\n",
      "\"Chi-squared approximation may be incorrect\"\n"
     ]
    },
    {
     "name": "stdout",
     "output_type": "stream",
     "text": [
      "  |=================================================================     |  92%"
     ]
    },
    {
     "name": "stderr",
     "output_type": "stream",
     "text": [
      " \n",
      "\n",
      "You got a perfectly balanced training and test datasets\n",
      "\n",
      " \n",
      "\n"
     ]
    },
    {
     "data": {
      "text/html": [
       "<table>\n",
       "<caption>A tibble: 54 × 6</caption>\n",
       "<thead>\n",
       "\t<tr><th scope=col>V1</th><th scope=col>V2</th><th scope=col>Pop</th><th scope=col>1</th><th scope=col>2</th><th scope=col>pval</th></tr>\n",
       "\t<tr><th scope=col>&lt;chr&gt;</th><th scope=col>&lt;chr&gt;</th><th scope=col>&lt;chr&gt;</th><th scope=col>&lt;chr&gt;</th><th scope=col>&lt;chr&gt;</th><th scope=col>&lt;chr&gt;</th></tr>\n",
       "</thead>\n",
       "<tbody>\n",
       "\t<tr><td>Individuals   </td><td>n           </td><td>365                      </td><td>255                      </td><td>110                      </td><td>NA   </td></tr>\n",
       "\t<tr><td>id            </td><td>Mean (SD)   </td><td>183.0 (105.5)            </td><td>183.7 (105.0)            </td><td>181.4 (107.2)            </td><td>NA   </td></tr>\n",
       "\t<tr><td>id            </td><td>Median (IQR)</td><td>183.0 (92.0-274.0)       </td><td>181.0 (92.5-272.5)       </td><td>184.5 (88.0-277.0)       </td><td>0.854</td></tr>\n",
       "\t<tr><td>season        </td><td>1           </td><td>90 (24.7%)               </td><td>62 (24.3%)               </td><td>28 (25.5%)               </td><td>NA   </td></tr>\n",
       "\t<tr><td>season        </td><td>2           </td><td>92 (25.2%)               </td><td>67 (26.3%)               </td><td>25 (22.7%)               </td><td>0.914</td></tr>\n",
       "\t<tr><td>season        </td><td>3           </td><td>94 (25.8%)               </td><td>65 (25.5%)               </td><td>29 (26.4%)               </td><td>NA   </td></tr>\n",
       "\t<tr><td>season        </td><td>4           </td><td>89 (24.4%)               </td><td>61 (23.9%)               </td><td>28 (25.5%)               </td><td>NA   </td></tr>\n",
       "\t<tr><td>mnth          </td><td>1           </td><td>31 (8.5%)                </td><td>20 (7.8%)                </td><td>11 (10.0%)               </td><td>NA   </td></tr>\n",
       "\t<tr><td>mnth          </td><td>2           </td><td>28 (7.7%)                </td><td>18 (7.1%)                </td><td>10 (9.1%)                </td><td>0.841</td></tr>\n",
       "\t<tr><td>mnth          </td><td>3           </td><td>31 (8.5%)                </td><td>24 (9.4%)                </td><td>7 (6.4%)                 </td><td>NA   </td></tr>\n",
       "\t<tr><td>mnth          </td><td>4           </td><td>30 (8.2%)                </td><td>20 (7.8%)                </td><td>10 (9.1%)                </td><td>NA   </td></tr>\n",
       "\t<tr><td>mnth          </td><td>5           </td><td>31 (8.5%)                </td><td>23 (9.0%)                </td><td>8 (7.3%)                 </td><td>NA   </td></tr>\n",
       "\t<tr><td>mnth          </td><td>6           </td><td>30 (8.2%)                </td><td>23 (9.0%)                </td><td>7 (6.4%)                 </td><td>NA   </td></tr>\n",
       "\t<tr><td>mnth          </td><td>7           </td><td>31 (8.5%)                </td><td>20 (7.8%)                </td><td>11 (10.0%)               </td><td>NA   </td></tr>\n",
       "\t<tr><td>mnth          </td><td>8           </td><td>31 (8.5%)                </td><td>24 (9.4%)                </td><td>7 (6.4%)                 </td><td>NA   </td></tr>\n",
       "\t<tr><td>mnth          </td><td>9           </td><td>30 (8.2%)                </td><td>20 (7.8%)                </td><td>10 (9.1%)                </td><td>NA   </td></tr>\n",
       "\t<tr><td>mnth          </td><td>10          </td><td>31 (8.5%)                </td><td>21 (8.2%)                </td><td>10 (9.1%)                </td><td>NA   </td></tr>\n",
       "\t<tr><td>mnth          </td><td>11          </td><td>30 (8.2%)                </td><td>18 (7.1%)                </td><td>12 (10.9%)               </td><td>NA   </td></tr>\n",
       "\t<tr><td>mnth          </td><td>12          </td><td>31 (8.5%)                </td><td>24 (9.4%)                </td><td>7 (6.4%)                 </td><td>NA   </td></tr>\n",
       "\t<tr><td>holiday       </td><td>1           </td><td>10 (2.7%)                </td><td>5 (2.0%)                 </td><td>5 (4.5%)                 </td><td>0.166</td></tr>\n",
       "\t<tr><td>weekday       </td><td>0           </td><td>52 (14.2%)               </td><td>36 (14.1%)               </td><td>16 (14.5%)               </td><td>NA   </td></tr>\n",
       "\t<tr><td>weekday       </td><td>1           </td><td>52 (14.2%)               </td><td>34 (13.3%)               </td><td>18 (16.4%)               </td><td>0.931</td></tr>\n",
       "\t<tr><td>weekday       </td><td>2           </td><td>52 (14.2%)               </td><td>36 (14.1%)               </td><td>16 (14.5%)               </td><td>NA   </td></tr>\n",
       "\t<tr><td>weekday       </td><td>3           </td><td>52 (14.2%)               </td><td>34 (13.3%)               </td><td>18 (16.4%)               </td><td>NA   </td></tr>\n",
       "\t<tr><td>weekday       </td><td>4           </td><td>52 (14.2%)               </td><td>38 (14.9%)               </td><td>14 (12.7%)               </td><td>NA   </td></tr>\n",
       "\t<tr><td>weekday       </td><td>5           </td><td>52 (14.2%)               </td><td>38 (14.9%)               </td><td>14 (12.7%)               </td><td>NA   </td></tr>\n",
       "\t<tr><td>weekday       </td><td>6           </td><td>53 (14.5%)               </td><td>39 (15.3%)               </td><td>14 (12.7%)               </td><td>NA   </td></tr>\n",
       "\t<tr><td>workingday    </td><td>1           </td><td>226 (61.9%)              </td><td>153 (60.0%)              </td><td>73 (66.4%)               </td><td>NA   </td></tr>\n",
       "\t<tr><td>workingday    </td><td>2           </td><td>124 (34.0%)              </td><td>93 (36.5%)               </td><td>31 (28.2%)               </td><td>0.253</td></tr>\n",
       "\t<tr><td>workingday    </td><td>3           </td><td>15 (4.1%)                </td><td>9 (3.5%)                 </td><td>6 (5.5%)                 </td><td>NA   </td></tr>\n",
       "\t<tr><td>weathersit    </td><td>1           </td><td>31 (8.5%)                </td><td>20 (7.8%)                </td><td>11 (10.0%)               </td><td>NA   </td></tr>\n",
       "\t<tr><td>weathersit    </td><td>2           </td><td>28 (7.7%)                </td><td>18 (7.1%)                </td><td>10 (9.1%)                </td><td>0.841</td></tr>\n",
       "\t<tr><td>weathersit    </td><td>3           </td><td>31 (8.5%)                </td><td>24 (9.4%)                </td><td>7 (6.4%)                 </td><td>NA   </td></tr>\n",
       "\t<tr><td>weathersit    </td><td>4           </td><td>30 (8.2%)                </td><td>20 (7.8%)                </td><td>10 (9.1%)                </td><td>NA   </td></tr>\n",
       "\t<tr><td>weathersit    </td><td>5           </td><td>31 (8.5%)                </td><td>23 (9.0%)                </td><td>8 (7.3%)                 </td><td>NA   </td></tr>\n",
       "\t<tr><td>weathersit    </td><td>6           </td><td>30 (8.2%)                </td><td>23 (9.0%)                </td><td>7 (6.4%)                 </td><td>NA   </td></tr>\n",
       "\t<tr><td>weathersit    </td><td>7           </td><td>31 (8.5%)                </td><td>20 (7.8%)                </td><td>11 (10.0%)               </td><td>NA   </td></tr>\n",
       "\t<tr><td>weathersit    </td><td>8           </td><td>31 (8.5%)                </td><td>24 (9.4%)                </td><td>7 (6.4%)                 </td><td>NA   </td></tr>\n",
       "\t<tr><td>weathersit    </td><td>9           </td><td>30 (8.2%)                </td><td>20 (7.8%)                </td><td>10 (9.1%)                </td><td>NA   </td></tr>\n",
       "\t<tr><td>weathersit    </td><td>10          </td><td>31 (8.5%)                </td><td>21 (8.2%)                </td><td>10 (9.1%)                </td><td>NA   </td></tr>\n",
       "\t<tr><td>weathersit    </td><td>11          </td><td>30 (8.2%)                </td><td>18 (7.1%)                </td><td>12 (10.9%)               </td><td>NA   </td></tr>\n",
       "\t<tr><td>weathersit    </td><td>12          </td><td>31 (8.5%)                </td><td>24 (9.4%)                </td><td>7 (6.4%)                 </td><td>NA   </td></tr>\n",
       "\t<tr><td>temp          </td><td>Mean (SD)   </td><td>0.5 (0.2)                </td><td>0.5 (0.2)                </td><td>0.5 (0.2)                </td><td>NA   </td></tr>\n",
       "\t<tr><td>temp          </td><td>Median (IQR)</td><td>0.5 (0.3-0.7)            </td><td>0.5 (0.3-0.7)            </td><td>0.5 (0.3-0.7)            </td><td>0.633</td></tr>\n",
       "\t<tr><td>atemp         </td><td>Mean (SD)   </td><td>0.5 (0.2)                </td><td>0.5 (0.2)                </td><td>0.5 (0.2)                </td><td>NA   </td></tr>\n",
       "\t<tr><td>atemp         </td><td>Median (IQR)</td><td>0.5 (0.3-0.6)            </td><td>0.5 (0.3-0.6)            </td><td>0.5 (0.3-0.6)            </td><td>0.681</td></tr>\n",
       "\t<tr><td>hum           </td><td>Mean (SD)   </td><td>0.6 (0.1)                </td><td>0.6 (0.2)                </td><td>0.7 (0.1)                </td><td>NA   </td></tr>\n",
       "\t<tr><td>hum           </td><td>Median (IQR)</td><td>0.6 (0.5-0.7)            </td><td>0.6 (0.5-0.7)            </td><td>0.6 (0.5-0.7)            </td><td>0.53 </td></tr>\n",
       "\t<tr><td>windspeed     </td><td>Mean (SD)   </td><td>0.2 (0.1)                </td><td>0.2 (0.1)                </td><td>0.2 (0.1)                </td><td>NA   </td></tr>\n",
       "\t<tr><td>windspeed     </td><td>Median (IQR)</td><td>0.2 (0.1-0.2)            </td><td>0.2 (0.1-0.2)            </td><td>0.2 (0.1-0.2)            </td><td>0.704</td></tr>\n",
       "\t<tr><td>cnt           </td><td>Mean (SD)   </td><td>3,405.8 (1,378.8)        </td><td>3,443.5 (1,363.5)        </td><td>3,318.2 (1,415.8)        </td><td>NA   </td></tr>\n",
       "\t<tr><td>cnt           </td><td>Median (IQR)</td><td>3,740.0 (2,132.0-4,586.0)</td><td>3,750.0 (2,185.5-4,591.0)</td><td>3,577.5 (1,916.5-4,546.2)</td><td>0.426</td></tr>\n",
       "\t<tr><td>traintest_ind_</td><td>Mean (SD)   </td><td>1.3 (0.5)                </td><td>NA                       </td><td>NA                       </td><td>NA   </td></tr>\n",
       "\t<tr><td>traintest_ind_</td><td>Median (IQR)</td><td>1.0 (1.0-2.0)            </td><td>NA                       </td><td>NA                       </td><td>0    </td></tr>\n",
       "</tbody>\n",
       "</table>\n"
      ],
      "text/latex": [
       "A tibble: 54 × 6\n",
       "\\begin{tabular}{llllll}\n",
       " V1 & V2 & Pop & 1 & 2 & pval\\\\\n",
       " <chr> & <chr> & <chr> & <chr> & <chr> & <chr>\\\\\n",
       "\\hline\n",
       "\t Individuals    & n            & 365                       & 255                       & 110                       & NA   \\\\\n",
       "\t id             & Mean (SD)    & 183.0 (105.5)             & 183.7 (105.0)             & 181.4 (107.2)             & NA   \\\\\n",
       "\t id             & Median (IQR) & 183.0 (92.0-274.0)        & 181.0 (92.5-272.5)        & 184.5 (88.0-277.0)        & 0.854\\\\\n",
       "\t season         & 1            & 90 (24.7\\%)                & 62 (24.3\\%)                & 28 (25.5\\%)                & NA   \\\\\n",
       "\t season         & 2            & 92 (25.2\\%)                & 67 (26.3\\%)                & 25 (22.7\\%)                & 0.914\\\\\n",
       "\t season         & 3            & 94 (25.8\\%)                & 65 (25.5\\%)                & 29 (26.4\\%)                & NA   \\\\\n",
       "\t season         & 4            & 89 (24.4\\%)                & 61 (23.9\\%)                & 28 (25.5\\%)                & NA   \\\\\n",
       "\t mnth           & 1            & 31 (8.5\\%)                 & 20 (7.8\\%)                 & 11 (10.0\\%)                & NA   \\\\\n",
       "\t mnth           & 2            & 28 (7.7\\%)                 & 18 (7.1\\%)                 & 10 (9.1\\%)                 & 0.841\\\\\n",
       "\t mnth           & 3            & 31 (8.5\\%)                 & 24 (9.4\\%)                 & 7 (6.4\\%)                  & NA   \\\\\n",
       "\t mnth           & 4            & 30 (8.2\\%)                 & 20 (7.8\\%)                 & 10 (9.1\\%)                 & NA   \\\\\n",
       "\t mnth           & 5            & 31 (8.5\\%)                 & 23 (9.0\\%)                 & 8 (7.3\\%)                  & NA   \\\\\n",
       "\t mnth           & 6            & 30 (8.2\\%)                 & 23 (9.0\\%)                 & 7 (6.4\\%)                  & NA   \\\\\n",
       "\t mnth           & 7            & 31 (8.5\\%)                 & 20 (7.8\\%)                 & 11 (10.0\\%)                & NA   \\\\\n",
       "\t mnth           & 8            & 31 (8.5\\%)                 & 24 (9.4\\%)                 & 7 (6.4\\%)                  & NA   \\\\\n",
       "\t mnth           & 9            & 30 (8.2\\%)                 & 20 (7.8\\%)                 & 10 (9.1\\%)                 & NA   \\\\\n",
       "\t mnth           & 10           & 31 (8.5\\%)                 & 21 (8.2\\%)                 & 10 (9.1\\%)                 & NA   \\\\\n",
       "\t mnth           & 11           & 30 (8.2\\%)                 & 18 (7.1\\%)                 & 12 (10.9\\%)                & NA   \\\\\n",
       "\t mnth           & 12           & 31 (8.5\\%)                 & 24 (9.4\\%)                 & 7 (6.4\\%)                  & NA   \\\\\n",
       "\t holiday        & 1            & 10 (2.7\\%)                 & 5 (2.0\\%)                  & 5 (4.5\\%)                  & 0.166\\\\\n",
       "\t weekday        & 0            & 52 (14.2\\%)                & 36 (14.1\\%)                & 16 (14.5\\%)                & NA   \\\\\n",
       "\t weekday        & 1            & 52 (14.2\\%)                & 34 (13.3\\%)                & 18 (16.4\\%)                & 0.931\\\\\n",
       "\t weekday        & 2            & 52 (14.2\\%)                & 36 (14.1\\%)                & 16 (14.5\\%)                & NA   \\\\\n",
       "\t weekday        & 3            & 52 (14.2\\%)                & 34 (13.3\\%)                & 18 (16.4\\%)                & NA   \\\\\n",
       "\t weekday        & 4            & 52 (14.2\\%)                & 38 (14.9\\%)                & 14 (12.7\\%)                & NA   \\\\\n",
       "\t weekday        & 5            & 52 (14.2\\%)                & 38 (14.9\\%)                & 14 (12.7\\%)                & NA   \\\\\n",
       "\t weekday        & 6            & 53 (14.5\\%)                & 39 (15.3\\%)                & 14 (12.7\\%)                & NA   \\\\\n",
       "\t workingday     & 1            & 226 (61.9\\%)               & 153 (60.0\\%)               & 73 (66.4\\%)                & NA   \\\\\n",
       "\t workingday     & 2            & 124 (34.0\\%)               & 93 (36.5\\%)                & 31 (28.2\\%)                & 0.253\\\\\n",
       "\t workingday     & 3            & 15 (4.1\\%)                 & 9 (3.5\\%)                  & 6 (5.5\\%)                  & NA   \\\\\n",
       "\t weathersit     & 1            & 31 (8.5\\%)                 & 20 (7.8\\%)                 & 11 (10.0\\%)                & NA   \\\\\n",
       "\t weathersit     & 2            & 28 (7.7\\%)                 & 18 (7.1\\%)                 & 10 (9.1\\%)                 & 0.841\\\\\n",
       "\t weathersit     & 3            & 31 (8.5\\%)                 & 24 (9.4\\%)                 & 7 (6.4\\%)                  & NA   \\\\\n",
       "\t weathersit     & 4            & 30 (8.2\\%)                 & 20 (7.8\\%)                 & 10 (9.1\\%)                 & NA   \\\\\n",
       "\t weathersit     & 5            & 31 (8.5\\%)                 & 23 (9.0\\%)                 & 8 (7.3\\%)                  & NA   \\\\\n",
       "\t weathersit     & 6            & 30 (8.2\\%)                 & 23 (9.0\\%)                 & 7 (6.4\\%)                  & NA   \\\\\n",
       "\t weathersit     & 7            & 31 (8.5\\%)                 & 20 (7.8\\%)                 & 11 (10.0\\%)                & NA   \\\\\n",
       "\t weathersit     & 8            & 31 (8.5\\%)                 & 24 (9.4\\%)                 & 7 (6.4\\%)                  & NA   \\\\\n",
       "\t weathersit     & 9            & 30 (8.2\\%)                 & 20 (7.8\\%)                 & 10 (9.1\\%)                 & NA   \\\\\n",
       "\t weathersit     & 10           & 31 (8.5\\%)                 & 21 (8.2\\%)                 & 10 (9.1\\%)                 & NA   \\\\\n",
       "\t weathersit     & 11           & 30 (8.2\\%)                 & 18 (7.1\\%)                 & 12 (10.9\\%)                & NA   \\\\\n",
       "\t weathersit     & 12           & 31 (8.5\\%)                 & 24 (9.4\\%)                 & 7 (6.4\\%)                  & NA   \\\\\n",
       "\t temp           & Mean (SD)    & 0.5 (0.2)                 & 0.5 (0.2)                 & 0.5 (0.2)                 & NA   \\\\\n",
       "\t temp           & Median (IQR) & 0.5 (0.3-0.7)             & 0.5 (0.3-0.7)             & 0.5 (0.3-0.7)             & 0.633\\\\\n",
       "\t atemp          & Mean (SD)    & 0.5 (0.2)                 & 0.5 (0.2)                 & 0.5 (0.2)                 & NA   \\\\\n",
       "\t atemp          & Median (IQR) & 0.5 (0.3-0.6)             & 0.5 (0.3-0.6)             & 0.5 (0.3-0.6)             & 0.681\\\\\n",
       "\t hum            & Mean (SD)    & 0.6 (0.1)                 & 0.6 (0.2)                 & 0.7 (0.1)                 & NA   \\\\\n",
       "\t hum            & Median (IQR) & 0.6 (0.5-0.7)             & 0.6 (0.5-0.7)             & 0.6 (0.5-0.7)             & 0.53 \\\\\n",
       "\t windspeed      & Mean (SD)    & 0.2 (0.1)                 & 0.2 (0.1)                 & 0.2 (0.1)                 & NA   \\\\\n",
       "\t windspeed      & Median (IQR) & 0.2 (0.1-0.2)             & 0.2 (0.1-0.2)             & 0.2 (0.1-0.2)             & 0.704\\\\\n",
       "\t cnt            & Mean (SD)    & 3,405.8 (1,378.8)         & 3,443.5 (1,363.5)         & 3,318.2 (1,415.8)         & NA   \\\\\n",
       "\t cnt            & Median (IQR) & 3,740.0 (2,132.0-4,586.0) & 3,750.0 (2,185.5-4,591.0) & 3,577.5 (1,916.5-4,546.2) & 0.426\\\\\n",
       "\t traintest\\_ind\\_ & Mean (SD)    & 1.3 (0.5)                 & NA                        & NA                        & NA   \\\\\n",
       "\t traintest\\_ind\\_ & Median (IQR) & 1.0 (1.0-2.0)             & NA                        & NA                        & 0    \\\\\n",
       "\\end{tabular}\n"
      ],
      "text/markdown": [
       "\n",
       "A tibble: 54 × 6\n",
       "\n",
       "| V1 &lt;chr&gt; | V2 &lt;chr&gt; | Pop &lt;chr&gt; | 1 &lt;chr&gt; | 2 &lt;chr&gt; | pval &lt;chr&gt; |\n",
       "|---|---|---|---|---|---|\n",
       "| Individuals    | n            | 365                       | 255                       | 110                       | NA    |\n",
       "| id             | Mean (SD)    | 183.0 (105.5)             | 183.7 (105.0)             | 181.4 (107.2)             | NA    |\n",
       "| id             | Median (IQR) | 183.0 (92.0-274.0)        | 181.0 (92.5-272.5)        | 184.5 (88.0-277.0)        | 0.854 |\n",
       "| season         | 1            | 90 (24.7%)                | 62 (24.3%)                | 28 (25.5%)                | NA    |\n",
       "| season         | 2            | 92 (25.2%)                | 67 (26.3%)                | 25 (22.7%)                | 0.914 |\n",
       "| season         | 3            | 94 (25.8%)                | 65 (25.5%)                | 29 (26.4%)                | NA    |\n",
       "| season         | 4            | 89 (24.4%)                | 61 (23.9%)                | 28 (25.5%)                | NA    |\n",
       "| mnth           | 1            | 31 (8.5%)                 | 20 (7.8%)                 | 11 (10.0%)                | NA    |\n",
       "| mnth           | 2            | 28 (7.7%)                 | 18 (7.1%)                 | 10 (9.1%)                 | 0.841 |\n",
       "| mnth           | 3            | 31 (8.5%)                 | 24 (9.4%)                 | 7 (6.4%)                  | NA    |\n",
       "| mnth           | 4            | 30 (8.2%)                 | 20 (7.8%)                 | 10 (9.1%)                 | NA    |\n",
       "| mnth           | 5            | 31 (8.5%)                 | 23 (9.0%)                 | 8 (7.3%)                  | NA    |\n",
       "| mnth           | 6            | 30 (8.2%)                 | 23 (9.0%)                 | 7 (6.4%)                  | NA    |\n",
       "| mnth           | 7            | 31 (8.5%)                 | 20 (7.8%)                 | 11 (10.0%)                | NA    |\n",
       "| mnth           | 8            | 31 (8.5%)                 | 24 (9.4%)                 | 7 (6.4%)                  | NA    |\n",
       "| mnth           | 9            | 30 (8.2%)                 | 20 (7.8%)                 | 10 (9.1%)                 | NA    |\n",
       "| mnth           | 10           | 31 (8.5%)                 | 21 (8.2%)                 | 10 (9.1%)                 | NA    |\n",
       "| mnth           | 11           | 30 (8.2%)                 | 18 (7.1%)                 | 12 (10.9%)                | NA    |\n",
       "| mnth           | 12           | 31 (8.5%)                 | 24 (9.4%)                 | 7 (6.4%)                  | NA    |\n",
       "| holiday        | 1            | 10 (2.7%)                 | 5 (2.0%)                  | 5 (4.5%)                  | 0.166 |\n",
       "| weekday        | 0            | 52 (14.2%)                | 36 (14.1%)                | 16 (14.5%)                | NA    |\n",
       "| weekday        | 1            | 52 (14.2%)                | 34 (13.3%)                | 18 (16.4%)                | 0.931 |\n",
       "| weekday        | 2            | 52 (14.2%)                | 36 (14.1%)                | 16 (14.5%)                | NA    |\n",
       "| weekday        | 3            | 52 (14.2%)                | 34 (13.3%)                | 18 (16.4%)                | NA    |\n",
       "| weekday        | 4            | 52 (14.2%)                | 38 (14.9%)                | 14 (12.7%)                | NA    |\n",
       "| weekday        | 5            | 52 (14.2%)                | 38 (14.9%)                | 14 (12.7%)                | NA    |\n",
       "| weekday        | 6            | 53 (14.5%)                | 39 (15.3%)                | 14 (12.7%)                | NA    |\n",
       "| workingday     | 1            | 226 (61.9%)               | 153 (60.0%)               | 73 (66.4%)                | NA    |\n",
       "| workingday     | 2            | 124 (34.0%)               | 93 (36.5%)                | 31 (28.2%)                | 0.253 |\n",
       "| workingday     | 3            | 15 (4.1%)                 | 9 (3.5%)                  | 6 (5.5%)                  | NA    |\n",
       "| weathersit     | 1            | 31 (8.5%)                 | 20 (7.8%)                 | 11 (10.0%)                | NA    |\n",
       "| weathersit     | 2            | 28 (7.7%)                 | 18 (7.1%)                 | 10 (9.1%)                 | 0.841 |\n",
       "| weathersit     | 3            | 31 (8.5%)                 | 24 (9.4%)                 | 7 (6.4%)                  | NA    |\n",
       "| weathersit     | 4            | 30 (8.2%)                 | 20 (7.8%)                 | 10 (9.1%)                 | NA    |\n",
       "| weathersit     | 5            | 31 (8.5%)                 | 23 (9.0%)                 | 8 (7.3%)                  | NA    |\n",
       "| weathersit     | 6            | 30 (8.2%)                 | 23 (9.0%)                 | 7 (6.4%)                  | NA    |\n",
       "| weathersit     | 7            | 31 (8.5%)                 | 20 (7.8%)                 | 11 (10.0%)                | NA    |\n",
       "| weathersit     | 8            | 31 (8.5%)                 | 24 (9.4%)                 | 7 (6.4%)                  | NA    |\n",
       "| weathersit     | 9            | 30 (8.2%)                 | 20 (7.8%)                 | 10 (9.1%)                 | NA    |\n",
       "| weathersit     | 10           | 31 (8.5%)                 | 21 (8.2%)                 | 10 (9.1%)                 | NA    |\n",
       "| weathersit     | 11           | 30 (8.2%)                 | 18 (7.1%)                 | 12 (10.9%)                | NA    |\n",
       "| weathersit     | 12           | 31 (8.5%)                 | 24 (9.4%)                 | 7 (6.4%)                  | NA    |\n",
       "| temp           | Mean (SD)    | 0.5 (0.2)                 | 0.5 (0.2)                 | 0.5 (0.2)                 | NA    |\n",
       "| temp           | Median (IQR) | 0.5 (0.3-0.7)             | 0.5 (0.3-0.7)             | 0.5 (0.3-0.7)             | 0.633 |\n",
       "| atemp          | Mean (SD)    | 0.5 (0.2)                 | 0.5 (0.2)                 | 0.5 (0.2)                 | NA    |\n",
       "| atemp          | Median (IQR) | 0.5 (0.3-0.6)             | 0.5 (0.3-0.6)             | 0.5 (0.3-0.6)             | 0.681 |\n",
       "| hum            | Mean (SD)    | 0.6 (0.1)                 | 0.6 (0.2)                 | 0.7 (0.1)                 | NA    |\n",
       "| hum            | Median (IQR) | 0.6 (0.5-0.7)             | 0.6 (0.5-0.7)             | 0.6 (0.5-0.7)             | 0.53  |\n",
       "| windspeed      | Mean (SD)    | 0.2 (0.1)                 | 0.2 (0.1)                 | 0.2 (0.1)                 | NA    |\n",
       "| windspeed      | Median (IQR) | 0.2 (0.1-0.2)             | 0.2 (0.1-0.2)             | 0.2 (0.1-0.2)             | 0.704 |\n",
       "| cnt            | Mean (SD)    | 3,405.8 (1,378.8)         | 3,443.5 (1,363.5)         | 3,318.2 (1,415.8)         | NA    |\n",
       "| cnt            | Median (IQR) | 3,740.0 (2,132.0-4,586.0) | 3,750.0 (2,185.5-4,591.0) | 3,577.5 (1,916.5-4,546.2) | 0.426 |\n",
       "| traintest_ind_ | Mean (SD)    | 1.3 (0.5)                 | NA                        | NA                        | NA    |\n",
       "| traintest_ind_ | Median (IQR) | 1.0 (1.0-2.0)             | NA                        | NA                        | 0     |\n",
       "\n"
      ],
      "text/plain": [
       "   V1             V2           Pop                      \n",
       "1  Individuals    n            365                      \n",
       "2  id             Mean (SD)    183.0 (105.5)            \n",
       "3  id             Median (IQR) 183.0 (92.0-274.0)       \n",
       "4  season         1            90 (24.7%)               \n",
       "5  season         2            92 (25.2%)               \n",
       "6  season         3            94 (25.8%)               \n",
       "7  season         4            89 (24.4%)               \n",
       "8  mnth           1            31 (8.5%)                \n",
       "9  mnth           2            28 (7.7%)                \n",
       "10 mnth           3            31 (8.5%)                \n",
       "11 mnth           4            30 (8.2%)                \n",
       "12 mnth           5            31 (8.5%)                \n",
       "13 mnth           6            30 (8.2%)                \n",
       "14 mnth           7            31 (8.5%)                \n",
       "15 mnth           8            31 (8.5%)                \n",
       "16 mnth           9            30 (8.2%)                \n",
       "17 mnth           10           31 (8.5%)                \n",
       "18 mnth           11           30 (8.2%)                \n",
       "19 mnth           12           31 (8.5%)                \n",
       "20 holiday        1            10 (2.7%)                \n",
       "21 weekday        0            52 (14.2%)               \n",
       "22 weekday        1            52 (14.2%)               \n",
       "23 weekday        2            52 (14.2%)               \n",
       "24 weekday        3            52 (14.2%)               \n",
       "25 weekday        4            52 (14.2%)               \n",
       "26 weekday        5            52 (14.2%)               \n",
       "27 weekday        6            53 (14.5%)               \n",
       "28 workingday     1            226 (61.9%)              \n",
       "29 workingday     2            124 (34.0%)              \n",
       "30 workingday     3            15 (4.1%)                \n",
       "31 weathersit     1            31 (8.5%)                \n",
       "32 weathersit     2            28 (7.7%)                \n",
       "33 weathersit     3            31 (8.5%)                \n",
       "34 weathersit     4            30 (8.2%)                \n",
       "35 weathersit     5            31 (8.5%)                \n",
       "36 weathersit     6            30 (8.2%)                \n",
       "37 weathersit     7            31 (8.5%)                \n",
       "38 weathersit     8            31 (8.5%)                \n",
       "39 weathersit     9            30 (8.2%)                \n",
       "40 weathersit     10           31 (8.5%)                \n",
       "41 weathersit     11           30 (8.2%)                \n",
       "42 weathersit     12           31 (8.5%)                \n",
       "43 temp           Mean (SD)    0.5 (0.2)                \n",
       "44 temp           Median (IQR) 0.5 (0.3-0.7)            \n",
       "45 atemp          Mean (SD)    0.5 (0.2)                \n",
       "46 atemp          Median (IQR) 0.5 (0.3-0.6)            \n",
       "47 hum            Mean (SD)    0.6 (0.1)                \n",
       "48 hum            Median (IQR) 0.6 (0.5-0.7)            \n",
       "49 windspeed      Mean (SD)    0.2 (0.1)                \n",
       "50 windspeed      Median (IQR) 0.2 (0.1-0.2)            \n",
       "51 cnt            Mean (SD)    3,405.8 (1,378.8)        \n",
       "52 cnt            Median (IQR) 3,740.0 (2,132.0-4,586.0)\n",
       "53 traintest_ind_ Mean (SD)    1.3 (0.5)                \n",
       "54 traintest_ind_ Median (IQR) 1.0 (1.0-2.0)            \n",
       "   1                         2                         pval \n",
       "1  255                       110                       NA   \n",
       "2  183.7 (105.0)             181.4 (107.2)             NA   \n",
       "3  181.0 (92.5-272.5)        184.5 (88.0-277.0)        0.854\n",
       "4  62 (24.3%)                28 (25.5%)                NA   \n",
       "5  67 (26.3%)                25 (22.7%)                0.914\n",
       "6  65 (25.5%)                29 (26.4%)                NA   \n",
       "7  61 (23.9%)                28 (25.5%)                NA   \n",
       "8  20 (7.8%)                 11 (10.0%)                NA   \n",
       "9  18 (7.1%)                 10 (9.1%)                 0.841\n",
       "10 24 (9.4%)                 7 (6.4%)                  NA   \n",
       "11 20 (7.8%)                 10 (9.1%)                 NA   \n",
       "12 23 (9.0%)                 8 (7.3%)                  NA   \n",
       "13 23 (9.0%)                 7 (6.4%)                  NA   \n",
       "14 20 (7.8%)                 11 (10.0%)                NA   \n",
       "15 24 (9.4%)                 7 (6.4%)                  NA   \n",
       "16 20 (7.8%)                 10 (9.1%)                 NA   \n",
       "17 21 (8.2%)                 10 (9.1%)                 NA   \n",
       "18 18 (7.1%)                 12 (10.9%)                NA   \n",
       "19 24 (9.4%)                 7 (6.4%)                  NA   \n",
       "20 5 (2.0%)                  5 (4.5%)                  0.166\n",
       "21 36 (14.1%)                16 (14.5%)                NA   \n",
       "22 34 (13.3%)                18 (16.4%)                0.931\n",
       "23 36 (14.1%)                16 (14.5%)                NA   \n",
       "24 34 (13.3%)                18 (16.4%)                NA   \n",
       "25 38 (14.9%)                14 (12.7%)                NA   \n",
       "26 38 (14.9%)                14 (12.7%)                NA   \n",
       "27 39 (15.3%)                14 (12.7%)                NA   \n",
       "28 153 (60.0%)               73 (66.4%)                NA   \n",
       "29 93 (36.5%)                31 (28.2%)                0.253\n",
       "30 9 (3.5%)                  6 (5.5%)                  NA   \n",
       "31 20 (7.8%)                 11 (10.0%)                NA   \n",
       "32 18 (7.1%)                 10 (9.1%)                 0.841\n",
       "33 24 (9.4%)                 7 (6.4%)                  NA   \n",
       "34 20 (7.8%)                 10 (9.1%)                 NA   \n",
       "35 23 (9.0%)                 8 (7.3%)                  NA   \n",
       "36 23 (9.0%)                 7 (6.4%)                  NA   \n",
       "37 20 (7.8%)                 11 (10.0%)                NA   \n",
       "38 24 (9.4%)                 7 (6.4%)                  NA   \n",
       "39 20 (7.8%)                 10 (9.1%)                 NA   \n",
       "40 21 (8.2%)                 10 (9.1%)                 NA   \n",
       "41 18 (7.1%)                 12 (10.9%)                NA   \n",
       "42 24 (9.4%)                 7 (6.4%)                  NA   \n",
       "43 0.5 (0.2)                 0.5 (0.2)                 NA   \n",
       "44 0.5 (0.3-0.7)             0.5 (0.3-0.7)             0.633\n",
       "45 0.5 (0.2)                 0.5 (0.2)                 NA   \n",
       "46 0.5 (0.3-0.6)             0.5 (0.3-0.6)             0.681\n",
       "47 0.6 (0.2)                 0.7 (0.1)                 NA   \n",
       "48 0.6 (0.5-0.7)             0.6 (0.5-0.7)             0.53 \n",
       "49 0.2 (0.1)                 0.2 (0.1)                 NA   \n",
       "50 0.2 (0.1-0.2)             0.2 (0.1-0.2)             0.704\n",
       "51 3,443.5 (1,363.5)         3,318.2 (1,415.8)         NA   \n",
       "52 3,750.0 (2,185.5-4,591.0) 3,577.5 (1,916.5-4,546.2) 0.426\n",
       "53 NA                        NA                        NA   \n",
       "54 NA                        NA                        0    "
      ]
     },
     "metadata": {},
     "output_type": "display_data"
    }
   ],
   "source": [
    "tab1 <- train_test(data=df_train,train_name=\"train\",test_name=\"test\",prop=0.7,seed=5,tableone=TRUE)\n",
    "tab1"
   ]
  },
  {
   "cell_type": "code",
   "execution_count": 57,
   "metadata": {},
   "outputs": [
    {
     "data": {
      "text/html": [
       "<table>\n",
       "<caption>A tibble: 1 × 6</caption>\n",
       "<thead>\n",
       "\t<tr><th scope=col>V1</th><th scope=col>V2</th><th scope=col>Pop</th><th scope=col>1</th><th scope=col>2</th><th scope=col>pval</th></tr>\n",
       "\t<tr><th scope=col>&lt;chr&gt;</th><th scope=col>&lt;chr&gt;</th><th scope=col>&lt;chr&gt;</th><th scope=col>&lt;chr&gt;</th><th scope=col>&lt;chr&gt;</th><th scope=col>&lt;chr&gt;</th></tr>\n",
       "</thead>\n",
       "<tbody>\n",
       "\t<tr><td>traintest_ind_</td><td>Median (IQR)</td><td>1.0 (1.0-2.0)</td><td>NA</td><td>NA</td><td>0</td></tr>\n",
       "</tbody>\n",
       "</table>\n"
      ],
      "text/latex": [
       "A tibble: 1 × 6\n",
       "\\begin{tabular}{llllll}\n",
       " V1 & V2 & Pop & 1 & 2 & pval\\\\\n",
       " <chr> & <chr> & <chr> & <chr> & <chr> & <chr>\\\\\n",
       "\\hline\n",
       "\t traintest\\_ind\\_ & Median (IQR) & 1.0 (1.0-2.0) & NA & NA & 0\\\\\n",
       "\\end{tabular}\n"
      ],
      "text/markdown": [
       "\n",
       "A tibble: 1 × 6\n",
       "\n",
       "| V1 &lt;chr&gt; | V2 &lt;chr&gt; | Pop &lt;chr&gt; | 1 &lt;chr&gt; | 2 &lt;chr&gt; | pval &lt;chr&gt; |\n",
       "|---|---|---|---|---|---|\n",
       "| traintest_ind_ | Median (IQR) | 1.0 (1.0-2.0) | NA | NA | 0 |\n",
       "\n"
      ],
      "text/plain": [
       "  V1             V2           Pop           1  2  pval\n",
       "1 traintest_ind_ Median (IQR) 1.0 (1.0-2.0) NA NA 0   "
      ]
     },
     "metadata": {},
     "output_type": "display_data"
    }
   ],
   "source": [
    "tab1 %>% filter(pval < 0.05)"
   ]
  },
  {
   "cell_type": "markdown",
   "metadata": {},
   "source": [
    "# MODELS"
   ]
  },
  {
   "cell_type": "code",
   "execution_count": 58,
   "metadata": {},
   "outputs": [],
   "source": [
    "### The error we will use is the RMSE and RMSLE\n",
    "rmse <- function(y,y_hat) {\n",
    "    err <- sqrt(sum((y_hat-y)^2,na.rm=T)/length(y))\n",
    "    return(err)\n",
    "}\n",
    "\n",
    "rmsle <- function(y,y_hat) {\n",
    "    err <- sqrt(sum((log(y_hat+1)-log(y+1))^2,na.rm=T)/length(y))\n",
    "    return(err)\n",
    "}\n"
   ]
  },
  {
   "cell_type": "code",
   "execution_count": 59,
   "metadata": {},
   "outputs": [],
   "source": [
    "### Table of resulting errors\n",
    "### Name, Model, RMSE, RMSLE\n",
    "err_res <- NULL"
   ]
  },
  {
   "cell_type": "markdown",
   "metadata": {},
   "source": [
    "## Linear Models"
   ]
  },
  {
   "cell_type": "code",
   "execution_count": 61,
   "metadata": {},
   "outputs": [
    {
     "data": {
      "text/plain": [
       "\n",
       "Call:\n",
       "lm(formula = cnt ~ ., data = train)\n",
       "\n",
       "Residuals:\n",
       "    Min      1Q  Median      3Q     Max \n",
       "-2351.2  -281.8    49.3   315.1  1643.8 \n",
       "\n",
       "Coefficients: (11 not defined because of singularities)\n",
       "              Estimate Std. Error t value Pr(>|t|)    \n",
       "(Intercept)   1765.418    304.169   5.804 2.17e-08 ***\n",
       "id              -5.444      4.133  -1.317 0.189147    \n",
       "season2        480.129    212.698   2.257 0.024943 *  \n",
       "season3        868.711    252.799   3.436 0.000702 ***\n",
       "season4       1231.007    215.068   5.724 3.29e-08 ***\n",
       "mnth2          390.491    226.880   1.721 0.086595 .  \n",
       "mnth3          663.199    309.957   2.140 0.033455 *  \n",
       "mnth4         1290.897    464.783   2.777 0.005939 ** \n",
       "mnth5         2251.882    568.274   3.963 9.94e-05 ***\n",
       "mnth6         2106.798    690.979   3.049 0.002570 ** \n",
       "mnth7         1347.358    826.740   1.630 0.104553    \n",
       "mnth8         1851.927    927.585   1.997 0.047079 *  \n",
       "mnth9         2199.177   1028.174   2.139 0.033515 *  \n",
       "mnth10        2396.705   1151.136   2.082 0.038465 *  \n",
       "mnth11        2256.498   1269.729   1.777 0.076889 .  \n",
       "mnth12        2311.622   1392.214   1.660 0.098222 .  \n",
       "holiday1       227.425    290.044   0.784 0.433800    \n",
       "weekday1        37.742    145.701   0.259 0.795841    \n",
       "weekday2        99.071    137.390   0.721 0.471600    \n",
       "weekday3        40.572    139.379   0.291 0.771246    \n",
       "weekday4       117.240    136.365   0.860 0.390836    \n",
       "weekday5        72.819    134.964   0.540 0.590041    \n",
       "weekday6        21.999    133.145   0.165 0.868911    \n",
       "workingday2   -342.885     98.178  -3.492 0.000576 ***\n",
       "workingday3  -1506.675    225.946  -6.668 1.96e-10 ***\n",
       "weathersit2         NA         NA      NA       NA    \n",
       "weathersit3         NA         NA      NA       NA    \n",
       "weathersit4         NA         NA      NA       NA    \n",
       "weathersit5         NA         NA      NA       NA    \n",
       "weathersit6         NA         NA      NA       NA    \n",
       "weathersit7         NA         NA      NA       NA    \n",
       "weathersit8         NA         NA      NA       NA    \n",
       "weathersit9         NA         NA      NA       NA    \n",
       "weathersit10        NA         NA      NA       NA    \n",
       "weathersit11        NA         NA      NA       NA    \n",
       "weathersit12        NA         NA      NA       NA    \n",
       "temp          3304.623   2801.179   1.180 0.239350    \n",
       "atemp          -85.538   2990.349  -0.029 0.977205    \n",
       "hum          -1095.564    356.170  -3.076 0.002357 ** \n",
       "windspeed    -1755.689    562.171  -3.123 0.002024 ** \n",
       "---\n",
       "Signif. codes:  0 '***' 0.001 '**' 0.01 '*' 0.05 '.' 0.1 ' ' 1\n",
       "\n",
       "Residual standard error: 569.5 on 226 degrees of freedom\n",
       "Multiple R-squared:  0.8448,\tAdjusted R-squared:  0.8256 \n",
       "F-statistic: 43.94 on 28 and 226 DF,  p-value: < 2.2e-16\n"
      ]
     },
     "metadata": {},
     "output_type": "display_data"
    }
   ],
   "source": [
    "## model with only the original variables\n",
    "mod1 <- lm(cnt ~., data=train)\n",
    "summary(mod1)"
   ]
  },
  {
   "cell_type": "code",
   "execution_count": 62,
   "metadata": {},
   "outputs": [
    {
     "name": "stderr",
     "output_type": "stream",
     "text": [
      "Warning message in predict.lm(mod1, newdata = test):\n",
      "\"prediction from a rank-deficient fit may be misleading\"\n"
     ]
    },
    {
     "data": {
      "text/html": [
       "633.022439629788"
      ],
      "text/latex": [
       "633.022439629788"
      ],
      "text/markdown": [
       "633.022439629788"
      ],
      "text/plain": [
       "[1] 633.0224"
      ]
     },
     "metadata": {},
     "output_type": "display_data"
    },
    {
     "data": {
      "text/html": [
       "0.246767816608799"
      ],
      "text/latex": [
       "0.246767816608799"
      ],
      "text/markdown": [
       "0.246767816608799"
      ],
      "text/plain": [
       "[1] 0.2467678"
      ]
     },
     "metadata": {},
     "output_type": "display_data"
    }
   ],
   "source": [
    "pred1 <- predict(mod1,newdata=test)\n",
    "rmse(test$cnt,pred1)\n",
    "rmsle(test$cnt,pred1)\n",
    "err_res <- rbind(err_res, data.frame(Name=\"Base Linear regression\", Model=\"mod1\", \n",
    "                                     RMSE=rmse(test$cnt,pred1), \n",
    "                                     RMSLE=rmsle(test$cnt,pred1)))"
   ]
  },
  {
   "cell_type": "code",
   "execution_count": 63,
   "metadata": {},
   "outputs": [
    {
     "data": {
      "text/plain": [
       "\n",
       "Call:\n",
       "lm(formula = cnt ~ ., data = train)\n",
       "\n",
       "Residuals:\n",
       "    Min      1Q  Median      3Q     Max \n",
       "-2351.2  -281.8    49.3   315.1  1643.8 \n",
       "\n",
       "Coefficients: (11 not defined because of singularities)\n",
       "              Estimate Std. Error t value Pr(>|t|)    \n",
       "(Intercept)   1765.418    304.169   5.804 2.17e-08 ***\n",
       "id              -5.444      4.133  -1.317 0.189147    \n",
       "season2        480.129    212.698   2.257 0.024943 *  \n",
       "season3        868.711    252.799   3.436 0.000702 ***\n",
       "season4       1231.007    215.068   5.724 3.29e-08 ***\n",
       "mnth2          390.491    226.880   1.721 0.086595 .  \n",
       "mnth3          663.199    309.957   2.140 0.033455 *  \n",
       "mnth4         1290.897    464.783   2.777 0.005939 ** \n",
       "mnth5         2251.882    568.274   3.963 9.94e-05 ***\n",
       "mnth6         2106.798    690.979   3.049 0.002570 ** \n",
       "mnth7         1347.358    826.740   1.630 0.104553    \n",
       "mnth8         1851.927    927.585   1.997 0.047079 *  \n",
       "mnth9         2199.177   1028.174   2.139 0.033515 *  \n",
       "mnth10        2396.705   1151.136   2.082 0.038465 *  \n",
       "mnth11        2256.498   1269.729   1.777 0.076889 .  \n",
       "mnth12        2311.622   1392.214   1.660 0.098222 .  \n",
       "holiday1       227.425    290.044   0.784 0.433800    \n",
       "weekday1        37.742    145.701   0.259 0.795841    \n",
       "weekday2        99.071    137.390   0.721 0.471600    \n",
       "weekday3        40.572    139.379   0.291 0.771246    \n",
       "weekday4       117.240    136.365   0.860 0.390836    \n",
       "weekday5        72.819    134.964   0.540 0.590041    \n",
       "weekday6        21.999    133.145   0.165 0.868911    \n",
       "workingday2   -342.885     98.178  -3.492 0.000576 ***\n",
       "workingday3  -1506.675    225.946  -6.668 1.96e-10 ***\n",
       "weathersit2         NA         NA      NA       NA    \n",
       "weathersit3         NA         NA      NA       NA    \n",
       "weathersit4         NA         NA      NA       NA    \n",
       "weathersit5         NA         NA      NA       NA    \n",
       "weathersit6         NA         NA      NA       NA    \n",
       "weathersit7         NA         NA      NA       NA    \n",
       "weathersit8         NA         NA      NA       NA    \n",
       "weathersit9         NA         NA      NA       NA    \n",
       "weathersit10        NA         NA      NA       NA    \n",
       "weathersit11        NA         NA      NA       NA    \n",
       "weathersit12        NA         NA      NA       NA    \n",
       "temp          3304.623   2801.179   1.180 0.239350    \n",
       "atemp          -85.538   2990.349  -0.029 0.977205    \n",
       "hum          -1095.564    356.170  -3.076 0.002357 ** \n",
       "windspeed    -1755.689    562.171  -3.123 0.002024 ** \n",
       "---\n",
       "Signif. codes:  0 '***' 0.001 '**' 0.01 '*' 0.05 '.' 0.1 ' ' 1\n",
       "\n",
       "Residual standard error: 569.5 on 226 degrees of freedom\n",
       "Multiple R-squared:  0.8448,\tAdjusted R-squared:  0.8256 \n",
       "F-statistic: 43.94 on 28 and 226 DF,  p-value: < 2.2e-16\n"
      ]
     },
     "metadata": {},
     "output_type": "display_data"
    }
   ],
   "source": [
    "## model with all the variables\n",
    "mod2 <- lm(cnt ~., data=train)\n",
    "summary(mod2)"
   ]
  },
  {
   "cell_type": "code",
   "execution_count": 64,
   "metadata": {},
   "outputs": [
    {
     "name": "stderr",
     "output_type": "stream",
     "text": [
      "Warning message in predict.lm(mod2, newdata = test):\n",
      "\"prediction from a rank-deficient fit may be misleading\"\n"
     ]
    },
    {
     "data": {
      "text/html": [
       "633.022439629788"
      ],
      "text/latex": [
       "633.022439629788"
      ],
      "text/markdown": [
       "633.022439629788"
      ],
      "text/plain": [
       "[1] 633.0224"
      ]
     },
     "metadata": {},
     "output_type": "display_data"
    },
    {
     "data": {
      "text/html": [
       "0.246767816608799"
      ],
      "text/latex": [
       "0.246767816608799"
      ],
      "text/markdown": [
       "0.246767816608799"
      ],
      "text/plain": [
       "[1] 0.2467678"
      ]
     },
     "metadata": {},
     "output_type": "display_data"
    }
   ],
   "source": [
    "pred2 <- predict(mod2,newdata=test)\n",
    "rmse(test$cnt,pred2)\n",
    "rmsle(test$cnt,pred2)\n",
    "err_res <- rbind(err_res, data.frame(Name=\"Extended Linear regression\", Model=\"mod2\", \n",
    "                                     RMSE=rmse(test$cnt,pred2), \n",
    "                                     RMSLE=rmsle(test$cnt,pred2)))"
   ]
  },
  {
   "cell_type": "markdown",
   "metadata": {},
   "source": [
    "## Desicion trees"
   ]
  },
  {
   "cell_type": "code",
   "execution_count": 65,
   "metadata": {},
   "outputs": [],
   "source": [
    "library(tree)\n",
    "library(rpart)"
   ]
  },
  {
   "cell_type": "code",
   "execution_count": 66,
   "metadata": {},
   "outputs": [
    {
     "data": {
      "text/plain": [
       "node), split, n, deviance, yval\n",
       "      * denotes terminal node\n",
       "\n",
       " 1) root 255 472200000 3444  \n",
       "   2) id < 103.5 72  29950000 1794  \n",
       "     4) id < 44.5 28   4019000 1264 *\n",
       "     5) id > 44.5 44  13030000 2132  \n",
       "      10) atemp < 0.42201 37   6977000 1987 *\n",
       "      11) atemp > 0.42201 7   1163000 2898 *\n",
       "   3) id > 103.5 183 169400000 4092  \n",
       "     6) temp < 0.470834 56  40020000 3251  \n",
       "      12) id < 356.5 49  18920000 3464 *\n",
       "      13) id > 356.5 7   3391000 1764 *\n",
       "     7) temp > 0.470834 127  72340000 4463  \n",
       "      14) hum < 0.849375 115  32820000 4603  \n",
       "        28) atemp < 0.714015 103  25500000 4679 *\n",
       "        29) atemp > 0.714015 12   1704000 3956 *\n",
       "      15) hum > 0.849375 12  15640000 3121 *"
      ]
     },
     "metadata": {},
     "output_type": "display_data"
    }
   ],
   "source": [
    "mod3 <- tree(cnt ~., data=train)\n",
    "mod3"
   ]
  },
  {
   "cell_type": "code",
   "execution_count": 67,
   "metadata": {},
   "outputs": [
    {
     "data": {
      "text/html": [
       "783.253859204718"
      ],
      "text/latex": [
       "783.253859204718"
      ],
      "text/markdown": [
       "783.253859204718"
      ],
      "text/plain": [
       "[1] 783.2539"
      ]
     },
     "metadata": {},
     "output_type": "display_data"
    },
    {
     "data": {
      "text/html": [
       "0.354204005789637"
      ],
      "text/latex": [
       "0.354204005789637"
      ],
      "text/markdown": [
       "0.354204005789637"
      ],
      "text/plain": [
       "[1] 0.354204"
      ]
     },
     "metadata": {},
     "output_type": "display_data"
    }
   ],
   "source": [
    "pred3 <- predict(mod3,newdata=test)\n",
    "rmse(test$cnt,pred3)\n",
    "rmsle(test$cnt,pred3)\n",
    "err_res <- rbind(err_res, data.frame(Name=\"Decision Trees-tree\", Model=\"mod3\", \n",
    "                                     RMSE=rmse(test$cnt,pred3), \n",
    "                                     RMSLE=rmsle(test$cnt,pred3)))"
   ]
  },
  {
   "cell_type": "code",
   "execution_count": 69,
   "metadata": {},
   "outputs": [
    {
     "data": {
      "text/plain": [
       "n= 255 \n",
       "\n",
       "node), split, n, deviance, yval\n",
       "      * denotes terminal node\n",
       "\n",
       " 1) root 255 472245600 3443.518  \n",
       "   2) id< 103.5 72  29945000 1794.347  \n",
       "     4) id< 44.5 28   4019411 1263.750 *\n",
       "     5) id>=44.5 44  13026240 2132.000  \n",
       "      10) atemp< 0.42201 37   6976874 1987.054 *\n",
       "      11) atemp>=0.42201 7   1163201 2898.143 *\n",
       "   3) id>=103.5 183 169432600 4092.372  \n",
       "     6) temp< 0.4708335 56  40016160 3251.321  \n",
       "      12) id>=356.5 7   3391103 1763.714 *\n",
       "      13) id< 356.5 49  18921250 3463.837 *\n",
       "     7) temp>=0.4708335 127  72337040 4463.228  \n",
       "      14) hum>=0.849375 12  15644150 3121.167 *\n",
       "      15) hum< 0.849375 115  32824010 4603.270  \n",
       "        30) atemp>=0.7140145 12   1704387 3955.667 *\n",
       "        31) atemp< 0.7140145 103  25500620 4678.718 *"
      ]
     },
     "metadata": {},
     "output_type": "display_data"
    }
   ],
   "source": [
    "mod4 <- rpart(cnt ~., data=train)\n",
    "mod4"
   ]
  },
  {
   "cell_type": "code",
   "execution_count": 70,
   "metadata": {},
   "outputs": [
    {
     "data": {
      "text/html": [
       "783.253859204718"
      ],
      "text/latex": [
       "783.253859204718"
      ],
      "text/markdown": [
       "783.253859204718"
      ],
      "text/plain": [
       "[1] 783.2539"
      ]
     },
     "metadata": {},
     "output_type": "display_data"
    },
    {
     "data": {
      "text/html": [
       "0.354204005789637"
      ],
      "text/latex": [
       "0.354204005789637"
      ],
      "text/markdown": [
       "0.354204005789637"
      ],
      "text/plain": [
       "[1] 0.354204"
      ]
     },
     "metadata": {},
     "output_type": "display_data"
    }
   ],
   "source": [
    "pred4 <- predict(mod4,newdata=test)\n",
    "rmse(test$cnt,pred4)\n",
    "rmsle(test$cnt,pred4)\n",
    "err_res <- rbind(err_res, data.frame(Name=\"Decision Trees-rpart\", Model=\"mod4\", \n",
    "                                     RMSE=rmse(test$cnt,pred4), \n",
    "                                     RMSLE=rmsle(test$cnt,pred4)))"
   ]
  },
  {
   "cell_type": "markdown",
   "metadata": {},
   "source": [
    "## Random Forest"
   ]
  },
  {
   "cell_type": "code",
   "execution_count": 71,
   "metadata": {},
   "outputs": [],
   "source": [
    "library(randomForest)\n",
    "library(ranger)"
   ]
  },
  {
   "cell_type": "code",
   "execution_count": 72,
   "metadata": {},
   "outputs": [
    {
     "data": {
      "text/plain": [
       "\n",
       "Call:\n",
       " randomForest(formula = cnt ~ ., data = train) \n",
       "               Type of random forest: regression\n",
       "                     Number of trees: 500\n",
       "No. of variables tried at each split: 3\n",
       "\n",
       "          Mean of squared residuals: 282277.2\n",
       "                    % Var explained: 84.76"
      ]
     },
     "metadata": {},
     "output_type": "display_data"
    }
   ],
   "source": [
    "mod5 <- randomForest(cnt ~., data=train)\n",
    "mod5"
   ]
  },
  {
   "cell_type": "code",
   "execution_count": 73,
   "metadata": {},
   "outputs": [
    {
     "data": {
      "text/html": [
       "609.41640357518"
      ],
      "text/latex": [
       "609.41640357518"
      ],
      "text/markdown": [
       "609.41640357518"
      ],
      "text/plain": [
       "[1] 609.4164"
      ]
     },
     "metadata": {},
     "output_type": "display_data"
    },
    {
     "data": {
      "text/html": [
       "0.306469320060846"
      ],
      "text/latex": [
       "0.306469320060846"
      ],
      "text/markdown": [
       "0.306469320060846"
      ],
      "text/plain": [
       "[1] 0.3064693"
      ]
     },
     "metadata": {},
     "output_type": "display_data"
    }
   ],
   "source": [
    "pred5 <- predict(mod5,newdata=test)\n",
    "rmse(test$cnt,pred5)\n",
    "rmsle(test$cnt,pred5)"
   ]
  },
  {
   "cell_type": "code",
   "execution_count": 74,
   "metadata": {},
   "outputs": [
    {
     "data": {
      "text/plain": [
       "Ranger result\n",
       "\n",
       "Call:\n",
       " ranger(cnt ~ ., data = train) \n",
       "\n",
       "Type:                             Regression \n",
       "Number of trees:                  500 \n",
       "Sample size:                      255 \n",
       "Number of independent variables:  11 \n",
       "Mtry:                             3 \n",
       "Target node size:                 5 \n",
       "Variable importance mode:         none \n",
       "Splitrule:                        variance \n",
       "OOB prediction error (MSE):       261491.6 \n",
       "R squared (OOB):                  0.8593552 "
      ]
     },
     "metadata": {},
     "output_type": "display_data"
    }
   ],
   "source": [
    "mod6 <- ranger(cnt ~., data=train)\n",
    "mod6"
   ]
  },
  {
   "cell_type": "code",
   "execution_count": 75,
   "metadata": {},
   "outputs": [
    {
     "data": {
      "text/html": [
       "591.996874536222"
      ],
      "text/latex": [
       "591.996874536222"
      ],
      "text/markdown": [
       "591.996874536222"
      ],
      "text/plain": [
       "[1] 591.9969"
      ]
     },
     "metadata": {},
     "output_type": "display_data"
    },
    {
     "data": {
      "text/html": [
       "0.299481600511287"
      ],
      "text/latex": [
       "0.299481600511287"
      ],
      "text/markdown": [
       "0.299481600511287"
      ],
      "text/plain": [
       "[1] 0.2994816"
      ]
     },
     "metadata": {},
     "output_type": "display_data"
    }
   ],
   "source": [
    "pred6 <- predict(mod6,data=test)\n",
    "#head(pred6)\n",
    "rmse(test$cnt,pred6$predictions)\n",
    "rmsle(test$cnt,pred6$predictions)\n",
    "err_res <- rbind(err_res, data.frame(Name=\"RandomForest (ranger)\", Model=\"mod6\", \n",
    "                                     RMSE=rmse(test$cnt,pred6$predictions), \n",
    "                                     RMSLE=rmsle(test$cnt,pred6$predictions)))"
   ]
  },
  {
   "cell_type": "markdown",
   "metadata": {},
   "source": [
    "## XGBoost"
   ]
  },
  {
   "cell_type": "code",
   "execution_count": 81,
   "metadata": {},
   "outputs": [
    {
     "name": "stderr",
     "output_type": "stream",
     "text": [
      "Installing package into 'C:/Users/beina/Documents/R/win-library/4.0'\n",
      "(as 'lib' is unspecified)\n",
      "\n"
     ]
    },
    {
     "name": "stdout",
     "output_type": "stream",
     "text": [
      "package 'xgboost' successfully unpacked and MD5 sums checked\n",
      "\n",
      "The downloaded binary packages are in\n",
      "\tC:\\Users\\beina\\AppData\\Local\\Temp\\Rtmpy2riK6\\downloaded_packages\n"
     ]
    }
   ],
   "source": [
    "install.packages(\"xgboost\")"
   ]
  },
  {
   "cell_type": "code",
   "execution_count": 82,
   "metadata": {},
   "outputs": [
    {
     "name": "stderr",
     "output_type": "stream",
     "text": [
      "Warning message:\n",
      "\"package 'xgboost' was built under R version 4.0.3\"\n",
      "\n",
      "Attaching package: 'xgboost'\n",
      "\n",
      "\n",
      "The following object is masked from 'package:dplyr':\n",
      "\n",
      "    slice\n",
      "\n",
      "\n"
     ]
    }
   ],
   "source": [
    "library(xgboost)"
   ]
  },
  {
   "cell_type": "code",
   "execution_count": 86,
   "metadata": {},
   "outputs": [],
   "source": [
    "train_num <- train"
   ]
  },
  {
   "cell_type": "code",
   "execution_count": 87,
   "metadata": {},
   "outputs": [],
   "source": [
    "test_num <- test"
   ]
  },
  {
   "cell_type": "code",
   "execution_count": 88,
   "metadata": {},
   "outputs": [],
   "source": [
    "train_num$season <- as.numeric(train_num$season)\n",
    "train_num$mnth <- as.numeric(train_num$mnth)\n",
    "train_num$holiday <- as.numeric(train_num$holiday)\n",
    "train_num$weekday <- as.numeric(train_num$weekday)\n",
    "train_num$workingday <- as.numeric(train_num$weathersit)\n",
    "train_num$weathersit <- as.numeric(train_num$mnth)"
   ]
  },
  {
   "cell_type": "code",
   "execution_count": 89,
   "metadata": {},
   "outputs": [],
   "source": [
    "test_num$season <- as.numeric(test_num$season)\n",
    "test_num$mnth <- as.numeric(test_num$mnth)\n",
    "test_num$holiday <- as.numeric(test_num$holiday)\n",
    "test_num$weekday <- as.numeric(test_num$weekday)\n",
    "test_num$workingday <- as.numeric(test_num$weathersit)\n",
    "test_num$weathersit <- as.numeric(test_num$mnth)"
   ]
  },
  {
   "cell_type": "code",
   "execution_count": 90,
   "metadata": {},
   "outputs": [
    {
     "data": {
      "text/plain": [
       "       id            season           mnth           holiday     \n",
       " Min.   :  6.0   Min.   :1.000   Min.   : 1.000   Min.   :1.000  \n",
       " 1st Qu.: 88.0   1st Qu.:1.250   1st Qu.: 3.250   1st Qu.:1.000  \n",
       " Median :184.5   Median :3.000   Median : 7.000   Median :1.000  \n",
       " Mean   :181.4   Mean   :2.518   Mean   : 6.482   Mean   :1.045  \n",
       " 3rd Qu.:277.0   3rd Qu.:3.750   3rd Qu.:10.000   3rd Qu.:1.000  \n",
       " Max.   :364.0   Max.   :4.000   Max.   :12.000   Max.   :2.000  \n",
       "    weekday        workingday       weathersit          temp        \n",
       " Min.   :1.000   Min.   : 1.000   Min.   : 1.000   Min.   :0.05913  \n",
       " 1st Qu.:2.000   1st Qu.: 3.250   1st Qu.: 3.250   1st Qu.:0.33354  \n",
       " Median :4.000   Median : 7.000   Median : 7.000   Median :0.47250  \n",
       " Mean   :3.855   Mean   : 6.482   Mean   : 6.482   Mean   :0.47943  \n",
       " 3rd Qu.:5.750   3rd Qu.:10.000   3rd Qu.:10.000   3rd Qu.:0.65354  \n",
       " Max.   :7.000   Max.   :12.000   Max.   :12.000   Max.   :0.83833  \n",
       "     atemp              hum           windspeed            cnt      \n",
       " Min.   :0.07907   Min.   :0.3758   Min.   :0.04541   Min.   : 605  \n",
       " 1st Qu.:0.32757   1st Qu.:0.5380   1st Qu.:0.13495   1st Qu.:1916  \n",
       " Median :0.46527   Median :0.6458   Median :0.18357   Median :3578  \n",
       " Mean   :0.46129   Mean   :0.6511   Mean   :0.19374   Mean   :3318  \n",
       " 3rd Qu.:0.60414   3rd Qu.:0.7472   3rd Qu.:0.23991   3rd Qu.:4546  \n",
       " Max.   :0.78597   Max.   :0.9704   Max.   :0.41791   Max.   :5923  "
      ]
     },
     "metadata": {},
     "output_type": "display_data"
    }
   ],
   "source": [
    "summary(test_num)"
   ]
  },
  {
   "cell_type": "code",
   "execution_count": 91,
   "metadata": {},
   "outputs": [
    {
     "data": {
      "text/plain": [
       "       id            season          mnth           holiday        weekday     \n",
       " Min.   :  1.0   Min.   :1.00   Min.   : 1.000   Min.   :1.00   Min.   :1.000  \n",
       " 1st Qu.: 92.5   1st Qu.:2.00   1st Qu.: 4.000   1st Qu.:1.00   1st Qu.:2.000  \n",
       " Median :181.0   Median :2.00   Median : 6.000   Median :1.00   Median :4.000  \n",
       " Mean   :183.7   Mean   :2.49   Mean   : 6.545   Mean   :1.02   Mean   :4.075  \n",
       " 3rd Qu.:272.5   3rd Qu.:3.00   3rd Qu.: 9.000   3rd Qu.:1.00   3rd Qu.:6.000  \n",
       " Max.   :365.0   Max.   :4.00   Max.   :12.000   Max.   :2.00   Max.   :7.000  \n",
       "   workingday       weathersit          temp            atemp       \n",
       " Min.   : 1.000   Min.   : 1.000   Min.   :0.1348   Min.   :0.1162  \n",
       " 1st Qu.: 4.000   1st Qu.: 4.000   1st Qu.:0.3183   1st Qu.:0.3207  \n",
       " Median : 6.000   Median : 6.000   Median :0.4842   Median :0.4729  \n",
       " Mean   : 6.545   Mean   : 6.545   Mean   :0.4898   Mean   :0.4692  \n",
       " 3rd Qu.: 9.000   3rd Qu.: 9.000   3rd Qu.:0.6583   3rd Qu.:0.6140  \n",
       " Max.   :12.000   Max.   :12.000   Max.   :0.8492   Max.   :0.8409  \n",
       "      hum           windspeed            cnt      \n",
       " Min.   :0.0000   Min.   :0.02239   Min.   : 431  \n",
       " 1st Qu.:0.5406   1st Qu.:0.13749   1st Qu.:2186  \n",
       " Median :0.6475   Median :0.18843   Median :3750  \n",
       " Mean   :0.6404   Mean   :0.19039   Mean   :3444  \n",
       " 3rd Qu.:0.7383   3rd Qu.:0.23310   3rd Qu.:4591  \n",
       " Max.   :0.9725   Max.   :0.50746   Max.   :6043  "
      ]
     },
     "metadata": {},
     "output_type": "display_data"
    }
   ],
   "source": [
    "summary(train_num)"
   ]
  },
  {
   "cell_type": "code",
   "execution_count": 92,
   "metadata": {},
   "outputs": [],
   "source": [
    "train1 <- Matrix::sparse.model.matrix(cnt ~ .-1, data = train_num)"
   ]
  },
  {
   "cell_type": "code",
   "execution_count": 93,
   "metadata": {},
   "outputs": [],
   "source": [
    "test1 <- Matrix::sparse.model.matrix(cnt ~ .-1, data = test_num)"
   ]
  },
  {
   "cell_type": "code",
   "execution_count": 94,
   "metadata": {},
   "outputs": [
    {
     "name": "stdout",
     "output_type": "stream",
     "text": [
      "[1]\ttrain-rmse:2636.841553 \n",
      "[11]\ttrain-rmse:191.899155 \n",
      "[21]\ttrain-rmse:73.417366 \n",
      "[31]\ttrain-rmse:40.310646 \n",
      "[41]\ttrain-rmse:24.533768 \n",
      "[51]\ttrain-rmse:16.350134 \n",
      "[61]\ttrain-rmse:10.155663 \n",
      "[71]\ttrain-rmse:6.108057 \n",
      "[81]\ttrain-rmse:3.764807 \n",
      "[91]\ttrain-rmse:1.993171 \n",
      "[100]\ttrain-rmse:1.308602 \n"
     ]
    }
   ],
   "source": [
    "#X_train <- xgb.DMatrix(train1)\n",
    "X_train <- train1\n",
    "y_train <- train$cnt\n",
    "mod7 <- xgboost(data=X_train,label=y_train, nrounds=100,print_every_n = 10)"
   ]
  },
  {
   "cell_type": "code",
   "execution_count": 95,
   "metadata": {},
   "outputs": [
    {
     "data": {
      "text/html": [
       "591.958241205142"
      ],
      "text/latex": [
       "591.958241205142"
      ],
      "text/markdown": [
       "591.958241205142"
      ],
      "text/plain": [
       "[1] 591.9582"
      ]
     },
     "metadata": {},
     "output_type": "display_data"
    },
    {
     "data": {
      "text/html": [
       "0.286850049645409"
      ],
      "text/latex": [
       "0.286850049645409"
      ],
      "text/markdown": [
       "0.286850049645409"
      ],
      "text/plain": [
       "[1] 0.28685"
      ]
     },
     "metadata": {},
     "output_type": "display_data"
    }
   ],
   "source": [
    "#X_test <- xgb.DMatrix(test1)\n",
    "X_test <- test1\n",
    "y_test <- test$cnt\n",
    "\n",
    "pred7 <- predict(mod7,newdata=X_test)\n",
    "rmse(y_test,pred7)\n",
    "rmsle(y_test,pred7)\n",
    "err_res <- rbind(err_res, data.frame(Name=\"XGBoost\", Model=\"mod7\", \n",
    "                                     RMSE=rmse(test_num$cnt,pred7), \n",
    "                                     RMSLE=rmsle(test_num$cnt,pred7)))"
   ]
  },
  {
   "cell_type": "markdown",
   "metadata": {},
   "source": [
    "## kNN "
   ]
  },
  {
   "cell_type": "code",
   "execution_count": 96,
   "metadata": {},
   "outputs": [],
   "source": [
    "### adaboost needs that values to be normalized\n",
    "min_max <- function(x) { (x -min(x))/(max(x)-min(x))   }"
   ]
  },
  {
   "cell_type": "code",
   "execution_count": 97,
   "metadata": {},
   "outputs": [],
   "source": [
    "X_train <- sapply(data.frame(as.matrix(train1)),min_max)"
   ]
  },
  {
   "cell_type": "code",
   "execution_count": 98,
   "metadata": {},
   "outputs": [],
   "source": [
    "X_test <- sapply(data.frame(as.matrix(test1)),min_max)"
   ]
  },
  {
   "cell_type": "code",
   "execution_count": 99,
   "metadata": {},
   "outputs": [
    {
     "data": {
      "text/plain": [
       "       id             season            mnth           holiday       \n",
       " Min.   :0.0000   Min.   :0.0000   Min.   :0.0000   Min.   :0.00000  \n",
       " 1st Qu.:0.2514   1st Qu.:0.3333   1st Qu.:0.2727   1st Qu.:0.00000  \n",
       " Median :0.4945   Median :0.3333   Median :0.4545   Median :0.00000  \n",
       " Mean   :0.5018   Mean   :0.4967   Mean   :0.5041   Mean   :0.01961  \n",
       " 3rd Qu.:0.7459   3rd Qu.:0.6667   3rd Qu.:0.7273   3rd Qu.:0.00000  \n",
       " Max.   :1.0000   Max.   :1.0000   Max.   :1.0000   Max.   :1.00000  \n",
       "    weekday         workingday       weathersit          temp       \n",
       " Min.   :0.0000   Min.   :0.0000   Min.   :0.0000   Min.   :0.0000  \n",
       " 1st Qu.:0.1667   1st Qu.:0.2727   1st Qu.:0.2727   1st Qu.:0.2569  \n",
       " Median :0.5000   Median :0.4545   Median :0.4545   Median :0.4891  \n",
       " Mean   :0.5124   Mean   :0.5041   Mean   :0.5041   Mean   :0.4969  \n",
       " 3rd Qu.:0.8333   3rd Qu.:0.7273   3rd Qu.:0.7273   3rd Qu.:0.7329  \n",
       " Max.   :1.0000   Max.   :1.0000   Max.   :1.0000   Max.   :1.0000  \n",
       "     atemp             hum           windspeed     \n",
       " Min.   :0.0000   Min.   :0.0000   Min.   :0.0000  \n",
       " 1st Qu.:0.2822   1st Qu.:0.5559   1st Qu.:0.2373  \n",
       " Median :0.4922   Median :0.6658   Median :0.3423  \n",
       " Mean   :0.4872   Mean   :0.6586   Mean   :0.3463  \n",
       " 3rd Qu.:0.6869   3rd Qu.:0.7592   3rd Qu.:0.4344  \n",
       " Max.   :1.0000   Max.   :1.0000   Max.   :1.0000  "
      ]
     },
     "metadata": {},
     "output_type": "display_data"
    }
   ],
   "source": [
    "summary(X_train)"
   ]
  },
  {
   "cell_type": "code",
   "execution_count": 100,
   "metadata": {},
   "outputs": [],
   "source": [
    "library(class)\n",
    "mod8 <- knn(X_train,X_test,cl=train$cnt)"
   ]
  },
  {
   "cell_type": "code",
   "execution_count": 101,
   "metadata": {},
   "outputs": [
    {
     "name": "stdout",
     "output_type": "stream",
     "text": [
      " Factor w/ 247 levels \"431\",\"506\",\"623\",..: 48 20 52 21 26 41 33 26 7 20 ...\n"
     ]
    }
   ],
   "source": [
    "str(mod8)"
   ]
  },
  {
   "cell_type": "code",
   "execution_count": 102,
   "metadata": {},
   "outputs": [
    {
     "data": {
      "text/html": [
       "1084.09465789327"
      ],
      "text/latex": [
       "1084.09465789327"
      ],
      "text/markdown": [
       "1084.09465789327"
      ],
      "text/plain": [
       "[1] 1084.095"
      ]
     },
     "metadata": {},
     "output_type": "display_data"
    },
    {
     "data": {
      "text/html": [
       "0.465113684529163"
      ],
      "text/latex": [
       "0.465113684529163"
      ],
      "text/markdown": [
       "0.465113684529163"
      ],
      "text/plain": [
       "[1] 0.4651137"
      ]
     },
     "metadata": {},
     "output_type": "display_data"
    }
   ],
   "source": [
    "pred8 <- as.numeric(as.character(mod8))\n",
    "\n",
    "rmse(test$cnt,pred8)\n",
    "rmsle(test$cnt,pred8)\n",
    "err_res <- rbind(err_res, data.frame(Name=\"kNN\", Model=\"mod8\", \n",
    "                                     RMSE=rmse(test$cnt,pred8), \n",
    "                                     RMSLE=rmsle(test$cnt,pred8)))"
   ]
  },
  {
   "cell_type": "markdown",
   "metadata": {},
   "source": [
    "## SVM"
   ]
  },
  {
   "cell_type": "code",
   "execution_count": 103,
   "metadata": {},
   "outputs": [
    {
     "name": "stderr",
     "output_type": "stream",
     "text": [
      "Installing package into 'C:/Users/beina/Documents/R/win-library/4.0'\n",
      "(as 'lib' is unspecified)\n",
      "\n"
     ]
    },
    {
     "name": "stdout",
     "output_type": "stream",
     "text": [
      "package 'liquidSVM' successfully unpacked and MD5 sums checked\n",
      "\n",
      "The downloaded binary packages are in\n",
      "\tC:\\Users\\beina\\AppData\\Local\\Temp\\Rtmpy2riK6\\downloaded_packages\n"
     ]
    },
    {
     "name": "stderr",
     "output_type": "stream",
     "text": [
      "Warning message:\n",
      "\"package 'liquidSVM' was built under R version 4.0.3\"\n"
     ]
    }
   ],
   "source": [
    "install.packages(\"liquidSVM\")\n",
    "library(liquidSVM)"
   ]
  },
  {
   "cell_type": "code",
   "execution_count": 105,
   "metadata": {},
   "outputs": [],
   "source": [
    "mod9 <- svm(cnt ~., train)"
   ]
  },
  {
   "cell_type": "code",
   "execution_count": 106,
   "metadata": {},
   "outputs": [
    {
     "data": {
      "text/html": [
       "552.239854470205"
      ],
      "text/latex": [
       "552.239854470205"
      ],
      "text/markdown": [
       "552.239854470205"
      ],
      "text/plain": [
       "[1] 552.2399"
      ]
     },
     "metadata": {},
     "output_type": "display_data"
    },
    {
     "data": {
      "text/html": [
       "0.266002745683834"
      ],
      "text/latex": [
       "0.266002745683834"
      ],
      "text/markdown": [
       "0.266002745683834"
      ],
      "text/plain": [
       "[1] 0.2660027"
      ]
     },
     "metadata": {},
     "output_type": "display_data"
    }
   ],
   "source": [
    "pred9 <- predict(mod9, newdata=test)\n",
    "\n",
    "rmse(test$cnt,pred9)\n",
    "rmsle(test$cnt,pred9)\n",
    "err_res <- rbind(err_res, data.frame(Name=\"SVM\", Model=\"mod9\", \n",
    "                                     RMSE=rmse(test$cnt,pred9), \n",
    "                                     RMSLE=rmsle(test$cnt,pred9)))"
   ]
  },
  {
   "cell_type": "code",
   "execution_count": 107,
   "metadata": {},
   "outputs": [
    {
     "data": {
      "text/html": [
       "<table>\n",
       "<caption>A data.frame: 8 × 4</caption>\n",
       "<thead>\n",
       "\t<tr><th scope=col>Name</th><th scope=col>Model</th><th scope=col>RMSE</th><th scope=col>RMSLE</th></tr>\n",
       "\t<tr><th scope=col>&lt;chr&gt;</th><th scope=col>&lt;chr&gt;</th><th scope=col>&lt;dbl&gt;</th><th scope=col>&lt;dbl&gt;</th></tr>\n",
       "</thead>\n",
       "<tbody>\n",
       "\t<tr><td>Base Linear regression    </td><td>mod1</td><td> 633.0224</td><td>0.2467678</td></tr>\n",
       "\t<tr><td>Extended Linear regression</td><td>mod2</td><td> 633.0224</td><td>0.2467678</td></tr>\n",
       "\t<tr><td>SVM                       </td><td>mod9</td><td> 552.2399</td><td>0.2660027</td></tr>\n",
       "\t<tr><td>XGBoost                   </td><td>mod7</td><td> 591.9582</td><td>0.2868500</td></tr>\n",
       "\t<tr><td>RandomForest (ranger)     </td><td>mod6</td><td> 591.9969</td><td>0.2994816</td></tr>\n",
       "\t<tr><td>Decision Trees-tree       </td><td>mod3</td><td> 783.2539</td><td>0.3542040</td></tr>\n",
       "\t<tr><td>Decision Trees-rpart      </td><td>mod4</td><td> 783.2539</td><td>0.3542040</td></tr>\n",
       "\t<tr><td>kNN                       </td><td>mod8</td><td>1084.0947</td><td>0.4651137</td></tr>\n",
       "</tbody>\n",
       "</table>\n"
      ],
      "text/latex": [
       "A data.frame: 8 × 4\n",
       "\\begin{tabular}{llll}\n",
       " Name & Model & RMSE & RMSLE\\\\\n",
       " <chr> & <chr> & <dbl> & <dbl>\\\\\n",
       "\\hline\n",
       "\t Base Linear regression     & mod1 &  633.0224 & 0.2467678\\\\\n",
       "\t Extended Linear regression & mod2 &  633.0224 & 0.2467678\\\\\n",
       "\t SVM                        & mod9 &  552.2399 & 0.2660027\\\\\n",
       "\t XGBoost                    & mod7 &  591.9582 & 0.2868500\\\\\n",
       "\t RandomForest (ranger)      & mod6 &  591.9969 & 0.2994816\\\\\n",
       "\t Decision Trees-tree        & mod3 &  783.2539 & 0.3542040\\\\\n",
       "\t Decision Trees-rpart       & mod4 &  783.2539 & 0.3542040\\\\\n",
       "\t kNN                        & mod8 & 1084.0947 & 0.4651137\\\\\n",
       "\\end{tabular}\n"
      ],
      "text/markdown": [
       "\n",
       "A data.frame: 8 × 4\n",
       "\n",
       "| Name &lt;chr&gt; | Model &lt;chr&gt; | RMSE &lt;dbl&gt; | RMSLE &lt;dbl&gt; |\n",
       "|---|---|---|---|\n",
       "| Base Linear regression     | mod1 |  633.0224 | 0.2467678 |\n",
       "| Extended Linear regression | mod2 |  633.0224 | 0.2467678 |\n",
       "| SVM                        | mod9 |  552.2399 | 0.2660027 |\n",
       "| XGBoost                    | mod7 |  591.9582 | 0.2868500 |\n",
       "| RandomForest (ranger)      | mod6 |  591.9969 | 0.2994816 |\n",
       "| Decision Trees-tree        | mod3 |  783.2539 | 0.3542040 |\n",
       "| Decision Trees-rpart       | mod4 |  783.2539 | 0.3542040 |\n",
       "| kNN                        | mod8 | 1084.0947 | 0.4651137 |\n",
       "\n"
      ],
      "text/plain": [
       "  Name                       Model RMSE      RMSLE    \n",
       "1 Base Linear regression     mod1   633.0224 0.2467678\n",
       "2 Extended Linear regression mod2   633.0224 0.2467678\n",
       "3 SVM                        mod9   552.2399 0.2660027\n",
       "4 XGBoost                    mod7   591.9582 0.2868500\n",
       "5 RandomForest (ranger)      mod6   591.9969 0.2994816\n",
       "6 Decision Trees-tree        mod3   783.2539 0.3542040\n",
       "7 Decision Trees-rpart       mod4   783.2539 0.3542040\n",
       "8 kNN                        mod8  1084.0947 0.4651137"
      ]
     },
     "metadata": {},
     "output_type": "display_data"
    }
   ],
   "source": [
    "err_res %>% arrange(RMSLE)"
   ]
  },
  {
   "cell_type": "code",
   "execution_count": null,
   "metadata": {},
   "outputs": [],
   "source": []
  }
 ],
 "metadata": {
  "kernelspec": {
   "display_name": "R",
   "language": "R",
   "name": "ir"
  },
  "language_info": {
   "codemirror_mode": "r",
   "file_extension": ".r",
   "mimetype": "text/x-r-source",
   "name": "R",
   "pygments_lexer": "r",
   "version": "4.0.1"
  }
 },
 "nbformat": 4,
 "nbformat_minor": 2
}
