{
 "cells": [
  {
   "cell_type": "code",
   "execution_count": 10,
   "metadata": {},
   "outputs": [
    {
     "name": "stderr",
     "output_type": "stream",
     "text": [
      "Warning message:\n",
      "\"package 'usethis' is in use and will not be installed\"\n",
      "Warning message:\n",
      "\"package 'devtools' is in use and will not be installed\"\n",
      "Installing package into 'C:/Users/dalit/OneDrive/Documents/R/win-library/4.0'\n",
      "(as 'lib' is unspecified)\n",
      "\n"
     ]
    },
    {
     "name": "stdout",
     "output_type": "stream",
     "text": [
      "package 'ps' successfully unpacked and MD5 sums checked\n"
     ]
    },
    {
     "name": "stderr",
     "output_type": "stream",
     "text": [
      "Warning message:\n",
      "\"cannot remove prior installation of package 'ps'\"\n",
      "Warning message in file.copy(savedcopy, lib, recursive = TRUE):\n",
      "\"problem copying C:\\Users\\dalit\\OneDrive\\Documents\\R\\win-library\\4.0\\00LOCK\\ps\\libs\\x64\\ps.dll to C:\\Users\\dalit\\OneDrive\\Documents\\R\\win-library\\4.0\\ps\\libs\\x64\\ps.dll: Permission denied\"\n",
      "Warning message:\n",
      "\"restored 'ps'\"\n"
     ]
    },
    {
     "name": "stdout",
     "output_type": "stream",
     "text": [
      "\n",
      "The downloaded binary packages are in\n",
      "\tC:\\Users\\dalit\\AppData\\Local\\Temp\\RtmpwzI26w\\downloaded_packages\n"
     ]
    }
   ],
   "source": [
    "install.packages(\"usethis\")\n",
    "install.packages(\"devtools\")\n",
    "install.packages(\"ps\")\n",
    "library(devtools)\n"
   ]
  },
  {
   "cell_type": "code",
   "execution_count": 11,
   "metadata": {},
   "outputs": [
    {
     "name": "stderr",
     "output_type": "stream",
     "text": [
      "Downloading GitHub repo karpatit/mechkar@HEAD\n",
      "\n"
     ]
    },
    {
     "name": "stdout",
     "output_type": "stream",
     "text": [
      "ps           (NA          -> 1.4.0     ) [CRAN]\n",
      "backports    (1.1.7       -> 1.1.10    ) [CRAN]\n",
      "callr        (3.5.0       -> 3.5.1     ) [CRAN]\n",
      "withr        (2.2.0       -> 2.3.0     ) [CRAN]\n",
      "cli          (2.0.2       -> 2.1.0     ) [CRAN]\n",
      "vctrs        (0.3.2       -> 0.3.4     ) [CRAN]\n",
      "pillar       (1.4.4       -> 1.4.6     ) [CRAN]\n",
      "Rcpp         (1.0.4.6     -> 1.0.5     ) [CRAN]\n",
      "tibble       (3.0.3       -> 3.0.4     ) [CRAN]\n",
      "isoband      (0.2.1       -> 0.2.2     ) [CRAN]\n",
      "stringi      (1.4.6       -> 1.5.3     ) [CRAN]\n",
      "xfun         (0.14        -> 0.18      ) [CRAN]\n",
      "htmlwidgets  (1.5.1       -> 1.5.2     ) [CRAN]\n",
      "knitr        (1.28        -> 1.30      ) [CRAN]\n",
      "statmod      (1.4.34      -> 1.4.35    ) [CRAN]\n",
      "nloptr       (1.2.2.1     -> 1.2.2.2   ) [CRAN]\n",
      "cpp11        (0.2.2       -> 0.2.3     ) [CRAN]\n",
      "clipr        (0.7.0       -> 0.7.1     ) [CRAN]\n",
      "zip          (2.0.4       -> 2.1.1     ) [CRAN]\n",
      "readr        (1.3.1       -> 1.4.0     ) [CRAN]\n",
      "openxlsx     (4.1.5       -> 4.2.3     ) [CRAN]\n",
      "data.table   (1.12.8      -> 1.13.2    ) [CRAN]\n",
      "sp           (1.4-2       -> 1.4-4     ) [CRAN]\n",
      "RcppArmad... (0.9.900.1.0 -> 0.10.1.0.0) [CRAN]\n",
      "conquer      (NA          -> 1.0.2     ) [CRAN]\n",
      "lme4         (1.1-23      -> 1.1-25    ) [CRAN]\n",
      "pbapply      (1.4-2       -> 1.4-3     ) [CRAN]\n",
      "htmlTable    (1.13.3      -> 2.1.0     ) [CRAN]\n",
      "Formula      (1.2-3       -> 1.2-4     ) [CRAN]\n",
      "maptools     (1.0-1       -> 1.0-2     ) [CRAN]\n",
      "quantreg     (5.55        -> 5.75      ) [CRAN]\n",
      "car          (3.0-8       -> 3.0-10    ) [CRAN]\n"
     ]
    },
    {
     "name": "stderr",
     "output_type": "stream",
     "text": [
      "Installing 32 packages: ps, backports, callr, withr, cli, vctrs, pillar, Rcpp, tibble, isoband, stringi, xfun, htmlwidgets, knitr, statmod, nloptr, cpp11, clipr, zip, readr, openxlsx, data.table, sp, RcppArmadillo, conquer, lme4, pbapply, htmlTable, Formula, maptools, quantreg, car\n",
      "\n",
      "Installing packages into 'C:/Users/dalit/OneDrive/Documents/R/win-library/4.0'\n",
      "(as 'lib' is unspecified)\n",
      "\n"
     ]
    },
    {
     "name": "stdout",
     "output_type": "stream",
     "text": [
      "\n",
      "  There are binary versions available but the source versions are later:\n",
      "         binary source needs_compilation\n",
      "openxlsx  4.2.2  4.2.3              TRUE\n",
      "quantreg   5.74   5.75              TRUE\n",
      "\n",
      "package 'ps' successfully unpacked and MD5 sums checked\n"
     ]
    },
    {
     "ename": "ERROR",
     "evalue": "Error: Failed to install 'mechkar' from GitHub:\n  (converted from warning) cannot remove prior installation of package 'ps'\n",
     "output_type": "error",
     "traceback": [
      "Error: Failed to install 'mechkar' from GitHub:\n  (converted from warning) cannot remove prior installation of package 'ps'\nTraceback:\n",
      "1. install_github(\"karpatit/mechkar\")",
      "2. pkgbuild::with_build_tools({\n .     ellipsis::check_dots_used(action = getOption(\"devtools.ellipsis_action\", \n .         rlang::warn))\n .     {\n .         remotes <- lapply(repo, github_remote, ref = ref, subdir = subdir, \n .             auth_token = auth_token, host = host)\n .         install_remotes(remotes, auth_token = auth_token, host = host, \n .             dependencies = dependencies, upgrade = upgrade, force = force, \n .             quiet = quiet, build = build, build_opts = build_opts, \n .             build_manual = build_manual, build_vignettes = build_vignettes, \n .             repos = repos, type = type, ...)\n .     }\n . }, required = FALSE)",
      "3. withr::with_path(rtools_path(), code)",
      "4. force(code)",
      "5. install_remotes(remotes, auth_token = auth_token, host = host, \n .     dependencies = dependencies, upgrade = upgrade, force = force, \n .     quiet = quiet, build = build, build_opts = build_opts, build_manual = build_manual, \n .     build_vignettes = build_vignettes, repos = repos, type = type, \n .     ...)",
      "6. tryCatch(res[[i]] <- install_remote(remotes[[i]], ...), error = function(e) {\n .     stop(remote_install_error(remotes[[i]], e))\n . })",
      "7. tryCatchList(expr, classes, parentenv, handlers)",
      "8. tryCatchOne(expr, names, parentenv, handlers[[1L]])",
      "9. value[[3L]](cond)"
     ]
    }
   ],
   "source": [
    "install_github(\"karpatit/mechkar\")"
   ]
  }
 ],
 "metadata": {
  "kernelspec": {
   "display_name": "R",
   "language": "R",
   "name": "ir"
  },
  "language_info": {
   "codemirror_mode": "r",
   "file_extension": ".r",
   "mimetype": "text/x-r-source",
   "name": "R",
   "pygments_lexer": "r",
   "version": "4.0.1"
  }
 },
 "nbformat": 4,
 "nbformat_minor": 4
}
