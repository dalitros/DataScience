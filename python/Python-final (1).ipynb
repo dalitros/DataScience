{
 "cells": [
  {
   "cell_type": "markdown",
   "metadata": {},
   "source": [
    "# Python Intro - Final Exercise\n"
   ]
  },
  {
   "cell_type": "code",
   "execution_count": 39,
   "metadata": {},
   "outputs": [],
   "source": [
    "import pyodbc\n",
    "import pandas as pd\n",
    "import numpy as np"
   ]
  },
  {
   "cell_type": "code",
   "execution_count": 36,
   "metadata": {},
   "outputs": [],
   "source": [
    "### In windows, Using a ODBC DNS (predefined connection name)\n",
    "import pyodbc\n",
    "conn = pyodbc.connect(\"Driver={SQL Server Native Client 11.0};\"\n",
    "                      \"Server=DESKTOP-N6AVJGE\\SQLEXPRESS;\"\n",
    "                      \"Database=COLLEGE;\"\n",
    "                      \"Trusted_Connection=yes;\")\n"
   ]
  },
  {
   "cell_type": "code",
   "execution_count": 29,
   "metadata": {},
   "outputs": [],
   "source": [
    "import pyodbc \n",
    "cnxn = pyodbc.connect(\"Driver={SQL Server Native Client 11.0};\"\n",
    "                      \"Server=DESKTOP-N6AVJGE\\SQLEXPRESS;\"\n",
    "                      \"Database=COLLEGE;\"\n",
    "                      \"Trusted_Connection=yes;\")"
   ]
  },
  {
   "cell_type": "code",
   "execution_count": 37,
   "metadata": {},
   "outputs": [
    {
     "name": "stdout",
     "output_type": "stream",
     "text": [
      "row = (162.0, ' Elmira', 'Holston', 'F')\n",
      "row = (154.0, ' Sierra', 'Van Vorst', 'F')\n",
      "row = (28.0, ' Mycah', 'Bingham', 'F')\n",
      "row = (54.0, ' Alia', 'Jones', 'F')\n",
      "row = (31.0, ' Chanda', 'Fillmore', 'F')\n",
      "row = (272.0, ' Jennifer', 'Smith', 'F')\n",
      "row = (266.0, ' Maria', 'Gaddis', 'F')\n",
      "row = (259.0, ' Taiahbeth', 'Gerard', 'F')\n",
      "row = (101.0, ' Dakota', 'Iiams', 'F')\n",
      "row = (171.0, ' Emma', 'Gellatly', 'F')\n",
      "row = (94.0, ' Cydney', 'Petersen', 'F')\n",
      "row = (210.0, ' Breanna', 'Lightcap', 'F')\n",
      "row = (76.0, ' Caitlyn', 'Austin', 'F')\n",
      "row = (92.0, ' Jenny', 'Vanmeter', 'F')\n",
      "row = (80.0, ' Mckenna', 'Yoswa', 'F')\n",
      "row = (265.0, ' Hannah', 'Anttila', 'F')\n",
      "row = (105.0, ' Hannah', 'Wilkes', 'F')\n",
      "row = (196.0, ' Rebecca', 'Bruch', 'F')\n",
      "row = (177.0, ' Tamara', 'Webber', 'F')\n",
      "row = (141.0, ' Marissa', 'Karsten', 'F')\n",
      "row = (124.0, ' Shawna', 'East', 'F')\n",
      "row = (197.0, ' Abbey', 'Singley', 'F')\n",
      "row = (121.0, ' Corine', 'Hitch', 'F')\n",
      "row = (2.0, ' Cassie', 'Liska', 'F')\n",
      "row = (225.0, ' Megan', 'Edwards', 'F')\n",
      "row = (97.0, ' Amanda', 'Thomas', 'F')\n",
      "row = (79.0, ' Desiree', 'Baum', 'F')\n",
      "row = (190.0, ' Krista', 'Steigerwald', 'F')\n",
      "row = (110.0, ' Ashleigh', 'Conder', 'F')\n",
      "row = (198.0, ' Bibiana', 'Tonkin', 'F')\n",
      "row = (179.0, ' Asia', 'Roberts', 'F')\n",
      "row = (251.0, ' Heather', 'Williams', 'F')\n",
      "row = (11.0, ' Rachael', 'Williams', 'F')\n",
      "row = (42.0, ' Melissa', 'Crespin', 'F')\n",
      "row = (70.0, ' Kathryn', 'Olson', 'F')\n",
      "row = (36.0, ' Sarah', 'Sampson', 'F')\n",
      "row = (131.0, ' Brooke', 'Stimpson', 'F')\n",
      "row = (240.0, ' Katherine', 'Reid', 'F')\n",
      "row = (32.0, ' Mikaela', 'Anderson', 'F')\n",
      "row = (215.0, ' Sarah', 'Lodl', 'F')\n",
      "row = (56.0, ' Shelby', 'Robinson', 'F')\n",
      "row = (123.0, ' Kelsi', 'Taber', 'F')\n",
      "row = (194.0, ' Elizabeth', 'Collins', 'F')\n",
      "row = (136.0, ' Eve', 'Wells', 'F')\n",
      "row = (233.0, ' Alyssa', 'Zarazua', 'F')\n",
      "row = (184.0, ' Hailey', 'Nolke', 'F')\n",
      "row = (181.0, ' Samantha', 'Wright', 'F')\n",
      "row = (9.0, ' Madalyn', 'Miller', 'F')\n",
      "row = (113.0, ' Emily', 'Derr', 'F')\n",
      "row = (156.0, ' Alexis', 'Cruse', 'F')\n",
      "row = (152.0, ' Savanna', 'Crochet', 'F')\n",
      "row = (23.0, ' Angela', 'Palermo', 'F')\n",
      "row = (3.0, ' Hayley', 'Frank', 'F')\n",
      "row = (140.0, ' Kayla', 'Beard', 'F')\n",
      "row = (22.0, ' Alexandrea', 'Hannafious', 'F')\n",
      "row = (176.0, ' Ceanna', 'Cimino', 'F')\n",
      "row = (279.0, ' Samantha', 'Berend', 'F')\n",
      "row = (234.0, ' Adrianna', 'Bean', 'F')\n",
      "row = (1.0, ' Alexandria', 'Heller', 'F')\n",
      "row = (200.0, ' Elizabeth', 'Nelson', 'F')\n",
      "row = (39.0, ' Kayli', 'May', 'F')\n",
      "row = (12.0, ' Sophiya', 'Aponte', 'F')\n",
      "row = (89.0, ' Megan', 'Gerber', 'F')\n",
      "row = (241.0, ' Kaitlyn', 'Tuttle', 'F')\n",
      "row = (230.0, ' Heather', 'Bretz', 'F')\n",
      "row = (106.0, ' Alyssa', 'Cox', 'F')\n",
      "row = (59.0, ' Erika', 'Schilling', 'F')\n",
      "row = (187.0, ' Sabrina', 'Mcclure', 'F')\n",
      "row = (270.0, ' Brooke', 'Bishop', 'F')\n",
      "row = (166.0, ' Hailey', 'Landeros', 'F')\n",
      "row = (211.0, ' Heather', 'Franz', 'F')\n",
      "row = (274.0, ' Samantha', 'Anderson', 'F')\n",
      "row = (72.0, ' Hallie', 'Lockhart', 'F')\n",
      "row = (173.0, ' Natalie', 'Pridemore', 'F')\n",
      "row = (157.0, ' Cheyenne', 'Shawver', 'F')\n",
      "row = (170.0, ' Tarah', 'Gunnett', 'F')\n",
      "row = (41.0, ' Allison', 'Otey', 'F')\n",
      "row = (189.0, ' Jean', 'Brown', 'F')\n",
      "row = (16.0, ' Anina', 'Meneses', 'F')\n",
      "row = (20.0, ' Darby', 'Cobb', 'F')\n",
      "row = (129.0, ' Emily', 'Taylor', 'F')\n",
      "row = (132.0, ' Ellen', 'Einhellig', 'F')\n",
      "row = (164.0, ' Laurie', 'Kelso', 'F')\n",
      "row = (168.0, ' Alyssa', 'Grounds', 'F')\n",
      "row = (34.0, ' Caitlin', 'Guthrie', 'F')\n",
      "row = (232.0, ' Victoria', 'Kishinevsky', 'F')\n",
      "row = (100.0, ' Kelsie', 'Straus', 'F')\n",
      "row = (77.0, ' Brooke', 'Sandrock', 'F')\n",
      "row = (116.0, ' Kara', 'Morago', 'F')\n",
      "row = (52.0, ' Estell', 'Roche', 'F')\n",
      "row = (91.0, ' Natalie', 'Backlund', 'F')\n",
      "row = (142.0, ' Jennifer', 'Jones', 'F')\n",
      "row = (145.0, ' Kaylin', 'Jonseof', 'F')\n",
      "row = (275.0, ' Elise', 'Ohler', 'F')\n",
      "row = (117.0, ' Charlotte', 'Krimstock', 'F')\n",
      "row = (174.0, ' Anna', 'Cain', 'F')\n",
      "row = (128.0, ' Caitlyn', 'Simmons', 'F')\n",
      "row = (40.0, ' Kira', 'Dowswell', 'F')\n",
      "row = (153.0, ' Mercede', 'Cawthorne', 'F')\n",
      "row = (21.0, ' Kayla', 'Cameron', 'F')\n",
      "row = (57.0, ' Erin', 'Collins', 'F')\n",
      "row = (250.0, ' Robin', 'Golbus', 'F')\n",
      "row = (263.0, ' Kara', 'Sedlak', 'F')\n",
      "row = (84.0, ' Alyx', 'Hufford', 'F')\n",
      "row = (133.0, ' Julia', 'Lamont', 'F')\n",
      "row = (254.0, ' Victoria', 'Wert', 'F')\n",
      "row = (120.0, ' Alissa', 'Marsh', 'F')\n",
      "row = (10.0, ' Katrina', 'Miller', 'F')\n",
      "row = (45.0, ' Monica', 'Craig', 'F')\n",
      "row = (256.0, ' Kristina', 'Heline', 'F')\n",
      "row = (119.0, ' Raeanne', 'Mcguire', 'F')\n",
      "row = (134.0, ' Jenna', 'Swindler', 'F')\n",
      "row = (88.0, ' Maia', 'Kassem', 'F')\n",
      "row = (278.0, ' Sydney', 'Blas', 'F')\n",
      "row = (86.0, ' Alyssa', 'Fabian', 'F')\n",
      "row = (51.0, ' Kiana', 'Wilson', 'F')\n",
      "row = (102.0, ' Mercedes', 'Coyle', 'F')\n",
      "row = (25.0, ' Morgan', 'Wikowsky', 'F')\n",
      "row = (243.0, ' Haley', 'Mcguire', 'F')\n",
      "row = (231.0, ' Malena', 'Wofford', 'F')\n",
      "row = (96.0, ' Danielle', 'Smotherman', 'F')\n",
      "row = (180.0, ' Erin', 'Johnson', 'F')\n",
      "row = (95.0, ' Kaily', 'Omerigic', 'F')\n",
      "row = (163.0, ' Danika', 'Gordon', 'F')\n",
      "row = (229.0, ' Shelby', 'Lucio', 'F')\n",
      "row = (221.0, ' Tamera', 'Engel', 'F')\n",
      "row = (118.0, ' Molly', 'Galasso', 'F')\n",
      "row = (144.0, ' Elizabeth', 'Maliszewski', 'F')\n",
      "row = (191.0, ' Sarah', 'Bencomo', 'F')\n",
      "row = (209.0, ' Ashley', 'Cannon', 'F')\n",
      "row = (220.0, ' Rachel', 'Halbert', 'F')\n",
      "row = (182.0, ' Madison', 'Rutherford', 'F')\n",
      "row = (245.0, ' Mariah', 'Fox', 'F')\n",
      "row = (207.0, ' Samantha', 'Trice', 'F')\n",
      "row = (175.0, ' Macey', 'Wilson', 'F')\n",
      "row = (114.0, ' Nichole', 'Fisher', 'F')\n",
      "row = (247.0, ' Michaela', 'Anderson', 'F')\n",
      "row = (271.0, ' Mckayla', 'Greaser', 'F')\n",
      "row = (104.0, ' Jaquelyn', 'Borcic', 'F')\n",
      "row = (208.0, ' Alicia', 'Schlichting', 'F')\n",
      "row = (126.0, ' Jane', 'Breidt', 'F')\n",
      "row = (202.0, ' Autumn', 'Major', 'F')\n",
      "row = (260.0, ' Samantha', 'Untiedt', 'F')\n",
      "row = (224.0, ' Becka', 'Kitchen', 'F')\n",
      "row = (147.0, ' Melissa', 'Harman', 'F')\n",
      "row = (7.0, ' Katrina', 'Evers', 'F')\n",
      "row = (65.0, ' Julieann', 'Walker', 'F')\n",
      "row = (199.0, ' Ashton', 'Dixon', 'F')\n",
      "row = (14.0, ' Rossi', 'Panelli', 'F')\n",
      "row = (69.0, ' Kaitlyn', 'Brown', 'F')\n",
      "row = (85.0, ' Alyssa', 'Thornton', 'F')\n",
      "row = (183.0, ' Ashley', 'Walkey', 'F')\n",
      "row = (15.0, ' Catherine', 'Sturgeon', 'F')\n",
      "row = (6.0, ' Chelsea', 'Vuolo', 'F')\n",
      "row = (268.0, ' Lauren', 'Salazar', 'F')\n",
      "row = (219.0, ' Ashley', 'Beziou', 'F')\n",
      "row = (252.0, ' Kori', 'Roper', 'F')\n",
      "row = (267.0, ' Catherine', 'Lemme', 'F')\n",
      "row = (150.0, ' Emily', 'Beach', 'F')\n",
      "row = (226.0, ' Kalyn', 'Schroeder', 'F')\n",
      "row = (214.0, ' Katelyn', 'Miller', 'F')\n",
      "row = (67.0, ' Valerie', 'Dyer', 'F')\n",
      "row = (206.0, ' Rachel', 'Westcott', 'F')\n",
      "row = (24.0, ' Sarah', 'Reilly-Vessey', 'F')\n",
      "row = (146.0, ' Brighid', 'Hoenig', 'F')\n",
      "row = (122.0, ' Fisher', 'Harper', 'M')\n",
      "row = (258.0, ' Christian', 'Boucher', 'M')\n",
      "row = (195.0, ' Zachary', 'Yeager', 'M')\n",
      "row = (35.0, ' Wolfgang', 'Sinski', 'M')\n",
      "row = (18.0, ' Austin', 'Power', 'M')\n",
      "row = (127.0, ' Andrew', 'Holiday', 'M')\n",
      "row = (149.0, ' Alec', 'Miller', 'M')\n",
      "row = (37.0, ' Trevor', 'Cook', 'M')\n",
      "row = (165.0, ' Austin', 'Norris', 'M')\n",
      "row = (5.0, ' Dylan', 'Boehm', 'M')\n",
      "row = (185.0, ' Christopher', 'Patzoldt', 'M')\n",
      "row = (66.0, ' Bryce', 'Unger', 'M')\n",
      "row = (151.0, ' Eric', 'Haggard', 'M')\n",
      "row = (169.0, ' Patrick', 'Hinds', 'M')\n",
      "row = (148.0, ' Cody', 'Malacarne', 'M')\n",
      "row = (158.0, ' Mitchell', 'Fellhauer', 'M')\n",
      "row = (75.0, ' Samuel', 'Sellers', 'M')\n",
      "row = (244.0, ' Kyle', 'Albarelle', 'M')\n",
      "row = (30.0, ' Kyle', 'Nibbelink', 'M')\n",
      "row = (227.0, ' Shepherd', 'Gillham', 'M')\n",
      "row = (238.0, ' Jesse', 'Williamson', 'M')\n",
      "row = (255.0, ' Derrick', 'Mayberry', 'M')\n",
      "row = (280.0, ' Matthew', 'Mcgrath', 'M')\n",
      "row = (107.0, ' Gordon', 'Martensen', 'M')\n",
      "row = (277.0, ' Bryan', 'Medina', 'M')\n",
      "row = (249.0, ' Benjamin', 'Schott', 'M')\n",
      "row = (82.0, ' Andrew', 'Porter', 'M')\n",
      "row = (49.0, ' Kyle', 'Bartels', 'M')\n",
      "row = (130.0, ' Cory', 'Packard', 'M')\n",
      "row = (192.0, ' Gunnar', 'Abdulbaki', 'M')\n",
      "row = (33.0, ' Chance', 'Bittle', 'M')\n",
      "row = (186.0, ' Shaun', 'Krasovic', 'M')\n",
      "row = (217.0, ' Samuel', 'Pohlman', 'M')\n",
      "row = (276.0, ' Dylan', 'Bannister', 'M')\n",
      "row = (74.0, ' Wyatt', 'Maus', 'M')\n",
      "row = (115.0, ' Justin', 'Greenhalge', 'M')\n",
      "row = (213.0, ' Clifford', 'Coon', 'M')\n",
      "row = (17.0, ' Cody', 'Dawkins', 'M')\n",
      "row = (235.0, ' Justin', 'Sauerland', 'M')\n",
      "row = (253.0, ' Ruben', 'Mosher', 'M')\n",
      "row = (60.0, ' Zachary', 'Storey', 'M')\n",
      "row = (112.0, ' Dallas', 'Moyer', 'M')\n",
      "row = (212.0, ' Liam', 'Degenhardt', 'M')\n",
      "row = (242.0, ' Alex', 'Mandel', 'M')\n",
      "row = (160.0, ' Tyler', 'Menard', 'M')\n",
      "row = (53.0, ' Chase', 'Thorstensen', 'M')\n",
      "row = (264.0, ' Mitchell', 'Fiore', 'M')\n",
      "row = (87.0, ' David', 'Heffron', 'M')\n",
      "row = (178.0, ' Kevin', 'Roman', 'M')\n",
      "row = (58.0, ' Christopher', 'Buckley', 'M')\n",
      "row = (111.0, ' Robert', 'Adams', 'M')\n",
      "row = (125.0, ' Kevin', 'Shumate', 'M')\n",
      "row = (26.0, ' Kyle', 'Shepler', 'M')\n",
      "row = (43.0, ' Zachary', 'Haney', 'M')\n",
      "row = (273.0, ' Kenneth', 'Lemmon', 'M')\n",
      "row = (155.0, ' Erik', 'Strong', 'M')\n",
      "row = (138.0, ' Aaron', 'Dejoy', 'M')\n",
      "row = (78.0, ' Bryan', 'Haining', 'M')\n",
      "row = (193.0, ' Mason', 'Batchler', 'M')\n",
      "row = (109.0, ' Austin', 'Mottaghi', 'M')\n",
      "row = (61.0, ' Cory', 'Seabolt', 'M')\n",
      "row = (99.0, ' Jesse', 'Blacklock', 'M')\n",
      "row = (172.0, ' Matthew', 'Dougan', 'M')\n",
      "row = (27.0, ' Shawn', 'Foster', 'M')\n",
      "row = (203.0, ' Trenton', 'Goter', 'M')\n",
      "row = (261.0, ' Jordan', 'Tapp', 'M')\n",
      "row = (83.0, ' Adam', 'Stubblefield', 'M')\n",
      "row = (205.0, ' Austin', 'Jones', 'M')\n",
      "row = (68.0, ' Nicholas', 'Mckinney', 'M')\n",
      "row = (48.0, ' Kristian', 'Wombaker', 'M')\n",
      "row = (19.0, ' Devin', 'Tolstykh', 'M')\n"
     ]
    },
    {
     "name": "stdout",
     "output_type": "stream",
     "text": [
      "row = (4.0, ' Maxwell', 'Kotch', 'M')\n",
      "row = (139.0, ' Damion', 'Holladay', 'M')\n",
      "row = (222.0, ' Courtney', 'Shannahan', 'M')\n",
      "row = (81.0, ' Carter', 'Stasinos', 'M')\n",
      "row = (161.0, ' Cullen', 'Brewton', 'M')\n",
      "row = (103.0, ' Elias', 'Scharnikow', 'M')\n",
      "row = (98.0, ' Cody', 'Negley', 'M')\n",
      "row = (262.0, ' Luke', 'Van Cleave', 'M')\n",
      "row = (13.0, ' Elijah', 'Hogan', 'M')\n",
      "row = (143.0, ' Joshua', 'Spatafora', 'M')\n",
      "row = (159.0, ' Tyler', 'Helmuth', 'M')\n",
      "row = (8.0, ' Sean', 'Hasenack', 'M')\n",
      "row = (237.0, ' Joshua', 'Noel', 'M')\n",
      "row = (201.0, ' Levi', 'Mcpeak', 'M')\n",
      "row = (62.0, ' Cody', 'Chermak', 'M')\n",
      "row = (44.0, ' Edward', 'Swendson', 'M')\n",
      "row = (47.0, ' Keenan', 'Willy', 'M')\n",
      "row = (93.0, ' Dylan', 'Hartwig', 'M')\n",
      "row = (188.0, ' Brandon', 'Volk', 'M')\n",
      "row = (50.0, ' Zacary', 'Story', 'M')\n",
      "row = (137.0, ' Jerod', 'Ross', 'M')\n",
      "row = (257.0, ' Nicholas', 'Roth', 'M')\n",
      "row = (239.0, ' Evan', 'Fossett', 'M')\n",
      "row = (63.0, ' Francis', 'Hupp', 'M')\n",
      "row = (64.0, ' Noah', 'Berzina', 'M')\n",
      "row = (223.0, ' Edward', 'Doniger', 'M')\n",
      "row = (204.0, ' Luke', 'Taylor', 'M')\n",
      "row = (216.0, ' Ryan', 'Weinstein', 'M')\n",
      "row = (167.0, ' Jameson', 'Kinmartin', 'M')\n",
      "row = (38.0, ' Dustin', 'Mccarthy', 'M')\n",
      "row = (29.0, ' Chance', 'Mcdonough', 'M')\n",
      "row = (71.0, ' William', 'Listy', 'M')\n",
      "row = (236.0, ' Skylar', 'Blake', 'M')\n",
      "row = (90.0, ' Harrison', 'Olkowski', 'M')\n",
      "row = (248.0, ' Wyatt', 'Yeros', 'M')\n",
      "row = (108.0, ' Kevin', 'Clifton', 'M')\n",
      "row = (46.0, ' Clayton', 'Rehm', 'M')\n",
      "row = (73.0, ' Eric', 'Abeyta', 'M')\n",
      "row = (135.0, ' Daniel', 'Thelen-Wade', 'M')\n",
      "row = (246.0, ' Preston', 'Sprouse', 'M')\n",
      "row = (55.0, ' Dmitriy', 'Gage', 'M')\n",
      "row = (218.0, ' Skyler', 'Norris', 'M')\n",
      "row = (269.0, ' Tyler', 'Raymond', 'M')\n",
      "row = (228.0, ' Dylan', 'Davis', 'M')\n"
     ]
    }
   ],
   "source": [
    "cursor = conn.cursor()\n",
    "cursor.execute('SELECT * FROM Students')\n",
    "\n",
    "for row in cursor:\n",
    "    print('row = %r' % (row,))"
   ]
  },
  {
   "cell_type": "code",
   "execution_count": 38,
   "metadata": {},
   "outputs": [
    {
     "ename": "NameError",
     "evalue": "name 'df' is not defined",
     "output_type": "error",
     "traceback": [
      "\u001b[1;31m---------------------------------------------------------------------------\u001b[0m",
      "\u001b[1;31mNameError\u001b[0m                                 Traceback (most recent call last)",
      "\u001b[1;32m<ipython-input-38-83f6dce23156>\u001b[0m in \u001b[0;36m<module>\u001b[1;34m\u001b[0m\n\u001b[0;32m      1\u001b[0m \u001b[1;31m### Get the students table\u001b[0m\u001b[1;33m\u001b[0m\u001b[1;33m\u001b[0m\u001b[1;33m\u001b[0m\u001b[0m\n\u001b[0;32m      2\u001b[0m \u001b[0mstudents\u001b[0m \u001b[1;33m=\u001b[0m \u001b[0mpd\u001b[0m\u001b[1;33m.\u001b[0m\u001b[0mread_sql\u001b[0m\u001b[1;33m(\u001b[0m\u001b[1;34m\"SELECT * FROM Students;\"\u001b[0m\u001b[1;33m,\u001b[0m\u001b[0mconn\u001b[0m\u001b[1;33m)\u001b[0m\u001b[1;33m\u001b[0m\u001b[1;33m\u001b[0m\u001b[0m\n\u001b[1;32m----> 3\u001b[1;33m \u001b[0mdf\u001b[0m\u001b[1;33m.\u001b[0m\u001b[0mhead\u001b[0m\u001b[1;33m(\u001b[0m\u001b[1;33m)\u001b[0m\u001b[1;33m\u001b[0m\u001b[1;33m\u001b[0m\u001b[0m\n\u001b[0m",
      "\u001b[1;31mNameError\u001b[0m: name 'df' is not defined"
     ]
    }
   ],
   "source": [
    "### Get the students table\n",
    "students = pd.read_sql(\"SELECT * FROM Students;\",conn)\n",
    "df.head()"
   ]
  },
  {
   "cell_type": "markdown",
   "metadata": {},
   "source": [
    "# Questions\n",
    " \n",
    " \n",
    "## Q1. Count the number of students on each department"
   ]
  },
  {
   "cell_type": "code",
   "execution_count": null,
   "metadata": {},
   "outputs": [],
   "source": []
  },
  {
   "cell_type": "markdown",
   "metadata": {},
   "source": [
    "## Q2. How many students have each course of the English department and the total number of students in the department?"
   ]
  },
  {
   "cell_type": "code",
   "execution_count": null,
   "metadata": {},
   "outputs": [],
   "source": []
  },
  {
   "cell_type": "markdown",
   "metadata": {},
   "source": [
    "## Q3. How many small (<22 students) and large (22+ students) classrooms are needed for the Science department?"
   ]
  },
  {
   "cell_type": "code",
   "execution_count": null,
   "metadata": {},
   "outputs": [],
   "source": []
  },
  {
   "cell_type": "markdown",
   "metadata": {},
   "source": [
    "## Q4. A feminist student claims that there are more male than female in the College. Justify if the argument is correct"
   ]
  },
  {
   "cell_type": "code",
   "execution_count": null,
   "metadata": {},
   "outputs": [],
   "source": []
  },
  {
   "cell_type": "markdown",
   "metadata": {},
   "source": [
    "## Q5. For which courses the percentage of male/female students is over 70%?"
   ]
  },
  {
   "cell_type": "code",
   "execution_count": null,
   "metadata": {},
   "outputs": [],
   "source": []
  },
  {
   "cell_type": "markdown",
   "metadata": {},
   "source": [
    "## Q6. For each department, how many students passed with a grades over 80?"
   ]
  },
  {
   "cell_type": "code",
   "execution_count": null,
   "metadata": {},
   "outputs": [],
   "source": []
  },
  {
   "cell_type": "markdown",
   "metadata": {},
   "source": [
    "## Q7. For each department, how many students passed with a grades under 60?"
   ]
  },
  {
   "cell_type": "code",
   "execution_count": null,
   "metadata": {},
   "outputs": [],
   "source": []
  },
  {
   "cell_type": "markdown",
   "metadata": {},
   "source": [
    "## Q8. Rate the teachers by their average student's grades (in descending order)."
   ]
  },
  {
   "cell_type": "code",
   "execution_count": null,
   "metadata": {},
   "outputs": [],
   "source": []
  },
  {
   "cell_type": "markdown",
   "metadata": {},
   "source": [
    "## Q9. Create a dataframe showing the courses, departments they are associated with, the teacher in each course, and the number of students enrolled in the course (for each course, department and teacher show the names)."
   ]
  },
  {
   "cell_type": "code",
   "execution_count": null,
   "metadata": {},
   "outputs": [],
   "source": []
  },
  {
   "cell_type": "markdown",
   "metadata": {},
   "source": [
    "## Q10. Create a dataframe showing the students, the number of courses they take, the average of the grades per class, and their overall average (for each student show the student name)."
   ]
  },
  {
   "cell_type": "code",
   "execution_count": null,
   "metadata": {},
   "outputs": [],
   "source": []
  }
 ],
 "metadata": {
  "kernelspec": {
   "display_name": "Python 3",
   "language": "python",
   "name": "python3"
  },
  "language_info": {
   "codemirror_mode": {
    "name": "ipython",
    "version": 3
   },
   "file_extension": ".py",
   "mimetype": "text/x-python",
   "name": "python",
   "nbconvert_exporter": "python",
   "pygments_lexer": "ipython3",
   "version": "3.7.6"
  }
 },
 "nbformat": 4,
 "nbformat_minor": 2
}
