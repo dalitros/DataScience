{
 "cells": [
  {
   "cell_type": "markdown",
   "metadata": {},
   "source": [
    "# Exercises for part I - Try it at home"
   ]
  },
  {
   "cell_type": "markdown",
   "metadata": {},
   "source": [
    "## List\n",
    " \n",
    "1. Create a list of numbers from 1 to 10"
   ]
  },
  {
   "cell_type": "code",
   "execution_count": 83,
   "metadata": {},
   "outputs": [
    {
     "data": {
      "text/plain": [
       "[1, 2, 3, 4, 5, 6, 7, 8, 9, 10]"
      ]
     },
     "execution_count": 83,
     "metadata": {},
     "output_type": "execute_result"
    }
   ],
   "source": [
    "a = [1,2,3,4,5,6,7,8,9,10]\n",
    "a[0:11]"
   ]
  },
  {
   "cell_type": "markdown",
   "metadata": {},
   "source": [
    "2. Append to the list the number 20"
   ]
  },
  {
   "cell_type": "code",
   "execution_count": 84,
   "metadata": {},
   "outputs": [
    {
     "data": {
      "text/plain": [
       "[1, 2, 3, 4, 5, 6, 7, 8, 9, 10, 20]"
      ]
     },
     "execution_count": 84,
     "metadata": {},
     "output_type": "execute_result"
    }
   ],
   "source": [
    "a.append(20)\n",
    "a"
   ]
  },
  {
   "cell_type": "markdown",
   "metadata": {},
   "source": [
    "3. Insert two zeros after the fourth place of the list"
   ]
  },
  {
   "cell_type": "code",
   "execution_count": 85,
   "metadata": {},
   "outputs": [
    {
     "data": {
      "text/plain": [
       "[1, 2, 3, 4, 0, 0, 5, 6, 7, 8, 9, 10, 20]"
      ]
     },
     "execution_count": 85,
     "metadata": {},
     "output_type": "execute_result"
    }
   ],
   "source": [
    "\n",
    "a.insert(4,0)\n",
    "a.insert(5,0)\n",
    "a\n"
   ]
  },
  {
   "cell_type": "markdown",
   "metadata": {},
   "source": [
    "4. Sort the list in reverse order"
   ]
  },
  {
   "cell_type": "code",
   "execution_count": 86,
   "metadata": {},
   "outputs": [
    {
     "data": {
      "text/plain": [
       "[20, 10, 9, 8, 7, 6, 5, 4, 3, 2, 1, 0, 0]"
      ]
     },
     "execution_count": 86,
     "metadata": {},
     "output_type": "execute_result"
    }
   ],
   "source": [
    "a.sort(reverse=True)\n",
    "a"
   ]
  },
  {
   "cell_type": "markdown",
   "metadata": {},
   "source": [
    "5. Remove the last two items from the list"
   ]
  },
  {
   "cell_type": "code",
   "execution_count": 87,
   "metadata": {},
   "outputs": [
    {
     "data": {
      "text/plain": [
       "[20, 10, 9, 8, 7, 6, 5, 4, 3, 2, 1]"
      ]
     },
     "execution_count": 87,
     "metadata": {},
     "output_type": "execute_result"
    }
   ],
   "source": [
    "a.pop()\n",
    "a.pop()\n",
    "a"
   ]
  },
  {
   "cell_type": "markdown",
   "metadata": {},
   "source": [
    "6. Invert the order of the list"
   ]
  },
  {
   "cell_type": "code",
   "execution_count": 88,
   "metadata": {},
   "outputs": [
    {
     "data": {
      "text/plain": [
       "[1, 2, 3, 4, 5, 6, 7, 8, 9, 10, 20]"
      ]
     },
     "execution_count": 88,
     "metadata": {},
     "output_type": "execute_result"
    }
   ],
   "source": [
    "a.reverse()\n",
    "a"
   ]
  },
  {
   "cell_type": "markdown",
   "metadata": {},
   "source": [
    "7. How many items has the list?"
   ]
  },
  {
   "cell_type": "code",
   "execution_count": 97,
   "metadata": {},
   "outputs": [
    {
     "data": {
      "text/plain": [
       "11"
      ]
     },
     "execution_count": 97,
     "metadata": {},
     "output_type": "execute_result"
    }
   ],
   "source": [
    "len(a)\n"
   ]
  },
  {
   "cell_type": "markdown",
   "metadata": {},
   "source": [
    "8. Give the minimum, maximum and the sum of all the items in the list"
   ]
  },
  {
   "cell_type": "code",
   "execution_count": 99,
   "metadata": {},
   "outputs": [
    {
     "name": "stdout",
     "output_type": "stream",
     "text": [
      "1 20 75\n"
     ]
    }
   ],
   "source": [
    "print (min(a),max(a),sum(a))\n"
   ]
  },
  {
   "cell_type": "markdown",
   "metadata": {},
   "source": [
    "9. What will happen if you multiply the list by 2?"
   ]
  },
  {
   "cell_type": "code",
   "execution_count": 100,
   "metadata": {},
   "outputs": [
    {
     "name": "stdout",
     "output_type": "stream",
     "text": [
      "[1, 2, 3, 4, 5, 6, 7, 8, 9, 10, 20, 1, 2, 3, 4, 5, 6, 7, 8, 9, 10, 20]\n"
     ]
    }
   ],
   "source": [
    "print (a * 2)"
   ]
  },
  {
   "cell_type": "markdown",
   "metadata": {},
   "source": [
    "10. Can you divide the list by 3?"
   ]
  },
  {
   "cell_type": "code",
   "execution_count": 101,
   "metadata": {},
   "outputs": [
    {
     "ename": "TypeError",
     "evalue": "unsupported operand type(s) for /: 'list' and 'int'",
     "output_type": "error",
     "traceback": [
      "\u001b[1;31m---------------------------------------------------------------------------\u001b[0m",
      "\u001b[1;31mTypeError\u001b[0m                                 Traceback (most recent call last)",
      "\u001b[1;32m<ipython-input-101-7b21d3522214>\u001b[0m in \u001b[0;36m<module>\u001b[1;34m\u001b[0m\n\u001b[1;32m----> 1\u001b[1;33m \u001b[0mprint\u001b[0m \u001b[1;33m(\u001b[0m\u001b[0ma\u001b[0m \u001b[1;33m/\u001b[0m \u001b[1;36m3\u001b[0m\u001b[1;33m)\u001b[0m\u001b[1;33m\u001b[0m\u001b[1;33m\u001b[0m\u001b[0m\n\u001b[0m",
      "\u001b[1;31mTypeError\u001b[0m: unsupported operand type(s) for /: 'list' and 'int'"
     ]
    }
   ],
   "source": [
    "print (a / 3)"
   ]
  },
  {
   "cell_type": "markdown",
   "metadata": {},
   "source": [
    "# Tupples\n",
    " \n",
    "1. Create a tupple with three characters and four numbers"
   ]
  },
  {
   "cell_type": "code",
   "execution_count": 152,
   "metadata": {},
   "outputs": [
    {
     "data": {
      "text/plain": [
       "('A', 'B', 'C', 1, 2, 3, 4)"
      ]
     },
     "execution_count": 152,
     "metadata": {},
     "output_type": "execute_result"
    }
   ],
   "source": [
    "t = ('A','B','C',1,2,3,4)\n",
    "t"
   ]
  },
  {
   "cell_type": "markdown",
   "metadata": {},
   "source": [
    "2. Append two booleans (false, true) to the tupple"
   ]
  },
  {
   "cell_type": "code",
   "execution_count": 153,
   "metadata": {},
   "outputs": [
    {
     "data": {
      "text/plain": [
       "('A', 'B', 'C', 1, 2, 3, 4, False, True)"
      ]
     },
     "execution_count": 153,
     "metadata": {},
     "output_type": "execute_result"
    }
   ],
   "source": [
    "t = t + (False,True)\n",
    "t"
   ]
  },
  {
   "cell_type": "markdown",
   "metadata": {},
   "source": [
    "3. Retrieve the third to sixth items from the tupple"
   ]
  },
  {
   "cell_type": "code",
   "execution_count": 116,
   "metadata": {},
   "outputs": [
    {
     "name": "stdout",
     "output_type": "stream",
     "text": [
      "('C', 1, 2, 3)\n"
     ]
    }
   ],
   "source": [
    "print (t[2:6])"
   ]
  },
  {
   "cell_type": "markdown",
   "metadata": {},
   "source": [
    "4. Divide the tupple by data type and create a list for each, then create a muttable tupple using these lists "
   ]
  },
  {
   "cell_type": "code",
   "execution_count": 159,
   "metadata": {},
   "outputs": [
    {
     "name": "stdout",
     "output_type": "stream",
     "text": [
      "[1]\n",
      "[1, 2]\n",
      "[1, 2, 3]\n",
      "[1, 2, 3, 4]\n",
      "[1, 2, 3, 4] ['A', 'B', 'C'] [False, True]\n"
     ]
    },
    {
     "data": {
      "text/plain": [
       "([1, 2, 3, 4], ['A', 'B', 'C'], [False, True])"
      ]
     },
     "execution_count": 159,
     "metadata": {},
     "output_type": "execute_result"
    }
   ],
   "source": [
    "tint = []\n",
    "tstr = []\n",
    "tbool = []\n",
    "for w in t:\n",
    "    if(isinstance(w,bool)):\n",
    "        tbool.append(w)\n",
    "    elif(isinstance(w,int)):\n",
    "        tint.append(w)\n",
    "        print(tint)\n",
    "    elif(isinstance(w,str)):\n",
    "        tstr.append(w)\n",
    "    else:\n",
    "        print(\"%s is of %s\" % (w,type(w)))\n",
    "        \n",
    "print (tint, tstr, tbool)\n",
    "tint, tstr, tbool"
   ]
  },
  {
   "cell_type": "markdown",
   "metadata": {},
   "source": [
    "# Sets\n",
    " \n",
    "1. Create a set using the following paragraph:\n",
    " \n",
    "<quote>\n",
    "\"Shallow copy is a bit-wise copy of an object. A new object is created that has an exact copy of the values in the original object\"\n",
    "<quote>\n",
    " \n",
    "Note: Each part of the set must be a word, not a character!"
   ]
  },
  {
   "cell_type": "code",
   "execution_count": 167,
   "metadata": {},
   "outputs": [
    {
     "data": {
      "text/plain": [
       "{'A',\n",
       " 'Shallow',\n",
       " 'a',\n",
       " 'an',\n",
       " 'bit-wise',\n",
       " 'copy',\n",
       " 'created',\n",
       " 'exact',\n",
       " 'has',\n",
       " 'in',\n",
       " 'is',\n",
       " 'new',\n",
       " 'object',\n",
       " 'object.',\n",
       " 'of',\n",
       " 'original',\n",
       " 'that',\n",
       " 'the',\n",
       " 'values'}"
      ]
     },
     "execution_count": 167,
     "metadata": {},
     "output_type": "execute_result"
    }
   ],
   "source": [
    "s = \"Shallow copy is a bit-wise copy of an object. A new object is created that has an exact copy of the values in the original object\"\n",
    "sp = s.split()\n",
    "spl = set(sp)\n",
    "spl"
   ]
  },
  {
   "cell_type": "code",
   "execution_count": 170,
   "metadata": {},
   "outputs": [
    {
     "data": {
      "text/plain": [
       "{'A',\n",
       " 'Shallow',\n",
       " 'a',\n",
       " 'an',\n",
       " 'bit-wise',\n",
       " 'copy',\n",
       " 'created',\n",
       " 'exact',\n",
       " 'has',\n",
       " 'in',\n",
       " 'is',\n",
       " 'new',\n",
       " 'object',\n",
       " 'object.',\n",
       " 'of',\n",
       " 'original',\n",
       " 'that',\n",
       " 'the',\n",
       " 'values'}"
      ]
     },
     "execution_count": 170,
     "metadata": {},
     "output_type": "execute_result"
    }
   ],
   "source": [
    "set(\"Shallow copy is a bit-wise copy of an object. A new object is created that has an exact copy of the values in the original object\".split())"
   ]
  },
  {
   "cell_type": "markdown",
   "metadata": {},
   "source": [
    "2. Do you see something wierd in this set? What? How can you prevent that?"
   ]
  },
  {
   "cell_type": "code",
   "execution_count": null,
   "metadata": {},
   "outputs": [],
   "source": []
  },
  {
   "cell_type": "markdown",
   "metadata": {},
   "source": [
    "# Dictionary\n",
    " \n",
    "1. Generate a dictionary from the following table:\n",
    "\n",
    "<table>\n",
    "    <tr> <th> EmployeeID </th> <th> Name </th> <th> Position </th> <th> Phone </th> </tr>\n",
    "    <tr> <td> 1020 </td> <td> Harry Smith </td> <td> Sales Manager </td> <td> 030-223.65.44 </td> </tr>\n",
    "    <tr> <td> 2201 </td><td> Margaret Holsum </td> <td> Sales Representative </td> <td> 030-223.64.12 </td> </tr>\n",
    "    <tr> <td> 3320 </td><td> Lasly Howard </td> <td> Human Resources </td> <td> 030-223.83.33 </td> </tr>\n",
    "    <tr> <td> 8111 </td><td> Larry Johnson </td> <td> Project Manager </td> <td> 030-224.22.00 </td> </tr>\n",
    "    <tr> <td> 2733 </td><td> Hellen Young </td> <td> Customer Service </td> <td> 030-223.03.20 </td> </tr>\n",
    "</table>\n"
   ]
  },
  {
   "cell_type": "code",
   "execution_count": 204,
   "metadata": {},
   "outputs": [
    {
     "data": {
      "text/plain": [
       "[{'Phone': '030-223.65.44',\n",
       "  'Position': 'Sales Manager',\n",
       "  'Name': 'Harry Smith',\n",
       "  'EmployeeID': '1020'},\n",
       " {'Phone': '030-223.64.12',\n",
       "  'Position': 'Sales Representative',\n",
       "  'Name': 'Margaret Holsum',\n",
       "  'EmployeeID': '2201'},\n",
       " {'Phone': '030-223.83.33',\n",
       "  'Position': 'Human Resources',\n",
       "  'Name': 'Lasly Howard',\n",
       "  'EmployeeID': '3320'}]"
      ]
     },
     "execution_count": 204,
     "metadata": {},
     "output_type": "execute_result"
    }
   ],
   "source": [
    "dic = ([{'Phone': '030-223.65.44','Position': 'Sales Manager','Name':'Harry Smith','EmployeeID':'1020'},{'Phone':'030-223.64.12','Position': 'Sales Representative','Name':'Margaret Holsum','EmployeeID':'2201'},{'Phone': '030-223.83.33','Position': 'Human Resources','Name':'Lasly Howard','EmployeeID':'3320'}])\n",
    "dic"
   ]
  },
  {
   "cell_type": "code",
   "execution_count": null,
   "metadata": {},
   "outputs": [],
   "source": [
    "dic = ({'Phone':['030-223.65.44','030-223.64.12'],"
   ]
  },
  {
   "cell_type": "code",
   "execution_count": 192,
   "metadata": {},
   "outputs": [
    {
     "data": {
      "text/plain": [
       "{'Phone': '030-223.65.44',\n",
       " 'Position': 'Sales Manager',\n",
       " 'Name': 'Harry Smith',\n",
       " 'EmployeeID': '1020'}"
      ]
     },
     "execution_count": 192,
     "metadata": {},
     "output_type": "execute_result"
    }
   ],
   "source": [
    "dic1 = {'Phone': '030-223.65.44','Position': 'Sales Manager','Name':'Harry Smith','EmployeeID':'1020'}\n",
    "dic1"
   ]
  },
  {
   "cell_type": "markdown",
   "metadata": {},
   "source": [
    "1. Get all the keys of the dictionary"
   ]
  },
  {
   "cell_type": "code",
   "execution_count": 202,
   "metadata": {},
   "outputs": [
    {
     "data": {
      "text/plain": [
       "dict_keys(['Phone', 'Position', 'Name', 'EmployeeID'])"
      ]
     },
     "execution_count": 202,
     "metadata": {},
     "output_type": "execute_result"
    }
   ],
   "source": [
    "dic1.keys()"
   ]
  },
  {
   "cell_type": "markdown",
   "metadata": {},
   "source": [
    "2. Get all the values of the dictionary"
   ]
  },
  {
   "cell_type": "code",
   "execution_count": 203,
   "metadata": {},
   "outputs": [
    {
     "data": {
      "text/plain": [
       "dict_values(['030-223.65.44', 'Sales Manager', 'Harry Smith', '1020'])"
      ]
     },
     "execution_count": 203,
     "metadata": {},
     "output_type": "execute_result"
    }
   ],
   "source": [
    "dic1.values()"
   ]
  },
  {
   "cell_type": "markdown",
   "metadata": {},
   "source": [
    "3. Show the third row of the table by calling the dictionary using the respective EmployeeID"
   ]
  },
  {
   "cell_type": "code",
   "execution_count": null,
   "metadata": {},
   "outputs": [],
   "source": []
  },
  {
   "cell_type": "markdown",
   "metadata": {},
   "source": [
    "# Loop programming in python\n",
    " \n",
    "1. Write a script that shows all the primary numbers from 1 to 100. Use for.. loop and if..else"
   ]
  },
  {
   "cell_type": "code",
   "execution_count": null,
   "metadata": {},
   "outputs": [],
   "source": [
    "y = 0\n",
    "for x in range(100):\n",
    "    if x/2\n",
    "    if(y / 2 > 200):\n",
    "        break\n",
    "    if(y % 2 == 0):\n",
    "        print(y, 'divide exactly by 2', ' = ', y//2)\n",
    "    else:\n",
    "        print(y, 'is not multiple of 2')\n",
    "        "
   ]
  },
  {
   "cell_type": "markdown",
   "metadata": {},
   "source": [
    "2. Write a different solution to the problem in the last question, but using while.. in place of for.."
   ]
  },
  {
   "cell_type": "code",
   "execution_count": null,
   "metadata": {},
   "outputs": [],
   "source": [
    "for i in range(5,10):\n",
    "    print(i)"
   ]
  }
 ],
 "metadata": {
  "kernelspec": {
   "display_name": "Python 3",
   "language": "python",
   "name": "python3"
  },
  "language_info": {
   "codemirror_mode": {
    "name": "ipython",
    "version": 3
   },
   "file_extension": ".py",
   "mimetype": "text/x-python",
   "name": "python",
   "nbconvert_exporter": "python",
   "pygments_lexer": "ipython3",
   "version": "3.7.6"
  }
 },
 "nbformat": 4,
 "nbformat_minor": 2
}
