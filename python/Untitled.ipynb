{
 "cells": [
  {
   "cell_type": "code",
   "execution_count": 3,
   "metadata": {},
   "outputs": [],
   "source": [
    "import pyodbc\n",
    "import pandas as pd\n",
    "import numpy as np"
   ]
  },
  {
   "cell_type": "code",
   "execution_count": 1,
   "metadata": {},
   "outputs": [],
   "source": [
    "### In windows, Using a ODBC DNS (predefined connection name)\n",
    "import pyodbc\n",
    "conn = pyodbc.connect(\"Driver={SQL Server Native Client 11.0};\"\n",
    "                      \"Server=DESKTOP-N6AVJGE\\SQLEXPRESS;\"\n",
    "                      \"Database=phyto_project;\"\n",
    "                      \"Trusted_Connection=yes;\")"
   ]
  },
  {
   "cell_type": "code",
   "execution_count": 4,
   "metadata": {},
   "outputs": [
    {
     "data": {
      "text/html": [
       "<div>\n",
       "<style scoped>\n",
       "    .dataframe tbody tr th:only-of-type {\n",
       "        vertical-align: middle;\n",
       "    }\n",
       "\n",
       "    .dataframe tbody tr th {\n",
       "        vertical-align: top;\n",
       "    }\n",
       "\n",
       "    .dataframe thead th {\n",
       "        text-align: right;\n",
       "    }\n",
       "</style>\n",
       "<table border=\"1\" class=\"dataframe\">\n",
       "  <thead>\n",
       "    <tr style=\"text-align: right;\">\n",
       "      <th></th>\n",
       "      <th>d_stamp</th>\n",
       "      <th>t_stamp</th>\n",
       "      <th>chlorophyll_concentration</th>\n",
       "      <th>turbidity_units</th>\n",
       "      <th>dt_stamp</th>\n",
       "    </tr>\n",
       "  </thead>\n",
       "  <tbody>\n",
       "    <tr>\n",
       "      <th>0</th>\n",
       "      <td>23/01/2018</td>\n",
       "      <td>11:40:10</td>\n",
       "      <td>0.1904</td>\n",
       "      <td>0.183</td>\n",
       "      <td>23/01/2018 11:40:10</td>\n",
       "    </tr>\n",
       "    <tr>\n",
       "      <th>1</th>\n",
       "      <td>23/01/2018</td>\n",
       "      <td>12:10:12</td>\n",
       "      <td>0.3808</td>\n",
       "      <td>0.2196</td>\n",
       "      <td>23/01/2018 12:10:12</td>\n",
       "    </tr>\n",
       "    <tr>\n",
       "      <th>2</th>\n",
       "      <td>23/01/2018</td>\n",
       "      <td>12:40:13</td>\n",
       "      <td>0.1309</td>\n",
       "      <td>0.2135</td>\n",
       "      <td>23/01/2018 12:40:13</td>\n",
       "    </tr>\n",
       "    <tr>\n",
       "      <th>3</th>\n",
       "      <td>23/01/2018</td>\n",
       "      <td>13:10:10</td>\n",
       "      <td>0.4165</td>\n",
       "      <td>0.1586</td>\n",
       "      <td>23/01/2018 13:10:10</td>\n",
       "    </tr>\n",
       "    <tr>\n",
       "      <th>4</th>\n",
       "      <td>23/01/2018</td>\n",
       "      <td>13:40:12</td>\n",
       "      <td>0.3808</td>\n",
       "      <td>0.183</td>\n",
       "      <td>23/01/2018 13:40:12</td>\n",
       "    </tr>\n",
       "  </tbody>\n",
       "</table>\n",
       "</div>"
      ],
      "text/plain": [
       "      d_stamp   t_stamp chlorophyll_concentration turbidity_units  \\\n",
       "0  23/01/2018  11:40:10                    0.1904           0.183   \n",
       "1  23/01/2018  12:10:12                    0.3808          0.2196   \n",
       "2  23/01/2018  12:40:13                    0.1309          0.2135   \n",
       "3  23/01/2018  13:10:10                    0.4165          0.1586   \n",
       "4  23/01/2018  13:40:12                    0.3808           0.183   \n",
       "\n",
       "              dt_stamp  \n",
       "0  23/01/2018 11:40:10  \n",
       "1  23/01/2018 12:10:12  \n",
       "2  23/01/2018 12:40:13  \n",
       "3  23/01/2018 13:10:10  \n",
       "4  23/01/2018 13:40:12  "
      ]
     },
     "execution_count": 4,
     "metadata": {},
     "output_type": "execute_result"
    }
   ],
   "source": [
    "### Get the students table\n",
    "import pandas as pd\n",
    "flntu2 = pd.read_sql(\"SELECT * FROM flntu2;\",conn)\n",
    "flntu2.head()"
   ]
  },
  {
   "cell_type": "code",
   "execution_count": null,
   "metadata": {},
   "outputs": [],
   "source": []
  }
 ],
 "metadata": {
  "kernelspec": {
   "display_name": "Python 3",
   "language": "python",
   "name": "python3"
  },
  "language_info": {
   "codemirror_mode": {
    "name": "ipython",
    "version": 3
   },
   "file_extension": ".py",
   "mimetype": "text/x-python",
   "name": "python",
   "nbconvert_exporter": "python",
   "pygments_lexer": "ipython3",
   "version": "3.7.6"
  }
 },
 "nbformat": 4,
 "nbformat_minor": 4
}
